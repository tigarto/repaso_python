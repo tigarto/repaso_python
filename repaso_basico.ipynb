{
 "cells": [
  {
   "cell_type": "markdown",
   "metadata": {},
   "source": [
    "[![Open In Colab](https://colab.research.google.com/assets/colab-badge.svg)](https://colab.research.google.com/github/tigarto/repaso_python/blob/master/repaso_basico.ipynb)"
   ]
  },
  {
   "cell_type": "markdown",
   "metadata": {},
   "source": [
    "## Variables ##\n",
    "\n",
    "### Tipos de datos escalares ###\n",
    "\n",
    "En Python existen cuatro tipos de datos escalares:\n",
    "* **int**: números enteros (ej.: 7)\n",
    "* **float**: números reales (ej.: 8.295)\n",
    "* **bool**: valores booleanos (ej.: verdadero (True) o falso (False))\n",
    "* **None**: vacío, representa la ausencia de datos\n",
    "\n",
    "Para saber el tipo de dato al que pertenece una variable se suele emplear la función **type()**. A continuación se muestan algunos ejemplos:"
   ]
  },
  {
   "cell_type": "code",
   "execution_count": 2,
   "metadata": {},
   "outputs": [
    {
     "name": "stdout",
     "output_type": "stream",
     "text": [
      "3\n",
      "<class 'int'>\n"
     ]
    }
   ],
   "source": [
    "\"\"\" integer \"\"\"\n",
    "x = 3\n",
    "print(x)              # Imprimiendo valor de la variable\n",
    "print(type(x))        # Imprimiendo el tipo de dato de la variable"
   ]
  },
  {
   "cell_type": "code",
   "execution_count": 3,
   "metadata": {},
   "outputs": [
    {
     "name": "stdout",
     "output_type": "stream",
     "text": [
      "3.0\n",
      "<class 'float'>\n"
     ]
    }
   ],
   "source": [
    "\"\"\" floating point number \"\"\"\n",
    "y = 3.                \n",
    "print(y)              # Imprimiendo valor de la variable\n",
    "print(type(y))        # Imprimiendo el tipo de dato de la variable"
   ]
  },
  {
   "cell_type": "code",
   "execution_count": 4,
   "metadata": {},
   "outputs": [
    {
     "name": "stdout",
     "output_type": "stream",
     "text": [
      "True\n",
      "<class 'bool'>\n"
     ]
    }
   ],
   "source": [
    "\"\"\" booleam \"\"\"\n",
    "ban = True \n",
    "print(ban)            # Imprimiendo valor de la variable\n",
    "print(type(ban))      # Imprimiendo el tipo de dato de la variable"
   ]
  },
  {
   "cell_type": "code",
   "execution_count": 5,
   "metadata": {},
   "outputs": [
    {
     "name": "stdout",
     "output_type": "stream",
     "text": [
      "None\n",
      "<class 'NoneType'>\n"
     ]
    }
   ],
   "source": [
    "\"\"\" None \"\"\"\n",
    "z = None\n",
    "print(z)            # Imprimiendo valor de la variable\n",
    "print(type(z))      # Imprimiendo el tipo de dato de la variable"
   ]
  },
  {
   "cell_type": "markdown",
   "metadata": {},
   "source": [
    "**Nombres de variables**: Hay dos estilos de nombrado de variables en programación:\n",
    "1. **camelCase**.\n",
    "2. **snake_case** or **lower_case_with_underscore** \n",
    "\n",
    "Todo nombre de variable (funcion y clase) debe empezar con una letra o un underscore (_). Es posible incluir numeros."
   ]
  },
  {
   "cell_type": "markdown",
   "metadata": {},
   "source": [
    "### Strings: cadenas de caracteres ###\n",
    "\n",
    "Los string son secuencias de caracteres (símbolos) que tienen asociado un único identificador (variable). Son muy utilizados debido a que la mayoría de los programas necesitan en algún momento almacenar y procesar textos."
   ]
  },
  {
   "cell_type": "code",
   "execution_count": 6,
   "metadata": {},
   "outputs": [
    {
     "name": "stdout",
     "output_type": "stream",
     "text": [
      "Mr. Anderson!!! welcome back\n",
      "Hasta la vista baby\n",
      "<class 'str'>\n"
     ]
    }
   ],
   "source": [
    "\"\"\" strings \"\"\"\n",
    "s1 = \"Mr. Anderson!!! welcome back\"\n",
    "s2 = 'Hasta la vista baby' \n",
    "print(s1)\n",
    "print(s2)\n",
    "print(type(s1))"
   ]
  },
  {
   "cell_type": "markdown",
   "metadata": {},
   "source": [
    "#### Operadores basicos de los string ####\n",
    "* **Concatenación**: Emplea el signo mas (+) para unir dos string. \n",
    "\n",
    "```python\n",
    "string1 + string2\n",
    "```\n",
    "\n",
    "* **Repetición**: Emplea el signo por (*) el cual, cuando se usa multiplicando un entero **n** por un string hace que este se repina **n** veces.\n",
    "\n",
    "```python\n",
    "num*string\n",
    "```\n",
    "\n",
    "* **Longitug**: Función que permite obtener la longitud se un string.\n",
    "\n",
    "```python\n",
    "len(string)\n",
    "```"
   ]
  },
  {
   "cell_type": "code",
   "execution_count": 11,
   "metadata": {},
   "outputs": [
    {
     "name": "stdout",
     "output_type": "stream",
     "text": [
      "Hola\n",
      "HolaAdios\n",
      "Hola Adios\n",
      "zzz\n",
      "\n",
      "Hola AdiosHola AdiosHola Adios\n",
      "\n",
      "\n",
      "4\n",
      "5\n",
      "1\n",
      "10\n",
      "Adios pues\n"
     ]
    }
   ],
   "source": [
    "\"\"\"Operacioes basicas con string\"\"\"\n",
    "s1 = \"Hola\"\n",
    "s2 = \"Adios\"\n",
    "s3 = \"z\"\n",
    "\n",
    "# Concatenacion y repeticion \n",
    "veces = 10\n",
    "print(s1)\n",
    "print(s1 + s2)\n",
    "print(s1 + \" \" + s2)\n",
    "print(3*s3)\n",
    "print()\n",
    "s4 = s1 + \" \" + s2\n",
    "print(3*s4)\n",
    "print(0*s4)\n",
    "print(-3*s4)\n",
    "# Longitud\n",
    "print(len(s1))\n",
    "print(len(s2))\n",
    "print(len(s3))\n",
    "print(len(s4))\n",
    "print(\"Adios pues\")"
   ]
  },
  {
   "cell_type": "markdown",
   "metadata": {},
   "source": [
    "#### Acceso a los elementos de un string ####\n",
    "La operación fundamental cuando se trabaja con arreglos es la **indexación**. Para indexar los caracteres en un string se usan los corchestes [] colocando el subindice o la secuencia de indexado especifica.\n",
    "\n",
    "Los diferentes tipos de indexación son:\n",
    "1. **Acceso a un unico elemento**: Sea un string **S** de **N** elementos, el acceso a uno de los elementos se hace mediante un subindice **i** entre **0** y **N - 1**. Python tambien soporta indexado negativo siendo **-1** el ultimo del string y **-N** el primer elemento."
   ]
  },
  {
   "cell_type": "code",
   "execution_count": 16,
   "metadata": {},
   "outputs": [
    {
     "name": "stdout",
     "output_type": "stream",
     "text": [
      "Universidad de Antioquia\n",
      "24\n",
      "\n",
      "U\n",
      "r\n",
      "A\n",
      "i\n",
      "a\n",
      "\n",
      "U\n",
      "r\n",
      "A\n",
      "i\n",
      "a\n"
     ]
    }
   ],
   "source": [
    "\"\"\" Indexado a un unico elemento \"\"\"\n",
    "universidad = \"Universidad de Antioquia\"\n",
    "print(universidad)\n",
    "print(len(universidad))\n",
    "print()\n",
    "# Indexado con subindices positivos para obtener la U, r, A, i (ultima), a (ultima)\n",
    "print(universidad[0])\n",
    "print(universidad[5])\n",
    "print(universidad[15])\n",
    "print(universidad[22])\n",
    "print(universidad[23])\n",
    "print()\n",
    "# Indexado con subindices positivos para obtener la U, r, A, i (ultima), a (ultima)\n",
    "print(universidad[-24])\n",
    "print(universidad[-19])\n",
    "print(universidad[-9])\n",
    "print(universidad[-2])\n",
    "print(universidad[-1])\n",
    "\n"
   ]
  },
  {
   "cell_type": "markdown",
   "metadata": {},
   "source": [
    "2. **Slicing**: Operación empleada para acceder a un segmento de un string. Tenemos para tal fin varias formas:\n",
    "   * Usando la sintaxis **[start:stop]**, en donde se extraen los caracteres entre la posiciones **start** y **stop - 1**:\n",
    "   * Usando la sintaxis **[start:stop:step]** Aqui, se define el tamaño del paso (**step**) cuyo valor por defecto es menos 1."
   ]
  },
  {
   "cell_type": "code",
   "execution_count": 56,
   "metadata": {},
   "outputs": [
    {
     "name": "stdout",
     "output_type": "stream",
     "text": [
      "Universidad de Antioquia\n",
      "Longitud: 24\n",
      "Universidad de Antioquia\n",
      "\n",
      "Universidad de Antioqui\n",
      "Universidad \n",
      "Antioquia\n",
      "\n",
      "Ueddnq\n",
      "Atou\n"
     ]
    }
   ],
   "source": [
    "\"\"\"slicing\"\"\"\n",
    "universidad = 'Universidad de Antioquia'\n",
    "print(universidad)\n",
    "print(\"Longitud:\",len(universidad))\n",
    "print(universidad[0:len(universidad)])\n",
    "print()\n",
    "# Forma: [start:stop]\n",
    "print(universidad[0:23])\n",
    "print(universidad[0:12])\n",
    "print(universidad[15:24])\n",
    "print()\n",
    "# Forma: [start:stop:step]\n",
    "print(universidad[0:24:4])\n",
    "print(universidad[15:22:2])\n"
   ]
  },
  {
   "cell_type": "markdown",
   "metadata": {},
   "source": [
    "Cuando se omite en el intervalo el **start** o el **stop**, se toma por defecto el princio y el final de string, respectivamente. Por otro lado, cuando se omite el **step**, el valor que este toma por default es 1."
   ]
  },
  {
   "cell_type": "code",
   "execution_count": 57,
   "metadata": {},
   "outputs": [
    {
     "name": "stdout",
     "output_type": "stream",
     "text": [
      "Universidad de Antioquia\n",
      "\n",
      "Universidad de Antioquia\n",
      "Antioquia\n",
      "Universidad de \n",
      "Universidad de Antioquia\n",
      "\n",
      "Universidad de Antioquia\n",
      "Ueddnq\n",
      "aiuqoitnA ed dadisrevinU\n",
      "aqt  dri\n"
     ]
    }
   ],
   "source": [
    "\"\"\"slicing\"\"\"\n",
    "universidad = 'Universidad de Antioquia'\n",
    "print(universidad)\n",
    "l = len(universidad)\n",
    "print()\n",
    "# Forma: [start:stop]\n",
    "print(universidad[:])\n",
    "print(universidad[15:])\n",
    "print(universidad[:15])\n",
    "print(universidad[-l:])\n",
    "print()\n",
    "print(universidad[-l::])\n",
    "print(universidad[::4])\n",
    "print(universidad[-1:-(l+1):-1])\n",
    "print(universidad[-1::-3])"
   ]
  },
  {
   "cell_type": "markdown",
   "metadata": {},
   "source": [
    "## Print ##\n",
    "\n",
    "**print** permite poner en pantalla información literal así como valores de variables. Existen varias maneras de hacer esto. A continuación se muestra como:\n",
    "1. **Imprimir concatenando strings con el signo +**:\n"
   ]
  },
  {
   "cell_type": "code",
   "execution_count": 58,
   "metadata": {},
   "outputs": [
    {
     "name": "stdout",
     "output_type": "stream",
     "text": [
      "Comúnmente\n"
     ]
    }
   ],
   "source": [
    "# Contatenación de strings con +\n",
    "print(\"Común\"+\"mente\")"
   ]
  },
  {
   "cell_type": "markdown",
   "metadata": {},
   "source": [
    "2. **Imprimir concatenando strings la coma o con el espacio**:\n"
   ]
  },
  {
   "cell_type": "code",
   "execution_count": 59,
   "metadata": {},
   "outputs": [
    {
     "name": "stdout",
     "output_type": "stream",
     "text": [
      "Comúnmente\n",
      "Común mente\n",
      "('Común', 'mente')\n"
     ]
    }
   ],
   "source": [
    "#La función print concatena dependiendo de como son las entradas.\n",
    "#A continuación se muestran tres resultados diferentes \n",
    "\n",
    "print(\"Común\" \"mente\")\n",
    "print(\"Común\",\"mente\")\n",
    "print((\"Común\",\"mente\"))"
   ]
  },
  {
   "cell_type": "markdown",
   "metadata": {},
   "source": [
    "3. **Empleando el operador % para formatear la salida**: Este es similar al caso de C."
   ]
  },
  {
   "cell_type": "code",
   "execution_count": 63,
   "metadata": {},
   "outputs": [
    {
     "name": "stdout",
     "output_type": "stream",
     "text": [
      "value = 3.343569\n",
      "value1 = 3.142. value2 = 1\n",
      "6.0\n",
      "The sum of x and y is 6.00\n",
      "3 + 3.00 = 6\n"
     ]
    }
   ],
   "source": [
    "# Podemos usar la función print en forma similar a como es usada en C\n",
    "print(\"value = %f\" %3.343569)\n",
    "\n",
    "s2 = \"value1 = %.3f. value2 = %d\" % (3.1415, 1.5)\n",
    "print(s2)\n",
    "\n",
    "x = 3 # integer\n",
    "y = 3. # floating point number\n",
    "sum_ = x + y # int + float = float\n",
    "print(sum_)\n",
    "print(\"The sum of x and y is %.2f\"%sum_) # %f for floating point number\n",
    "print(\"%d + %.2f = %d\"%(x , y, sum_)) # %f for floating point number"
   ]
  },
  {
   "cell_type": "markdown",
   "metadata": {},
   "source": [
    "4. Usando el metodo **format** de los datos **string**.\n",
    "\n"
   ]
  },
  {
   "cell_type": "code",
   "execution_count": 72,
   "metadata": {},
   "outputs": [
    {
     "name": "stdout",
     "output_type": "stream",
     "text": [
      "The sum of 3 and 3.0 is 6.0\n",
      "The sum of 3 and 3.00 is 6.0\n",
      "Esto es una prueba.\n"
     ]
    }
   ],
   "source": [
    "x = 3 # integer\n",
    "y = 3. # floating point number\n",
    "sum_ = x + y # int + float = float\n",
    "s1 = \"The sum of {} and {} is {}\".format(x,y,sum_)\n",
    "print(s1)\n",
    "s2 = \"The sum of {} and {:.2f} is {}\".format(x,y,sum_)\n",
    "print(s2)\n",
    "s3 = \"Esto {verbo} una {sujeto}.\".format(sujeto = \"prueba\", verbo = \"es\")\n",
    "print(s3)"
   ]
  },
  {
   "cell_type": "markdown",
   "metadata": {},
   "source": [
    "## input ##\n",
    "Tiene como objetivo principal recibir datos, a la vez que permite, anteceder la recepción de los mismos con algún mensaje que le indique al usuario qué es lo que el programa espera recibir."
   ]
  },
  {
   "cell_type": "code",
   "execution_count": 74,
   "metadata": {},
   "outputs": [
    {
     "name": "stdout",
     "output_type": "stream",
     "text": [
      "Digite el nombre: Ramon\n",
      "Digite al apellido: Valdez\n",
      "Hola Ramon Valdez\n"
     ]
    }
   ],
   "source": [
    "firstName = input('Digite el nombre: ')\n",
    "lastName = input('Digite al apellido: ')\n",
    "\n",
    "print(\"Hola\",firstName,lastName)"
   ]
  },
  {
   "cell_type": "markdown",
   "metadata": {},
   "source": [
    "### Sobre la conversión de datos ###\n",
    "Como sucede en los lenguajes de programación en general, en python es necesario que los operandos sean del tipo adecuado para poder llevar a cabo la operación, si no habra un error tal y como se muestra a continuación:\n",
    "\n",
    "\n"
   ]
  },
  {
   "cell_type": "code",
   "execution_count": 11,
   "metadata": {},
   "outputs": [
    {
     "ename": "TypeError",
     "evalue": "can only concatenate str (not \"int\") to str",
     "output_type": "error",
     "traceback": [
      "\u001b[0;31m---------------------------------------------------------------------------\u001b[0m",
      "\u001b[0;31mTypeError\u001b[0m                                 Traceback (most recent call last)",
      "\u001b[0;32m<ipython-input-11-306fbdd0cb47>\u001b[0m in \u001b[0;36m<module>\u001b[0;34m\u001b[0m\n\u001b[1;32m      1\u001b[0m \u001b[0mv1\u001b[0m \u001b[0;34m=\u001b[0m \u001b[0;36m3\u001b[0m\u001b[0;34m\u001b[0m\u001b[0;34m\u001b[0m\u001b[0m\n\u001b[1;32m      2\u001b[0m \u001b[0ms1\u001b[0m \u001b[0;34m=\u001b[0m \u001b[0;34m\"Test\"\u001b[0m\u001b[0;34m\u001b[0m\u001b[0;34m\u001b[0m\u001b[0m\n\u001b[0;32m----> 3\u001b[0;31m \u001b[0ms2\u001b[0m \u001b[0;34m=\u001b[0m \u001b[0ms1\u001b[0m \u001b[0;34m+\u001b[0m \u001b[0;36m3\u001b[0m \u001b[0;31m# Esto es un error\u001b[0m\u001b[0;34m\u001b[0m\u001b[0;34m\u001b[0m\u001b[0m\n\u001b[0m\u001b[1;32m      4\u001b[0m \u001b[0mprint\u001b[0m\u001b[0;34m(\u001b[0m\u001b[0ms2\u001b[0m\u001b[0;34m)\u001b[0m\u001b[0;34m\u001b[0m\u001b[0;34m\u001b[0m\u001b[0m\n",
      "\u001b[0;31mTypeError\u001b[0m: can only concatenate str (not \"int\") to str"
     ]
    }
   ],
   "source": [
    "v1 = 3\n",
    "s1 = \"Test\"\n",
    "s2 = s1 + 3 # Esto es un error\n",
    "print(s2)"
   ]
  },
  {
   "cell_type": "markdown",
   "metadata": {},
   "source": [
    "#### Conversion de datos - Cast ####\n",
    "Ya que las variables en python son dinamicamente creadas, es necesario en cuenta los tipos de datos manejados en el momento en que se llevan a cabo operaciones. Cuando dos variables comparten el mismo tipo no hay problema. El problema viene cuando las variables que operan son incompatibles para la operación que se esta ejecutando. El cast en python se hace de la siguiente forma:\n",
    "\n",
    "```\n",
    "tipoDato(variable)\n",
    "```\n",
    "Veamos diferentes escenarios de aplicacion:"
   ]
  },
  {
   "cell_type": "markdown",
   "metadata": {},
   "source": [
    "* **Caso 1**: No hay problema en la logica del programa por lo tanto no es necesario convertir"
   ]
  },
  {
   "cell_type": "code",
   "execution_count": 2,
   "metadata": {},
   "outputs": [
    {
     "name": "stdout",
     "output_type": "stream",
     "text": [
      "Digite el nombre del actor: Ramon Valdez\n",
      "Digite el personaje: el tripaseca\n",
      "Ramon Valdez como el tripaseca\n"
     ]
    }
   ],
   "source": [
    "actor = input('Digite el nombre del actor: ')\n",
    "character = input('Digite el personaje: ')\n",
    "\n",
    "print(actor + \" como \"+ character)"
   ]
  },
  {
   "cell_type": "markdown",
   "metadata": {},
   "source": [
    "* **Caso 2**: No hay error pero la logica del problema falla."
   ]
  },
  {
   "cell_type": "code",
   "execution_count": 4,
   "metadata": {},
   "outputs": [
    {
     "name": "stdout",
     "output_type": "stream",
     "text": [
      "Digite el primer operando: 3\n",
      "Digite el segundo operando: 4\n",
      "3 + 4 = 34\n"
     ]
    }
   ],
   "source": [
    "operando1 = input('Digite el primer operando: ')\n",
    "operando2 = input('Digite el segundo operando: ')\n",
    "resultado = operando1 + operando2\n",
    "\n",
    "print(operando1 + \" + \" + operando2 + \" = \" + resultado) # El resultado no tiene sentido para la suma"
   ]
  },
  {
   "cell_type": "markdown",
   "metadata": {},
   "source": [
    "* **Caso 3**: Hay error en la operación por lo que es necesario convertir:"
   ]
  },
  {
   "cell_type": "code",
   "execution_count": 12,
   "metadata": {},
   "outputs": [
    {
     "ename": "TypeError",
     "evalue": "can only concatenate str (not \"int\") to str",
     "output_type": "error",
     "traceback": [
      "\u001b[0;31m---------------------------------------------------------------------------\u001b[0m",
      "\u001b[0;31mTypeError\u001b[0m                                 Traceback (most recent call last)",
      "\u001b[0;32m<ipython-input-12-306fbdd0cb47>\u001b[0m in \u001b[0;36m<module>\u001b[0;34m\u001b[0m\n\u001b[1;32m      1\u001b[0m \u001b[0mv1\u001b[0m \u001b[0;34m=\u001b[0m \u001b[0;36m3\u001b[0m\u001b[0;34m\u001b[0m\u001b[0;34m\u001b[0m\u001b[0m\n\u001b[1;32m      2\u001b[0m \u001b[0ms1\u001b[0m \u001b[0;34m=\u001b[0m \u001b[0;34m\"Test\"\u001b[0m\u001b[0;34m\u001b[0m\u001b[0;34m\u001b[0m\u001b[0m\n\u001b[0;32m----> 3\u001b[0;31m \u001b[0ms2\u001b[0m \u001b[0;34m=\u001b[0m \u001b[0ms1\u001b[0m \u001b[0;34m+\u001b[0m \u001b[0;36m3\u001b[0m \u001b[0;31m# Esto es un error\u001b[0m\u001b[0;34m\u001b[0m\u001b[0;34m\u001b[0m\u001b[0m\n\u001b[0m\u001b[1;32m      4\u001b[0m \u001b[0mprint\u001b[0m\u001b[0;34m(\u001b[0m\u001b[0ms2\u001b[0m\u001b[0;34m)\u001b[0m\u001b[0;34m\u001b[0m\u001b[0;34m\u001b[0m\u001b[0m\n",
      "\u001b[0;31mTypeError\u001b[0m: can only concatenate str (not \"int\") to str"
     ]
    }
   ],
   "source": [
    "v1 = 3\n",
    "s1 = \"Test\"\n",
    "s2 = s1 + 3 # Esto es un error\n",
    "print(s2)"
   ]
  },
  {
   "cell_type": "markdown",
   "metadata": {},
   "source": [
    "Para el caso anterior, la solución se muestra a continuacón. Notese la parte donde se llevo a cabo el **cast**:"
   ]
  },
  {
   "cell_type": "code",
   "execution_count": 13,
   "metadata": {},
   "outputs": [
    {
     "name": "stdout",
     "output_type": "stream",
     "text": [
      "Test3\n"
     ]
    }
   ],
   "source": [
    "v1 = 3\n",
    "s1 = \"Test\"\n",
    "s2 = s1 + str(3) # Esto es un error\n",
    "print(s2)"
   ]
  },
  {
   "cell_type": "markdown",
   "metadata": {},
   "source": [
    "**Usando cast para corregir los bugs el programa de la suma**"
   ]
  },
  {
   "cell_type": "code",
   "execution_count": 17,
   "metadata": {},
   "outputs": [
    {
     "name": "stdout",
     "output_type": "stream",
     "text": [
      "Digite el primer operando: 3\n",
      "Digite el segundo operando: 4\n",
      "3 + 4 = 7\n"
     ]
    }
   ],
   "source": [
    "operando1 = int(input('Digite el primer operando: '))\n",
    "operando2 = int(input('Digite el segundo operando: '))\n",
    "resultado = operando1 + operando2\n",
    "\n",
    "print(operando1,\"+\",operando2,\"=\",resultado)"
   ]
  },
  {
   "cell_type": "markdown",
   "metadata": {},
   "source": [
    "**Print y el cast**: Cuando se concatena diferentes tipos de datos en un string con el signo mas (**+**) no olvidar convertirlos todos a string. Aqui se muestra el caso en que el string a imprimir se concatena con mas (**+**) antes de imprimir."
   ]
  },
  {
   "cell_type": "code",
   "execution_count": 19,
   "metadata": {},
   "outputs": [
    {
     "name": "stdout",
     "output_type": "stream",
     "text": [
      "Ingrese el nombre: Capitan Cavernicola\n",
      "Ingrese la edad: 1200\n",
      "Capitan Cavernicola usted tiene 438000 dias\n"
     ]
    }
   ],
   "source": [
    "dias = 365\n",
    "nombre = input(\"Ingrese el nombre: \")\n",
    "edad_years = input(\"Ingrese la edad: \")\n",
    "edad_dias = dias*int(edad_years)\n",
    "print(nombre + \" usted tiene \" + str(edad_dias) + \" dias\")"
   ]
  },
  {
   "cell_type": "markdown",
   "metadata": {},
   "source": [
    "## Operadores ##"
   ]
  },
  {
   "cell_type": "markdown",
   "metadata": {},
   "source": [
    "### Aritmeticos ###\n",
    "\n",
    "\n",
    "| Signo | Operador | Ejemplo | Resultado  |\n",
    "| ------|----------| ------- | ---------- |\n",
    "|+|Suma|3 + 4.5| 7.5 |\n",
    "|-|Resta|5 - 4.5| 0.5 |\n",
    "| * | Multiplicación | 5*4 | 20 |\n",
    "| / | División | 9/2 | 4.5 |\n",
    "| // | División entera | 9//2 | 4 |\n",
    "| % | Modulo | 9%2 | 1 |\n",
    "| ** | Potenciación | 9**2 | 81 |\n",
    "\n",
    "A continuación se muestan diferentes ejemplo:"
   ]
  },
  {
   "cell_type": "code",
   "execution_count": 22,
   "metadata": {},
   "outputs": [
    {
     "name": "stdout",
     "output_type": "stream",
     "text": [
      "1 + 2 = 3\n",
      "1 - 2 = -1\n",
      "1 * 2 = 2\n",
      "5 / 3 = 1.6666666666666667\n",
      "5 % 3 = 2\n",
      "5 // 3 = 1\n",
      "2 ** 3 = 8\n"
     ]
    }
   ],
   "source": [
    "a  = 1\n",
    "b = 2\n",
    "c = 5\n",
    "d = 3\n",
    "suma = a + b\n",
    "print(a,\"+\",b,\"=\",suma)\n",
    "resta = a - b\n",
    "print(a,\"-\",b,\"=\",resta)\n",
    "multiplicacion = a*b\n",
    "print(a,\"*\",b,\"=\",multiplicacion)\n",
    "division = c/d\n",
    "print(c,\"/\",d,\"=\",division)\n",
    "modulo = c%d\n",
    "print(c,\"%\",d,\"=\",modulo)\n",
    "div_entera = c//d\n",
    "print(c,\"//\",d,\"=\",div_entera)\n",
    "potencia = b**d\n",
    "print(b,\"**\",d,\"=\",potencia)\n"
   ]
  },
  {
   "cell_type": "markdown",
   "metadata": {},
   "source": [
    "### Relacionales ###\n",
    "\n",
    "| Signo | Operador | Ejemplo | Resultado  |\n",
    "| ------|----------| ------- | ---------- |\n",
    "| > | Mayor a | 4 > 3| True |\n",
    "| < | Menor a | 4 < 3| False |\n",
    "| >= | Mayor o igual a | -20 >= -10  | False |\n",
    "| <= | Menor o igual a | -20 <= -10 | True |\n",
    "| != | Diferente a | 2 != 3| True |\n",
    "| == | Igual a | 2 == 2 | True |\n",
    "\n",
    "\n",
    "A continuación se muestan diferentes ejemplos:"
   ]
  },
  {
   "cell_type": "code",
   "execution_count": 32,
   "metadata": {},
   "outputs": [
    {
     "name": "stdout",
     "output_type": "stream",
     "text": [
      "4 > 3 ---> True\n",
      "4 < 3 ---> False\n",
      "-20 >= -10 ---> False\n",
      "-20 <= -10 ---> True\n",
      "2 != 3 ---> True\n",
      "3 == 3 ---> True\n"
     ]
    }
   ],
   "source": [
    "a  = 4\n",
    "b = 3\n",
    "c = -20\n",
    "d = -10\n",
    "e = 2\n",
    "r1 = a > b\n",
    "print(a,\">\",b,\"--->\",r1)\n",
    "r2 = a < b\n",
    "print(a,\"<\",b,\"--->\",r2)\n",
    "r3 = c >= d\n",
    "print(c,\">=\",d,\"--->\",r3)\n",
    "r4 = c <= d\n",
    "print(c,\"<=\",d,\"--->\",r4)\n",
    "r5 = e != b\n",
    "print(e,\"!=\",b,\"--->\",r5)\n",
    "r6 = b == b\n",
    "print(b,\"==\",b,\"--->\",r6)"
   ]
  },
  {
   "cell_type": "markdown",
   "metadata": {},
   "source": [
    "### Logicos ###\n",
    "\n",
    "#### and ####\n",
    "\n",
    "| op1 | op2 | op1 and op2 |\n",
    "| ------|----------| ------- |\n",
    "| False | False | False | \n",
    "| False | True | False | \n",
    "| True | False | False  |\n",
    "| True | True | True |\n",
    "\n",
    "#### or ####\n",
    "\n",
    "| op1 | op2 | op1 or op2 |\n",
    "| ------|----------| ------- |\n",
    "| False | False | False | \n",
    "| False | True | True | \n",
    "| True | False | True  |\n",
    "| True | True | True |\n",
    "\n",
    "#### or ####\n",
    "\n",
    "| op | not(op) | \n",
    "| ------|----------|\n",
    "| False | True | \n",
    "| True | False | \n",
    "\n",
    "**Ejemplos**:"
   ]
  },
  {
   "cell_type": "code",
   "execution_count": 34,
   "metadata": {},
   "outputs": [
    {
     "name": "stdout",
     "output_type": "stream",
     "text": [
      "False and True ---> False\n",
      "False or True ---> True\n",
      "not(True) ---> False\n"
     ]
    }
   ],
   "source": [
    "x = False\n",
    "y = True\n",
    "# and\n",
    "r1 = x and y\n",
    "print(x,\"and\",y,\"--->\",r1)\n",
    "# or\n",
    "r2 = x or y\n",
    "print(x,\"or\",y,\"--->\",r2)\n",
    "# not\n",
    "r3 = not(y)\n",
    "print(\"not(\" + str(y) +\") ---> \"+ str(r3))"
   ]
  },
  {
   "cell_type": "markdown",
   "metadata": {},
   "source": [
    "### Abreviaciones de operaciones matematicas ###\n",
    "Hay casos en los que variable resultado es usada tambien como operador. Por ejemplo:\n",
    "\n",
    "```python\n",
    "a = a + 1\n",
    "```\n",
    "\n",
    "En estos casos, es posible omitir la variable resultado en la parte en la que este funciona como operador empleando un abreviado de la operación tal y como se muestra a continuación:\n",
    "\n",
    "\n",
    "```python\n",
    "a += 1\n",
    "```\n",
    "\n",
    "Este tipo de abreviaciones funcionan con las siguientes operaciones +=, -=, y /=. Veamos un ejemplo:"
   ]
  },
  {
   "cell_type": "code",
   "execution_count": null,
   "metadata": {},
   "outputs": [],
   "source": [
    "a = 4\n",
    "a *= 4\n",
    "print(a)"
   ]
  },
  {
   "cell_type": "markdown",
   "metadata": {},
   "source": [
    "*principales**;\n",
    "1. https://hub-binder.mybinder.ovh/user/sisaza-informatica-bb2ncruh/tree\n",
    "2. https://hub-binder.mybinder.ovh/user/sisaza-informatica-bb2ncruh/notebooks/Unidad3/Unidad3.ipynb#3.1.4-Operadores,-expresiones-e-instrucciones\n",
    "3. https://hub-binder.mybinder.ovh/user/sisaza-informatica-bb2ncruh/notebooks/Unidad4/Unidad4.ipynb\n",
    "4. https://github.com/analysic-nabla-bootcamp/intro-python\n",
    "5. https://github.com/iot-udea/repaso-python\n",
    "6. https://github.com/diplomado-bigdata-machinelearning-udea/Curso1/blob/master/s01/s01.ipynb\n",
    "7. https://github.com/analysic-nabla-bootcamp/intro-python/blob/master/ejercicios/tarea01.ipynb\n",
    "8. "
   ]
  },
  {
   "cell_type": "markdown",
   "metadata": {},
   "source": [
    "## Enlaces ##\n",
    "* https://github.com/PythonistaMX/py101\n",
    "* https://github.com/analysic-nabla-bootcamp/intro-python\n",
    "* https://github.com/masterdatascience-UIMP-UC/introduccion-a-python\n",
    "* https://github.com/joanby/python-ml-course/tree/master/notebooks\n",
    "* https://github.com/iot-udea/repaso-python\n",
    "* https://github.com/diplomado-bigdata-machinelearning-udea/Curso1/blob/master/s01/s01.ipynb\n",
    "* https://mybinder.org/v2/gh/sisaza/informatica.git/master"
   ]
  },
  {
   "cell_type": "code",
   "execution_count": null,
   "metadata": {},
   "outputs": [],
   "source": []
  }
 ],
 "metadata": {
  "kernelspec": {
   "display_name": "Python 3",
   "language": "python",
   "name": "python3"
  },
  "language_info": {
   "codemirror_mode": {
    "name": "ipython",
    "version": 3
   },
   "file_extension": ".py",
   "mimetype": "text/x-python",
   "name": "python",
   "nbconvert_exporter": "python",
   "pygments_lexer": "ipython3",
   "version": "3.7.4"
  }
 },
 "nbformat": 4,
 "nbformat_minor": 2
}

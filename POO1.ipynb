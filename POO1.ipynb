{
 "cells": [
  {
   "cell_type": "markdown",
   "metadata": {},
   "source": [
    "[![Open In Colab](https://colab.research.google.com/assets/colab-badge.svg)](https://colab.research.google.com/github/tigarto/repaso_python/blob/master/POO1.ipynb)"
   ]
  },
  {
   "cell_type": "code",
   "execution_count": 11,
   "metadata": {},
   "outputs": [
    {
     "name": "stdout",
     "output_type": "stream",
     "text": [
      "Requirement already satisfied: tutormagic in /home/tigarto/miniconda3/lib/python3.7/site-packages (0.3.0)\n",
      "Requirement already satisfied: notebook>=3.0 in /home/tigarto/miniconda3/lib/python3.7/site-packages (from tutormagic) (6.0.1)\n",
      "Requirement already satisfied: nbformat in /home/tigarto/miniconda3/lib/python3.7/site-packages (from notebook>=3.0->tutormagic) (4.4.0)\n",
      "Requirement already satisfied: terminado>=0.8.1 in /home/tigarto/miniconda3/lib/python3.7/site-packages (from notebook>=3.0->tutormagic) (0.8.3)\n",
      "Requirement already satisfied: nbconvert in /home/tigarto/miniconda3/lib/python3.7/site-packages (from notebook>=3.0->tutormagic) (5.6.1)\n",
      "Requirement already satisfied: prometheus-client in /home/tigarto/miniconda3/lib/python3.7/site-packages (from notebook>=3.0->tutormagic) (0.7.1)\n",
      "Requirement already satisfied: jupyter-core>=4.4.0 in /home/tigarto/miniconda3/lib/python3.7/site-packages (from notebook>=3.0->tutormagic) (4.6.1)\n",
      "Requirement already satisfied: pyzmq>=17 in /home/tigarto/miniconda3/lib/python3.7/site-packages (from notebook>=3.0->tutormagic) (18.1.1)\n",
      "Requirement already satisfied: ipython-genutils in /home/tigarto/miniconda3/lib/python3.7/site-packages (from notebook>=3.0->tutormagic) (0.2.0)\n",
      "Requirement already satisfied: tornado>=5.0 in /home/tigarto/miniconda3/lib/python3.7/site-packages (from notebook>=3.0->tutormagic) (6.0.3)\n",
      "Requirement already satisfied: jupyter-client>=5.3.1 in /home/tigarto/miniconda3/lib/python3.7/site-packages (from notebook>=3.0->tutormagic) (5.3.3)\n",
      "Requirement already satisfied: Send2Trash in /home/tigarto/miniconda3/lib/python3.7/site-packages (from notebook>=3.0->tutormagic) (1.5.0)\n",
      "Requirement already satisfied: ipykernel in /home/tigarto/miniconda3/lib/python3.7/site-packages (from notebook>=3.0->tutormagic) (5.1.3)\n",
      "Requirement already satisfied: jinja2 in /home/tigarto/miniconda3/lib/python3.7/site-packages (from notebook>=3.0->tutormagic) (2.10.3)\n",
      "Requirement already satisfied: traitlets>=4.2.1 in /home/tigarto/miniconda3/lib/python3.7/site-packages (from notebook>=3.0->tutormagic) (4.3.3)\n",
      "Requirement already satisfied: jsonschema!=2.5.0,>=2.4 in /home/tigarto/miniconda3/lib/python3.7/site-packages (from nbformat->notebook>=3.0->tutormagic) (3.2.0)\n",
      "Requirement already satisfied: defusedxml in /home/tigarto/miniconda3/lib/python3.7/site-packages (from nbconvert->notebook>=3.0->tutormagic) (0.6.0)\n",
      "Requirement already satisfied: testpath in /home/tigarto/miniconda3/lib/python3.7/site-packages (from nbconvert->notebook>=3.0->tutormagic) (0.4.4)\n",
      "Requirement already satisfied: mistune<2,>=0.8.1 in /home/tigarto/miniconda3/lib/python3.7/site-packages (from nbconvert->notebook>=3.0->tutormagic) (0.8.4)\n",
      "Requirement already satisfied: bleach in /home/tigarto/miniconda3/lib/python3.7/site-packages (from nbconvert->notebook>=3.0->tutormagic) (3.1.0)\n",
      "Requirement already satisfied: entrypoints>=0.2.2 in /home/tigarto/miniconda3/lib/python3.7/site-packages (from nbconvert->notebook>=3.0->tutormagic) (0.3)\n",
      "Requirement already satisfied: pygments in /home/tigarto/miniconda3/lib/python3.7/site-packages (from nbconvert->notebook>=3.0->tutormagic) (2.5.2)\n",
      "Requirement already satisfied: pandocfilters>=1.4.1 in /home/tigarto/miniconda3/lib/python3.7/site-packages (from nbconvert->notebook>=3.0->tutormagic) (1.4.2)\n",
      "Requirement already satisfied: python-dateutil>=2.1 in /home/tigarto/miniconda3/lib/python3.7/site-packages (from jupyter-client>=5.3.1->notebook>=3.0->tutormagic) (2.8.1)\n",
      "Requirement already satisfied: ipython>=5.0.0 in /home/tigarto/miniconda3/lib/python3.7/site-packages (from ipykernel->notebook>=3.0->tutormagic) (7.11.1)\n",
      "Requirement already satisfied: MarkupSafe>=0.23 in /home/tigarto/miniconda3/lib/python3.7/site-packages (from jinja2->notebook>=3.0->tutormagic) (1.1.1)\n",
      "Requirement already satisfied: decorator in /home/tigarto/miniconda3/lib/python3.7/site-packages (from traitlets>=4.2.1->notebook>=3.0->tutormagic) (4.4.1)\n",
      "Requirement already satisfied: six in /home/tigarto/miniconda3/lib/python3.7/site-packages (from traitlets>=4.2.1->notebook>=3.0->tutormagic) (1.12.0)\n",
      "Requirement already satisfied: setuptools in /home/tigarto/miniconda3/lib/python3.7/site-packages (from jsonschema!=2.5.0,>=2.4->nbformat->notebook>=3.0->tutormagic) (45.2.0)\n",
      "Requirement already satisfied: importlib-metadata; python_version < \"3.8\" in /home/tigarto/miniconda3/lib/python3.7/site-packages (from jsonschema!=2.5.0,>=2.4->nbformat->notebook>=3.0->tutormagic) (1.3.0)\n",
      "Requirement already satisfied: pyrsistent>=0.14.0 in /home/tigarto/miniconda3/lib/python3.7/site-packages (from jsonschema!=2.5.0,>=2.4->nbformat->notebook>=3.0->tutormagic) (0.15.6)\n",
      "Requirement already satisfied: attrs>=17.4.0 in /home/tigarto/miniconda3/lib/python3.7/site-packages (from jsonschema!=2.5.0,>=2.4->nbformat->notebook>=3.0->tutormagic) (19.3.0)\n",
      "Requirement already satisfied: webencodings in /home/tigarto/miniconda3/lib/python3.7/site-packages (from bleach->nbconvert->notebook>=3.0->tutormagic) (0.5.1)\n",
      "Requirement already satisfied: pexpect; sys_platform != \"win32\" in /home/tigarto/miniconda3/lib/python3.7/site-packages (from ipython>=5.0.0->ipykernel->notebook>=3.0->tutormagic) (4.7.0)\n",
      "Requirement already satisfied: pickleshare in /home/tigarto/miniconda3/lib/python3.7/site-packages (from ipython>=5.0.0->ipykernel->notebook>=3.0->tutormagic) (0.7.5)\n",
      "Requirement already satisfied: prompt-toolkit!=3.0.0,!=3.0.1,<3.1.0,>=2.0.0 in /home/tigarto/miniconda3/lib/python3.7/site-packages (from ipython>=5.0.0->ipykernel->notebook>=3.0->tutormagic) (3.0.2)\n",
      "Requirement already satisfied: backcall in /home/tigarto/miniconda3/lib/python3.7/site-packages (from ipython>=5.0.0->ipykernel->notebook>=3.0->tutormagic) (0.1.0)\n",
      "Requirement already satisfied: jedi>=0.10 in /home/tigarto/miniconda3/lib/python3.7/site-packages (from ipython>=5.0.0->ipykernel->notebook>=3.0->tutormagic) (0.15.2)\n",
      "Requirement already satisfied: zipp>=0.5 in /home/tigarto/miniconda3/lib/python3.7/site-packages (from importlib-metadata; python_version < \"3.8\"->jsonschema!=2.5.0,>=2.4->nbformat->notebook>=3.0->tutormagic) (0.6.0)\n",
      "Requirement already satisfied: ptyprocess>=0.5 in /home/tigarto/miniconda3/lib/python3.7/site-packages (from pexpect; sys_platform != \"win32\"->ipython>=5.0.0->ipykernel->notebook>=3.0->tutormagic) (0.6.0)\n",
      "Requirement already satisfied: wcwidth in /home/tigarto/miniconda3/lib/python3.7/site-packages (from prompt-toolkit!=3.0.0,!=3.0.1,<3.1.0,>=2.0.0->ipython>=5.0.0->ipykernel->notebook>=3.0->tutormagic) (0.1.8)\n",
      "Requirement already satisfied: parso>=0.5.2 in /home/tigarto/miniconda3/lib/python3.7/site-packages (from jedi>=0.10->ipython>=5.0.0->ipykernel->notebook>=3.0->tutormagic) (0.5.2)\n",
      "Requirement already satisfied: more-itertools in /home/tigarto/miniconda3/lib/python3.7/site-packages (from zipp>=0.5->importlib-metadata; python_version < \"3.8\"->jsonschema!=2.5.0,>=2.4->nbformat->notebook>=3.0->tutormagic) (8.0.2)\n",
      "The tutormagic extension is already loaded. To reload it, use:\n",
      "  %reload_ext tutormagic\n"
     ]
    }
   ],
   "source": [
    "!pip install tutormagic\n",
    "%load_ext tutormagic"
   ]
  },
  {
   "cell_type": "markdown",
   "metadata": {},
   "source": [
    "# Programación orientada a objetos (POO) #"
   ]
  },
  {
   "cell_type": "markdown",
   "metadata": {},
   "source": [
    "## Introducción ##\n",
    "En el mundo real existen una innumerable cantidad de objetos tales como los mostrados en las siguiente figura:\n",
    "\n",
    "![ejemplos](poo_ejemplos.jpg)\n",
    "\n",
    "La **Programación orientada a objetos** consiste en el paradigma de programación cuyo fin es llevar objetos de la vida real como los anteriores a una representación en una entidad de programación creada por el programador que intenta modelar de la manera más precisa posible dijo objeto de la realidad. \n",
    "\n",
    "La entidad fundamental en la **POO** es el **Objeto**. Un objeto en resumen esta asociado a la expresión **Objetos = atributos + metodos** donde:\n",
    "* **Atributos**: Conjunto de caracteristicas que representan el objeto.\n",
    "* **Metodos**: Conjunto de funciones empleadas para interactuar con el objeto.\n",
    "\n",
    "Todos los lenguajes de programación orientados a objetos tienen su propia forma de tratar con estos. En nuestro caso nos centraremos en **la programación orientada a objetos empleando java**."
   ]
  },
  {
   "cell_type": "markdown",
   "metadata": {},
   "source": [
    "## POO en python ##\n",
    "\n",
    "### Declarando clases en python ###\n",
    "\n",
    "La declaración de una clase en python sigue la siguiente forma:\n",
    "\n",
    "```python\n",
    "class ClassName:\n",
    "    initialicer\n",
    "    methods\n",
    "```\n",
    "\n",
    "### Constructor ###\n",
    "\n",
    "Un constructor es un método especial cuyo objetivo es inicializar un objeto. En el caso de python las clases no tienen un constructor, pero existe el método ```__init__``` cuya función es analoga a la de un constructor. La sintaxis de un constructor se muestra a continuación:\n",
    "\n",
    "```python\n",
    "def __init__(self, parameter1, ..., parameterN):\n",
    "    statements\n",
    "```\n",
    "\n",
    "La siguiente figura muestra la declaración de una clase llamada ```Circulo``` teniendo en cuenta lo anterior:\n",
    "\n",
    "![ejemplo_circulo](ejemplo_circulo.jpg)\n",
    "\n",
    "**Nota - Importancia del ```self```**: Todos los métodos y miembros de una clase deben tener como primer argumento ```self```, que se igualará de forma automática con la referencia al propio objeto cuando se invoque el método.\n",
    "\n",
    "### Miembros ###\n",
    "Pueden ser declarados directamente dentro de la clase (como se muestra en el ejemplo) o en constructores (La\n",
    "forma más común).\n",
    "\n",
    "```python\n",
    "def __init__(self,parameters,...):\n",
    "    self.member1 = param1\n",
    "    ...\n",
    "    self.memberN = paramN\n",
    "```\n",
    "\n",
    "Notese el uso del ```self``` en el código anterior.\n",
    "\n",
    "\n",
    "\n",
    "### Métodos###\n",
    "El parámetro self debe ser el primer parámetro de cualquier método asociado a un objeto. Este representa el\n",
    "parámetro implícito (this en java). Para acceder a los miembros de los objetos se debe utilizar la referencia self\n",
    "(Si no se hace esto Error)\n",
    "\n",
    "```python\n",
    "def method(self,parameters,...):\n",
    "    sentences\n",
    "    ...\n",
    "```\n",
    "\n",
    "La siguiente figura muestra el ejemplo inicial de la clase circulo con un poco mas de código pues se definieron los diferentes métodos:\n",
    "\n",
    "![ejemplo_circulo2](ejemplo_circulo2.jpg)\n",
    "\n",
    "\n",
    "### Creación de objetos ### \n",
    "\n",
    "Una vez se ha definido la clase, el siguiente paso consiste en crear instancias de esta (objetos) y usarlos de acuerdo a la lógica de la aplicación que se quiere implementar. En lo que respecta a esto se enfatizan en dos puntos principales:\n",
    "1. **Creación de objetos**: Sige la siguiente forma:\n",
    "\n",
    "```python\n",
    "objectName = ClassName(paramaters)\n",
    "```\n",
    "\n",
    "2. **Invocando métodos:**: Sige la siguiente forma:\n",
    "\n",
    "```python\n",
    "objectName.method(parameters)\n",
    "```\n",
    "\n",
    "En la siguiente figura se resalta un ejemplo en el cual se instancian dos objetos (```c1``` y ```c2```) de la clase ```Circulo```:\n",
    "\n",
    "![ejemplo_circulo3](ejemplo_circulo3.jpg)\n"
   ]
  },
  {
   "cell_type": "markdown",
   "metadata": {},
   "source": [
    "## Ejemplos de repaso 1 ##"
   ]
  },
  {
   "cell_type": "markdown",
   "metadata": {},
   "source": [
    "**Ejemplo 1**: Codificar una clase en python asociada a un círculo.\n",
    "\n",
    "![clase_circulo](clase_circulo.jpg)\n"
   ]
  },
  {
   "cell_type": "code",
   "execution_count": 12,
   "metadata": {},
   "outputs": [
    {
     "data": {
      "text/html": [
       "<div class=\"text-center\"><strong><a style=\"box-sizing: border-box; padding: 0 5px; border: 1px solid #CFCFCF;\" target=\"_\" href=http://pythontutor.com/iframe-embed.html#code=%0Afrom%20math%20import%20pi%0A%0A%27%27%27%20Clase%20circulo%20%27%27%27%20%0Aclass%20Circulo%28%29%3A%0A%20%20%20%20%0A%20%20%20%20%27%27%27%20Constructor%20%27%27%27%0A%20%20%20%20def%20__init__%28self%2Cr%20%3D%200.0%29%3A%0A%20%20%20%20%20%20%20%20%23%20Miembros%0A%20%20%20%20%20%20%20%20self.radio%20%3D%20r%0A%20%20%20%20%0A%20%20%20%20%27%27%27%20Metodos%20%27%27%27%0A%20%20%20%20%23%20Asignar%20radio%0A%20%20%20%20def%20asignarRadio%28self%2C%20r%29%3A%0A%20%20%20%20%20%20%20%20self.radio%20%3D%20r%0A%20%20%20%20%0A%20%20%20%20%23%20Obtener%20radio%0A%20%20%20%20def%20obtenerRadio%28self%29%3A%0A%20%20%20%20%20%20%20%20return%20self.radio%0A%20%20%20%20%20%20%20%20%0A%20%20%20%20%23%20Calcular%20perimetro%0A%20%20%20%20def%20calcularPerimetro%28self%29%3A%0A%20%20%20%20%20%20%20%20per%20%3D%202%2Api%2Aself.radio%0A%20%20%20%20%20%20%20%20return%20per%0A%20%20%20%20%20%20%20%20%0A%20%20%20%20%23%20Calcular%20Area%0A%20%20%20%20def%20calcularArea%28self%29%3A%0A%20%20%20%20%20%20%20%20return%20pi%2A%28self.radio%2A%2A2%29%0A&origin=opt-frontend.js&cumulative=false&heapPrimitives=false&textReferences=false&curInstr=0&&verticalStack=false&py=3&rawInputLstJSON=%5B%5D&codeDivWidth=50%25&codeDivHeight=100%25>Python Tutor</a></strong></div>"
      ],
      "text/plain": [
       "<IPython.core.display.HTML object>"
      ]
     },
     "metadata": {},
     "output_type": "display_data"
    }
   ],
   "source": [
    "%%tutor -l python3 -k\n",
    "\n",
    "from math import pi\n",
    "\n",
    "''' Clase circulo ''' \n",
    "class Circulo():\n",
    "    \n",
    "    ''' Constructor '''\n",
    "    def __init__(self,r = 0.0):\n",
    "        # Miembros\n",
    "        self.radio = r\n",
    "    \n",
    "    ''' Metodos '''\n",
    "    # Asignar radio\n",
    "    def asignarRadio(self, r):\n",
    "        self.radio = r\n",
    "    \n",
    "    # Obtener radio\n",
    "    def obtenerRadio(self):\n",
    "        return self.radio\n",
    "        \n",
    "    # Calcular perimetro\n",
    "    def calcularPerimetro(self):\n",
    "        per = 2*pi*self.radio\n",
    "        return per\n",
    "        \n",
    "    # Calcular Area\n",
    "    def calcularArea(self):\n",
    "        return pi*(self.radio**2)"
   ]
  },
  {
   "cell_type": "markdown",
   "metadata": {},
   "source": [
    "**Ejemplo 2**: Crear dos instancias de la clase anteriormente definida. Mostrar el uso de sus métodos."
   ]
  },
  {
   "cell_type": "code",
   "execution_count": 13,
   "metadata": {},
   "outputs": [
    {
     "data": {
      "text/html": [
       "<div class=\"text-center\"><strong><a style=\"box-sizing: border-box; padding: 0 5px; border: 1px solid #CFCFCF;\" target=\"_\" href=http://pythontutor.com/iframe-embed.html#code=%0Afrom%20math%20import%20pi%0A%0A%27%27%27%20Clase%20circulo%20%27%27%27%20%0Aclass%20Circulo%28%29%3A%0A%20%20%20%20%0A%20%20%20%20%27%27%27%20Constructor%20%27%27%27%0A%20%20%20%20def%20__init__%28self%2Cr%20%3D%200.0%29%3A%0A%20%20%20%20%20%20%20%20%23%20Miembros%0A%20%20%20%20%20%20%20%20self.radio%20%3D%20r%0A%20%20%20%20%0A%20%20%20%20%27%27%27%20Metodos%20%27%27%27%0A%20%20%20%20%23%20Asignar%20radio%0A%20%20%20%20def%20asignarRadio%28self%2C%20r%29%3A%0A%20%20%20%20%20%20%20%20self.radio%20%3D%20r%0A%20%20%20%20%0A%20%20%20%20%23%20Obtener%20radio%0A%20%20%20%20def%20obtenerRadio%28self%29%3A%0A%20%20%20%20%20%20%20%20return%20self.radio%0A%20%20%20%20%20%20%20%20%0A%20%20%20%20%23%20Calcular%20perimetro%0A%20%20%20%20def%20calcularPerimetro%28self%29%3A%0A%20%20%20%20%20%20%20%20per%20%3D%202%2Api%2Aself.radio%0A%20%20%20%20%20%20%20%20return%20per%0A%20%20%20%20%20%20%20%20%0A%20%20%20%20%23%20Calcular%20Area%0A%20%20%20%20def%20calcularArea%28self%29%3A%0A%20%20%20%20%20%20%20%20return%20pi%2A%28self.radio%2A%2A2%29%0A%20%20%20%20%20%20%20%20%0A%27%27%27%20Creando%20objetos%20%27%27%27%0Ac1%20%3D%20Circulo%281%29%0Ac2%20%3D%20Circulo%284.5%29%0A%0A%27%27%27%20Calculando%20area%20y%20perimetro%20del%20circulo%20%27%27%27%0Aa1%20%3D%20c1.calcularArea%28%29%0Aa2%20%3D%20c2.calcularArea%28%29%0Ap1%20%3D%20c1.calcularPerimetro%28%29%0Ap2%20%3D%20c2.calcularPerimetro%28%29%0A%0A%27%27%27%20Imprimiento%20informacion%20de%20los%20%20circulos%20%27%27%27%0Aprint%28%22Circulo%201%3A%20%22%29%0Aprint%28%22-%20Radio%3A%22%20%2B%20str%28c1.radio%29%29%20%23%20No%20recomendada%0Aprint%28%22-%20Perimetro%3A%22%20%2B%20str%28p1%29%29%20%0Aprint%28%22-%20Area%3A%22%20%2B%20str%28a1%29%29%20%0Aprint%28%29%0Aprint%28%22Circulo%202%3A%20%22%29%0Aprint%28%22-%20Radio%3A%22%20%2B%20str%28c2.obtenerRadio%28%29%29%29%20%23%20Recomendada%0Aprint%28%22-%20Perimetro%3A%22%20%2B%20str%28p2%29%29%20%0Aprint%28%22-%20Area%3A%22%20%2B%20str%28a2%29%29%0A&origin=opt-frontend.js&cumulative=false&heapPrimitives=false&textReferences=false&curInstr=0&&verticalStack=false&py=3&rawInputLstJSON=%5B%5D&codeDivWidth=50%25&codeDivHeight=100%25>Python Tutor</a></strong></div>"
      ],
      "text/plain": [
       "<IPython.core.display.HTML object>"
      ]
     },
     "metadata": {},
     "output_type": "display_data"
    }
   ],
   "source": [
    "%%tutor -l python3 -k\n",
    "\n",
    "from math import pi\n",
    "\n",
    "''' Clase circulo ''' \n",
    "class Circulo():\n",
    "    \n",
    "    ''' Constructor '''\n",
    "    def __init__(self,r = 0.0):\n",
    "        # Miembros\n",
    "        self.radio = r\n",
    "    \n",
    "    ''' Metodos '''\n",
    "    # Asignar radio\n",
    "    def asignarRadio(self, r):\n",
    "        self.radio = r\n",
    "    \n",
    "    # Obtener radio\n",
    "    def obtenerRadio(self):\n",
    "        return self.radio\n",
    "        \n",
    "    # Calcular perimetro\n",
    "    def calcularPerimetro(self):\n",
    "        per = 2*pi*self.radio\n",
    "        return per\n",
    "        \n",
    "    # Calcular Area\n",
    "    def calcularArea(self):\n",
    "        return pi*(self.radio**2)\n",
    "        \n",
    "''' Creando objetos '''\n",
    "c1 = Circulo(1)\n",
    "c2 = Circulo(4.5)\n",
    "\n",
    "''' Calculando area y perimetro del circulo '''\n",
    "a1 = c1.calcularArea()\n",
    "a2 = c2.calcularArea()\n",
    "p1 = c1.calcularPerimetro()\n",
    "p2 = c2.calcularPerimetro()\n",
    "\n",
    "''' Imprimiento informacion de los  circulos '''\n",
    "print(\"Circulo 1: \")\n",
    "print(\"- Radio:\" + str(c1.radio)) # No recomendada\n",
    "print(\"- Perimetro:\" + str(p1)) \n",
    "print(\"- Area:\" + str(a1)) \n",
    "print()\n",
    "print(\"Circulo 2: \")\n",
    "print(\"- Radio:\" + str(c2.obtenerRadio())) # Recomendada\n",
    "print(\"- Perimetro:\" + str(p2)) \n",
    "print(\"- Area:\" + str(a2))"
   ]
  },
  {
   "cell_type": "markdown",
   "metadata": {},
   "source": [
    "**Ejemplo 3**: Crear una clase asociada a un cuadrado.\n",
    "    \n",
    "![clase_cuadrado](clase_cuadrado.jpg)    "
   ]
  },
  {
   "cell_type": "code",
   "execution_count": 18,
   "metadata": {},
   "outputs": [
    {
     "data": {
      "text/html": [
       "<div class=\"text-center\"><strong><a style=\"box-sizing: border-box; padding: 0 5px; border: 1px solid #CFCFCF;\" target=\"_\" href=http://pythontutor.com/iframe-embed.html#code=%27%27%27%20Clase%20circulo%20%27%27%27%20%0Aclass%20Cuadrado%28%29%3A%0A%20%20%20%20%0A%20%20%20%20%27%27%27%20Constructor%20%27%27%27%0A%20%20%20%20def%20__init__%28self%2Cs%29%3A%0A%20%20%20%20%20%20%20%20%23%20Miembros%0A%20%20%20%20%20%20%20%20self.side%20%3D%20s%0A%20%20%20%20%0A%20%20%20%20%27%27%27%20Metodos%20%27%27%27%0A%20%20%20%20%23%20Asignar%20lado%0A%20%20%20%20def%20setSide%28self%2C%20s%29%3A%0A%20%20%20%20%20%20%20%20self.side%20%3D%20s%0A%20%20%20%20%0A%20%20%20%20%23%20Obtener%20lado%0A%20%20%20%20def%20getSide%28self%29%3A%0A%20%20%20%20%20%20%20%20return%20self.side%0A%20%20%20%20%20%20%20%20%0A%20%20%20%20%23%20Calcular%20perimetro%0A%20%20%20%20def%20calculatePerimeter%28self%29%3A%0A%20%20%20%20%20%20%20%20P%20%3D%204%2Aself.side%0A%20%20%20%20%20%20%20%20return%20P%0A%20%20%20%20%20%20%20%20%0A%20%20%20%20%23%20Calcular%20area%0A%20%20%20%20def%20calculateArea%28self%29%3A%0A%20%20%20%20%20%20%20%20A%20%3D%20self.side%2A%2A2%0A%20%20%20%20%20%20%20%20return%20A%0A%0A%20%20%20%20%23%20Imprimir%20informacion%3A%0A%20%20%20%20def%20printInfo%28self%29%3A%0A%20%20%20%20%20%20%20%20%27%27%27%0A%20%20%20%20%20%20%20%20Ver%3A%0A%20%20%20%20%20%20%20%20https%3A//pyformat.info/%0A%20%20%20%20%20%20%20%20http%3A//www.python-course.eu/python3_formatted_output.php%20%0A%20%20%20%20%20%20%20%20%27%27%27%0A%20%20%20%20%20%20%20%20print%28%22Radio%20%3D%20%7B%7D%3B%20Perimetro%20%3D%20%7B%7D%3B%20Area%20%3D%20%7B%7D%22.%20%5C%0A%20%20%20%20%20%20%20%20%20%20%20%20%20%20%20format%28self.side%2Cself.calculatePerimeter%28%29%2C%5C%0A%20%20%20%20%20%20%20%20%20%20%20%20%20%20%20self.calculateArea%28%29%29%29%0A&origin=opt-frontend.js&cumulative=false&heapPrimitives=false&textReferences=false&curInstr=0&&verticalStack=false&py=3&rawInputLstJSON=%5B%5D&codeDivWidth=50%25&codeDivHeight=100%25>Python Tutor</a></strong></div>"
      ],
      "text/plain": [
       "<IPython.core.display.HTML object>"
      ]
     },
     "metadata": {},
     "output_type": "display_data"
    }
   ],
   "source": [
    "%%tutor -l python3 -k\n",
    "''' Clase circulo ''' \n",
    "class Cuadrado():\n",
    "    \n",
    "    ''' Constructor '''\n",
    "    def __init__(self,s):\n",
    "        # Miembros\n",
    "        self.side = s\n",
    "    \n",
    "    ''' Metodos '''\n",
    "    # Asignar lado\n",
    "    def setSide(self, s):\n",
    "        self.side = s\n",
    "    \n",
    "    # Obtener lado\n",
    "    def getSide(self):\n",
    "        return self.side\n",
    "        \n",
    "    # Calcular perimetro\n",
    "    def calculatePerimeter(self):\n",
    "        P = 4*self.side\n",
    "        return P\n",
    "        \n",
    "    # Calcular area\n",
    "    def calculateArea(self):\n",
    "        A = self.side**2\n",
    "        return A\n",
    "\n",
    "    # Imprimir informacion:\n",
    "    def printInfo(self):\n",
    "        '''\n",
    "        Ver:\n",
    "        https://pyformat.info/\n",
    "        http://www.python-course.eu/python3_formatted_output.php \n",
    "        '''\n",
    "        print(\"Radio = {}; Perimetro = {}; Area = {}\". \\\n",
    "               format(self.side,self.calculatePerimeter(),\\\n",
    "               self.calculateArea()))"
   ]
  },
  {
   "cell_type": "markdown",
   "metadata": {},
   "source": [
    "**Ejemplo 4**: Crear 4 cuadrados en una lista de lados 1, 2, 4, 8. Luego imprima la información de cada\n",
    "uno de los cuadrados."
   ]
  },
  {
   "cell_type": "code",
   "execution_count": 17,
   "metadata": {},
   "outputs": [
    {
     "name": "stdout",
     "output_type": "stream",
     "text": [
      "Cuadrado 1:\n",
      "Radio = 1; Perimetro = 4; Area = 1\n",
      "\n",
      "Cuadrado 2:\n",
      "Radio = 2; Perimetro = 8; Area = 4\n",
      "\n",
      "Cuadrado 3:\n",
      "Radio = 4; Perimetro = 16; Area = 16\n",
      "\n",
      "Cuadrado 4:\n",
      "Radio = 8; Perimetro = 32; Area = 64\n"
     ]
    }
   ],
   "source": [
    "''' Clase circulo ''' \n",
    "class Cuadrado():\n",
    "    \n",
    "    ''' Constructor '''\n",
    "    def __init__(self,s):\n",
    "        # Miembros\n",
    "        self.side = s\n",
    "    \n",
    "    ''' Metodos '''\n",
    "    # Asignar lado\n",
    "    def setSide(self, s):\n",
    "        self.side = s\n",
    "    \n",
    "    # Obtener lado\n",
    "    def getSide(self):\n",
    "        return self.side\n",
    "        \n",
    "    # Calcular perimetro\n",
    "    def calculatePerimeter(self):\n",
    "        P = 4*self.side\n",
    "        return P\n",
    "        \n",
    "    # Calcular area\n",
    "    def calculateArea(self):\n",
    "        A = self.side**2\n",
    "        return A\n",
    "\n",
    "    # Imprimir informacion:\n",
    "    def printInfo(self):\n",
    "        print(\"Radio = {}; Perimetro = {}; Area = {}\". \\\n",
    "               format(self.side,self.calculatePerimeter(),\\\n",
    "               self.calculateArea()))\n",
    "               \n",
    "# Creando los objetos tipo cuadrado\n",
    "c1 =  Cuadrado(1)\n",
    "c2 =  Cuadrado(2)\n",
    "c3 =  Cuadrado(4)\n",
    "c4 =  Cuadrado(8)\n",
    "\n",
    "# Imprimiendo la informacion de cada objeto\n",
    "print(\"Cuadrado 1:\")\n",
    "c1.printInfo()\n",
    "print(\"\\nCuadrado 2:\")\n",
    "c2.printInfo()\n",
    "print(\"\\nCuadrado 3:\")\n",
    "c3.printInfo()\n",
    "print(\"\\nCuadrado 4:\")\n",
    "c4.printInfo()"
   ]
  },
  {
   "cell_type": "markdown",
   "metadata": {},
   "source": [
    "## Encapsulación y accesibilidad ##\n",
    "En python no hay palabras claves como: ```public```, ```protected``` y ```private``` para definir accesibilidad. En otras palabras, Python, toma todos los atributos como públicos. Sin embargo, hay un método en python para definir private y consiste en agregar dos underscores ```\"__\"``` en frente del miembro o método para ocultar su acceso fuera de la clase. En terminos de codigo esto es:\n",
    "\n",
    "```\n",
    "self.__miembro\n",
    "```\n",
    "\n",
    "Donde el miembto puede ser un atributo (variable de instancia) o un método.\n",
    "\n",
    "La siguiente figura muestra esto para la clase circulo:\n",
    "\n",
    "![ejemplo_circulo4](ejemplo_circulo4.jpg)\n",
    "\n",
    "Recuerda que los datos y métodos privados pueden ser accedidos dentro de una clase (aunque puede que esto no sea exactamente estricto para python) pero no fuera de esta (por ejemplo desde una aplicación cliente). Para poder trabajar a miembros privados se usan métodos getter (accessor) y setter (mutador):\n",
    "* **Métodos getter o accesor**: Se emplean para usar una variable miembro sin modificarla.\n",
    "* **Métodos setter o mutator**: Se emplea para modificar una variable miembro.\n",
    "\n",
    "La siguiente tabla muestra nombres empleados por convención para estos métodos:\n",
    "\n",
    "|Método|Cabecera|\n",
    "|:--|:--|\n",
    "|getter|```def getPropertyName(self)```|\n",
    "|getter → return is Boolean|```def isPropertyName(self)```|\n",
    "|setter|```def setPropertyName(self, propertyValuer)```|\n",
    "\n",
    "La siguiente figura muestra la clase ```Circulo``` teniendo  en cuenta estos cambios.\n",
    "\n",
    "![ejemplo_circulo5](ejemplo_circulo5.jpg)"
   ]
  },
  {
   "cell_type": "markdown",
   "metadata": {},
   "source": [
    "## Herencia ##\n",
    "Python soporta herencia lo que implica que una clase puede heredar de otras claseslo cual permite definir una jerarquia de clases padre e hijo donde:\n",
    "* **Clase padre (superclase)**: Es la clase general.\n",
    "* **Clase hijo (subclase)**: Es la clase especializada, es decir una versión extendida de la clase. Esta hereda atributos y métodos de la superclase. Además, nuevos atributos y métodos pueden ser agregados a esta y metodos definidos en la clase padre pueden ser reescritos.\n",
    "\n",
    "![herencia1](herencia1.jpg)\n",
    "\n"
   ]
  },
  {
   "cell_type": "markdown",
   "metadata": {},
   "source": [
    "## Ejemplos de repaso 2 ##\n",
    "Crear una clase llamada ```Person``` con dos atributos ```firstname``` y ```lastname```. Esta clase solo tendrá un método, llamado Name (esencialmente un método getter) el cual retornará la concatenación del first name con el last name de la persona separados por un espacio. Luego, de que haya creado la clase ```Peson```, crear una clase llamada ```Employee``` el cual herede de la clase Person (pues en si un empleado es una persona) los atributos propios de una persona; pero así mismo, posea un atributo propio asociado al número de identificación en la empresa.\n",
    "\n",
    "![herencia2](herencia2.jpg)"
   ]
  },
  {
   "cell_type": "markdown",
   "metadata": {},
   "source": [
    "## Función super() ##\n",
    "\n",
    "Antes de codificar el ejemplo anteriot es bueno conocer la función ```super``` y lo que esta hace. Esta función hace referencia a la **superclase** de una **subclase** dada y sus principales aplicaciones consisten en:\n",
    "* Inicializar miembros heredados de la superclase.\n",
    "* Invocar métodos de la clase padre.\n",
    "\n",
    "La sintaxis para usar esta función es:\n",
    "\n",
    "```python\n",
    "super().method(params)\n",
    "```\n",
    "\n",
    "La forma de uso de super() anteriormente mostrada solo es posible en Python 3. Sin embargo, existe una forma\n",
    "alternativa valida tanto para Python 3 como para Python 2 cuya forma es:\n",
    "\n",
    "```python\n",
    "super(SuperClass, self).method(params)\n",
    "```\n",
    "\n",
    "Ahora si veamos esto con el ejemplo:\n",
    "\n",
    "![herencia3](herencia3.jpg)"
   ]
  },
  {
   "cell_type": "code",
   "execution_count": 20,
   "metadata": {},
   "outputs": [
    {
     "name": "stdout",
     "output_type": "stream",
     "text": [
      "Marge Simpson\n",
      "Homer Simpson, 1007\n"
     ]
    }
   ],
   "source": [
    "class Person:      \n",
    "  def __init__(self, first, last):        \n",
    "    self.firstname = first        \n",
    "    self.lastname = last    \n",
    "  def Name(self):        \n",
    "    return self.firstname  + \" \" + self.lastname\n",
    "\n",
    "class Employee(Person):    \n",
    "  def __init__(self, first, last, staffnum):        \n",
    "    super().__init__(first, last)        \n",
    "    self.staffnumber = staffnum    \n",
    "  def GetEmployee(self):        \n",
    "    return self.Name() + \", \" +  self.staffnumber\n",
    "\n",
    "x = Person(\"Marge\", \"Simpson\")\n",
    "y = Employee(\"Homer\", \"Simpson\", \"1007\")\n",
    "print(x.Name())\n",
    "print(y.GetEmployee())"
   ]
  },
  {
   "cell_type": "markdown",
   "metadata": {},
   "source": [
    "## Referencias adicionales ##\n",
    "Para profundizar mas sobre el tema puede consultar los siguientes enlaces:\n",
    "1. [Python3 Tutorial](https://www.python-course.eu/python3_course.php)\n",
    "2. [Objetos](https://github.com/masterdatascience-UIMP-UC/introduccion-a-python/blob/master/05.1-oop.ipynb)\n",
    "3. [Introduction to Object Oriented Programming](https://github.com/drvinceknight/oop)\n",
    "4. [Python 3 OOP Notebooks](https://www.thedigitalcatonline.com/blog/2015/03/14/python-3-oop-notebooks/)\n",
    "5. [Object-oriented design](https://notebooks.azure.com/anon-sw/projects/gQ8ZCkODizc/html/12%20Object-oriented%20design.ipynb)\n",
    "6. [Jupyter Notebook - OOP classes and instances](https://mybinder.org/v2/gh/satya-jugran/Complete-Python-Jupyter-Notebook/master?filepath=5-OOP-classes-and-instances.ipynb)\n",
    "7. [Jupyter Notebook - OOP classes and instances](https://mybinder.org/v2/gh/satya-jugran/Complete-Python-Jupyter-Notebook/master?filepath=6-OOP-inheritance-overloading-overriding.ipynb)"
   ]
  }
 ],
 "metadata": {
  "kernelspec": {
   "display_name": "Python 3",
   "language": "python",
   "name": "python3"
  },
  "language_info": {
   "codemirror_mode": {
    "name": "ipython",
    "version": 3
   },
   "file_extension": ".py",
   "mimetype": "text/x-python",
   "name": "python",
   "nbconvert_exporter": "python",
   "pygments_lexer": "ipython3",
   "version": "3.7.4"
  }
 },
 "nbformat": 4,
 "nbformat_minor": 2
}

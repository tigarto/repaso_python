{
 "cells": [
  {
   "cell_type": "markdown",
   "metadata": {},
   "source": [
    "[![Open In Colab](https://colab.research.google.com/assets/colab-badge.svg)](https://colab.research.google.com/github/tigarto/repaso_python/blob/master/control_de_flujo.ipynb)"
   ]
  },
  {
   "cell_type": "markdown",
   "metadata": {},
   "source": [
    "# Control de flujo #"
   ]
  },
  {
   "cell_type": "markdown",
   "metadata": {},
   "source": [
    "## Condicionales: if, elif, else ##"
   ]
  },
  {
   "cell_type": "markdown",
   "metadata": {},
   "source": [
    "### Estructura if simple###"
   ]
  },
  {
   "cell_type": "code",
   "execution_count": 2,
   "metadata": {},
   "outputs": [
    {
     "name": "stdout",
     "output_type": "stream",
     "text": [
      "Digite el nombre del actor: Ramon Valdez\n",
      "Ramon Valdez como el Tripaseca\n"
     ]
    }
   ],
   "source": [
    "actor = input(\"Digite el nombre del actor: \")\n",
    "if actor.lower() == \"ramon valdez\":\n",
    "    print(actor,\"como el Tripaseca\")\n"
   ]
  },
  {
   "cell_type": "markdown",
   "metadata": {},
   "source": [
    "### Estructura if - else ###"
   ]
  },
  {
   "cell_type": "code",
   "execution_count": 4,
   "metadata": {},
   "outputs": [
    {
     "name": "stdout",
     "output_type": "stream",
     "text": [
      "¿Cual es su edad? 15\n",
      "Menor de edad.\n"
     ]
    }
   ],
   "source": [
    "edad = int(input(\"¿Cual es su edad? \"))\n",
    "if edad >= 18:\n",
    "    print(\"Mayor de edad.\")\n",
    "else:\n",
    "    print(\"Menor de edad.\")"
   ]
  },
  {
   "cell_type": "markdown",
   "metadata": {},
   "source": [
    "### Estructura if - elif - else ###"
   ]
  },
  {
   "cell_type": "code",
   "execution_count": 13,
   "metadata": {},
   "outputs": [
    {
     "name": "stdout",
     "output_type": "stream",
     "text": [
      "Digite la nota (0 - 5): 4.3\n",
      "Excelente\n"
     ]
    }
   ],
   "source": [
    "nota = float(input(\"Digite la nota (0 - 5): \"))\n",
    "if ((nota > 5.0) or (nota < 0.0)):\n",
    "    print(\"ERROR: La nota esta fuera del rango!\")\n",
    "elif nota >= 4:\n",
    "    print(\"Excelente\")\n",
    "elif nota >= 3:\n",
    "    print(\"Bueno\")\n",
    "else:\n",
    "    print(\"Insuficiente\")"
   ]
  },
  {
   "cell_type": "markdown",
   "metadata": {},
   "source": [
    "## Iteraciones y ciclos lógicos ##"
   ]
  },
  {
   "cell_type": "markdown",
   "metadata": {},
   "source": [
    "### Ciclos while ###"
   ]
  },
  {
   "cell_type": "code",
   "execution_count": 25,
   "metadata": {},
   "outputs": [
    {
     "name": "stdout",
     "output_type": "stream",
     "text": [
      "1 + 2 + ... + 100 = 5050\n"
     ]
    }
   ],
   "source": [
    "# Ejemplo que suma todos los numeros desde el 0 hasta el 100\n",
    "sum = 0\n",
    "i = 0\n",
    "NUM_FINAL = 100\n",
    "while i <= NUM_FINAL:\n",
    "    sum += i\n",
    "    i += 1\n",
    "print(\"1 + 2 + ... + 100 = \" + str(sum))"
   ]
  },
  {
   "cell_type": "markdown",
   "metadata": {},
   "source": [
    "### Interrupciones de ejecución de un bloque ###\n",
    "En ciertas circunstancias es necesario interrumpir el flujo lógico de un programa. Python cuenta con los siguientes recursos para hacerlo.\n",
    "* La palabra reservada **continue**.\n",
    "* La palabra reservada **break**."
   ]
  },
  {
   "cell_type": "markdown",
   "metadata": {},
   "source": [
    "#### Ejemplo break ####\n",
    "Hacer un ciclo que este programado para iterar desde 1 hasta 10, pero que cuando el valor de la variable de control de este llegue a 4 se rompa saliendo del ciclo."
   ]
  },
  {
   "cell_type": "code",
   "execution_count": 26,
   "metadata": {
    "scrolled": true
   },
   "outputs": [
    {
     "name": "stdout",
     "output_type": "stream",
     "text": [
      "----------------\n",
      "i = 0\n",
      "----------------\n",
      "i = 1\n",
      "----------------\n",
      "i = 2\n",
      "----------------\n",
      "i = 3\n",
      "Rompiendo el ciclo\n"
     ]
    }
   ],
   "source": [
    "i = 0\n",
    "NUM_FINAL = 10\n",
    "print(\"----------------\")\n",
    "while i <= NUM_FINAL:\n",
    "    print(\"i = \" + str(i))\n",
    "    i += 1\n",
    "    if i >= 4:\n",
    "        print(\"Rompiendo el ciclo\")\n",
    "        break\n",
    "    print(\"----------------\")"
   ]
  },
  {
   "cell_type": "markdown",
   "metadata": {},
   "source": [
    "#### Ejemplo continue ####\n",
    "Hacer un ciclo que este programado para iterar desde 1 hasta 10, pero que cuando el valor de la variable de control de este llegue a 4 se llame la sentencia continue."
   ]
  },
  {
   "cell_type": "code",
   "execution_count": 27,
   "metadata": {},
   "outputs": [
    {
     "name": "stdout",
     "output_type": "stream",
     "text": [
      "----------------\n",
      "i = 0\n",
      "----------------\n",
      "i = 1\n",
      "----------------\n",
      "i = 2\n",
      "----------------\n",
      "i = 3\n",
      "i = 4\n",
      "i = 5\n",
      "i = 6\n",
      "i = 7\n",
      "i = 8\n",
      "i = 9\n",
      "i = 10\n"
     ]
    }
   ],
   "source": [
    "i = 0\n",
    "NUM_FINAL = 10\n",
    "print(\"----------------\")\n",
    "while i <= NUM_FINAL:\n",
    "    print(\"i = \" + str(i))\n",
    "    i += 1\n",
    "    if i >= 4:\n",
    "        continue\n",
    "    # Despues de que se llama el continue esta instruccion nunca se ejecuta\n",
    "    print(\"----------------\")"
   ]
  },
  {
   "cell_type": "markdown",
   "metadata": {},
   "source": [
    "### Ciclos for ###\n",
    "Python permite realizar iteraciones de forma dinámica a partir de diversos objetos **iterables** (los cuales son colecciones de objetos con métodos capaces de regresar elementos de uno en uno). Algunos tipos iterables son:\n",
    "* str\n",
    "* list\n",
    "* tuple\n",
    "* dict\n",
    "* set\n",
    "* frozenset\n",
    "* bytes"
   ]
  },
  {
   "cell_type": "markdown",
   "metadata": {},
   "source": [
    "**Iterando sobre un string**"
   ]
  },
  {
   "cell_type": "code",
   "execution_count": 28,
   "metadata": {},
   "outputs": [
    {
     "name": "stdout",
     "output_type": "stream",
     "text": [
      "U\n",
      "n\n",
      "i\n",
      "v\n",
      "e\n",
      "r\n",
      "s\n",
      "i\n",
      "d\n",
      "a\n",
      "d\n",
      " \n",
      "d\n",
      "e\n",
      " \n",
      "A\n",
      "n\n",
      "t\n",
      "i\n",
      "o\n",
      "q\n",
      "u\n",
      "i\n",
      "a\n"
     ]
    }
   ],
   "source": [
    "for letra in \"Universidad de Antioquia\":\n",
    "    print(letra)"
   ]
  },
  {
   "cell_type": "markdown",
   "metadata": {},
   "source": [
    "**Iterando sobre una lista**"
   ]
  },
  {
   "cell_type": "code",
   "execution_count": 30,
   "metadata": {},
   "outputs": [
    {
     "name": "stdout",
     "output_type": "stream",
     "text": [
      "-1\n",
      "2.15\n",
      "casa\n",
      "carro\n",
      "beca\n"
     ]
    }
   ],
   "source": [
    "L = [-1,2.15,'casa','carro','beca']\n",
    "for e in L:\n",
    "    print(e)"
   ]
  },
  {
   "cell_type": "markdown",
   "metadata": {},
   "source": [
    "**Iterando sobre diccionarios**"
   ]
  },
  {
   "cell_type": "code",
   "execution_count": 43,
   "metadata": {},
   "outputs": [
    {
     "name": "stdout",
     "output_type": "stream",
     "text": [
      "001 Bart\n",
      "002 Lisa\n",
      "003 Milhose\n",
      "004 Nelson\n"
     ]
    }
   ],
   "source": [
    "listaClase = {'001':'Bart','002':'Lisa','003':'Milhose','004':'Nelson'}\n",
    "for k in listaClase:\n",
    "    print(k,listaClase[k])\n",
    "    "
   ]
  },
  {
   "cell_type": "code",
   "execution_count": 44,
   "metadata": {},
   "outputs": [
    {
     "name": "stdout",
     "output_type": "stream",
     "text": [
      "Bart\n",
      "Lisa\n",
      "Milhose\n",
      "Nelson\n"
     ]
    }
   ],
   "source": [
    "listaClase = {'001':'Bart','002':'Lisa','003':'Milhose','004':'Nelson'}\n",
    "for estudiante in listaClase.values():\n",
    "    print(estudiante)"
   ]
  },
  {
   "cell_type": "code",
   "execution_count": 45,
   "metadata": {},
   "outputs": [
    {
     "name": "stdout",
     "output_type": "stream",
     "text": [
      "001\n",
      "002\n",
      "003\n",
      "004\n"
     ]
    }
   ],
   "source": [
    "listaClase = {'001':'Bart','002':'Lisa','003':'Milhose','004':'Nelson'}\n",
    "for id in listaClase:\n",
    "    print(id)"
   ]
  },
  {
   "cell_type": "code",
   "execution_count": 46,
   "metadata": {},
   "outputs": [
    {
     "name": "stdout",
     "output_type": "stream",
     "text": [
      "('001', 'Bart')\n",
      "('002', 'Lisa')\n",
      "('003', 'Milhose')\n",
      "('004', 'Nelson')\n"
     ]
    }
   ],
   "source": [
    "listaClase = {'001':'Bart','002':'Lisa','003':'Milhose','004':'Nelson'}\n",
    "for e in listaClase.items():\n",
    "    print(e)"
   ]
  },
  {
   "cell_type": "markdown",
   "metadata": {},
   "source": [
    "**Iteraciones con la función range**\n",
    "\n",
    "Esta función es un generador que regresa una sucesión de números en un rango definido.\n",
    "\n",
    "```\n",
    "range(inicio, fin, paso)\n",
    "```\n",
    "\n",
    "**Donde**:\n",
    "\n",
    "* **inicio**: es el primer número del rango.\n",
    "* **fin**: es el valor límite del rango. La sucesión llegará hasta **fin - 1**.\n",
    "* **paso**: es a magnitud de los inrementos o decrementos del rango."
   ]
  },
  {
   "cell_type": "code",
   "execution_count": 32,
   "metadata": {},
   "outputs": [
    {
     "name": "stdout",
     "output_type": "stream",
     "text": [
      "0\n",
      "1\n",
      "2\n",
      "3\n",
      "4\n",
      "5\n",
      "6\n",
      "7\n",
      "\n"
     ]
    }
   ],
   "source": [
    "\"\"\" Cuenta del 0 hasta 7 en incrementos de a 1.\"\"\"\n",
    "for contador in range(8):\n",
    "    print(contador)\n",
    "print()"
   ]
  },
  {
   "cell_type": "code",
   "execution_count": 33,
   "metadata": {},
   "outputs": [
    {
     "name": "stdout",
     "output_type": "stream",
     "text": [
      "5\n",
      "6\n",
      "7\n",
      "8\n",
      "\n"
     ]
    }
   ],
   "source": [
    "\"\"\" Cuenta del 5 hasta antes de 9 en incrementos de a 1. \"\"\"\n",
    "for contador in range(5, 9):\n",
    "    print(contador)\n",
    "print()"
   ]
  },
  {
   "cell_type": "code",
   "execution_count": 34,
   "metadata": {},
   "outputs": [
    {
     "name": "stdout",
     "output_type": "stream",
     "text": [
      "3\n",
      "5\n",
      "7\n",
      "9\n",
      "\n"
     ]
    }
   ],
   "source": [
    "\"\"\" Cuenta de 3 hasta antess de 11 en incrementos de a 2. \"\"\"\n",
    "for contador in range(3, 11, 2):\n",
    "    print(contador)\n",
    "print()"
   ]
  },
  {
   "cell_type": "code",
   "execution_count": 35,
   "metadata": {},
   "outputs": [
    {
     "name": "stdout",
     "output_type": "stream",
     "text": [
      "26\n",
      "22\n",
      "18\n",
      "14\n"
     ]
    }
   ],
   "source": [
    "\"\"\" Cuenta del 26 hasta más de 10 en decrementos de a -4. \"\"\"\n",
    "for contador in range(26, 10, -4):\n",
    "    print(contador)"
   ]
  },
  {
   "cell_type": "code",
   "execution_count": 48,
   "metadata": {},
   "outputs": [
    {
     "name": "stdout",
     "output_type": "stream",
     "text": [
      "i: 0 j: 0\n",
      "i: 0 j: 1\n",
      "i: 0 j: 2\n",
      "i: 0 j: 3\n",
      "i: 0 j: 4\n",
      "i: 1 j: 0\n",
      "i: 1 j: 1\n",
      "i: 1 j: 2\n",
      "i: 1 j: 3\n",
      "i: 1 j: 4\n"
     ]
    }
   ],
   "source": [
    "\"\"\" Ciclos anidados \"\"\"\n",
    "for i in range(2):\n",
    "    for j in range(5):\n",
    "        print(\"i: %d j: %d\" %(i,j))"
   ]
  },
  {
   "cell_type": "markdown",
   "metadata": {},
   "source": [
    "## Desempaquetado ##\n",
    "\n",
    "Python permite el uso de expresiones capaces de asignar valores a mas de un nombre a partir de una colección.\n",
    "\n",
    "Si el número de nombres coincide con el número de objetos contenidos en la colección, entonces se asignará el primer valor al primer nombre y así sucesivamente.\n",
    "\n",
    "```\n",
    "<nombre 1>, <nombre 2>, ..., <nombre n> = <colección de tamaño n>\n",
    "```\n",
    "\n",
    "En caso de que el número de nombres y el tamaño de la colección no coincida, se desencadenará un error de tipo ValueError"
   ]
  },
  {
   "cell_type": "code",
   "execution_count": 36,
   "metadata": {},
   "outputs": [
    {
     "name": "stdout",
     "output_type": "stream",
     "text": [
      "Pepe\n",
      "Pérez\n",
      "4.5\n"
     ]
    }
   ],
   "source": [
    "nombre, apellido, calificacion = ['Pepe', 'Pérez', 4.5]\n",
    "print(nombre)\n",
    "print(apellido)\n",
    "print(calificacion)\n"
   ]
  },
  {
   "cell_type": "code",
   "execution_count": 37,
   "metadata": {},
   "outputs": [
    {
     "ename": "ValueError",
     "evalue": "too many values to unpack (expected 3)",
     "output_type": "error",
     "traceback": [
      "\u001b[0;31m---------------------------------------------------------------------------\u001b[0m",
      "\u001b[0;31mValueError\u001b[0m                                Traceback (most recent call last)",
      "\u001b[0;32m<ipython-input-37-f7311b294cbf>\u001b[0m in \u001b[0;36m<module>\u001b[0;34m\u001b[0m\n\u001b[0;32m----> 1\u001b[0;31m \u001b[0mnombre\u001b[0m\u001b[0;34m,\u001b[0m \u001b[0mapellido\u001b[0m\u001b[0;34m,\u001b[0m \u001b[0mcalificacion\u001b[0m \u001b[0;34m=\u001b[0m \u001b[0;34m[\u001b[0m\u001b[0;34m'Pepe'\u001b[0m\u001b[0;34m,\u001b[0m \u001b[0;34m'Pérez'\u001b[0m\u001b[0;34m,\u001b[0m \u001b[0;34m'Erroneo'\u001b[0m\u001b[0;34m,\u001b[0m \u001b[0;36m7.5\u001b[0m\u001b[0;34m]\u001b[0m\u001b[0;34m\u001b[0m\u001b[0;34m\u001b[0m\u001b[0m\n\u001b[0m\u001b[1;32m      2\u001b[0m \u001b[0mprint\u001b[0m\u001b[0;34m(\u001b[0m\u001b[0mnombre\u001b[0m\u001b[0;34m)\u001b[0m\u001b[0;34m\u001b[0m\u001b[0;34m\u001b[0m\u001b[0m\n\u001b[1;32m      3\u001b[0m \u001b[0mprint\u001b[0m\u001b[0;34m(\u001b[0m\u001b[0mapellido\u001b[0m\u001b[0;34m)\u001b[0m\u001b[0;34m\u001b[0m\u001b[0;34m\u001b[0m\u001b[0m\n\u001b[1;32m      4\u001b[0m \u001b[0mprint\u001b[0m\u001b[0;34m(\u001b[0m\u001b[0mcalificacion\u001b[0m\u001b[0;34m)\u001b[0m\u001b[0;34m\u001b[0m\u001b[0;34m\u001b[0m\u001b[0m\n",
      "\u001b[0;31mValueError\u001b[0m: too many values to unpack (expected 3)"
     ]
    }
   ],
   "source": [
    "nombre, apellido, calificacion = ['Pepe', 'Pérez', 'Erroneo', 7.5]\n",
    "print(nombre)\n",
    "print(apellido)\n",
    "print(calificacion)"
   ]
  },
  {
   "cell_type": "code",
   "execution_count": null,
   "metadata": {},
   "outputs": [],
   "source": []
  }
 ],
 "metadata": {
  "kernelspec": {
   "display_name": "Python 3",
   "language": "python",
   "name": "python3"
  },
  "language_info": {
   "codemirror_mode": {
    "name": "ipython",
    "version": 3
   },
   "file_extension": ".py",
   "mimetype": "text/x-python",
   "name": "python",
   "nbconvert_exporter": "python",
   "pygments_lexer": "ipython3",
   "version": "3.7.4"
  }
 },
 "nbformat": 4,
 "nbformat_minor": 2
}

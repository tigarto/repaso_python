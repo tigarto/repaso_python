{
 "cells": [
  {
   "cell_type": "markdown",
   "metadata": {},
   "source": [
    "[![Open In Colab](https://colab.research.google.com/assets/colab-badge.svg)](https://colab.research.google.com/github/tigarto/repaso_python/blob/master/Variables_estructuradas.ipynb)"
   ]
  },
  {
   "cell_type": "markdown",
   "metadata": {},
   "source": [
    "# Tipos de datos estructurados #"
   ]
  },
  {
   "cell_type": "markdown",
   "metadata": {},
   "source": [
    "## Strings ##\n",
    "\n",
    "Es un arreglo compuesto por caracteres por lo que es conocido como **cadenas de cadenas de caracteres**. Es común usar este tipo de variables que para guardar un mensaje, palabra, etc. Los strings se declaran colocando entre comillas dobles (```\"```) o sencillas (```'```) la secuencia de caracteres.\n"
   ]
  },
  {
   "cell_type": "markdown",
   "metadata": {},
   "source": [
    "|Operador|Accion|Ejemplo|Resultado|\n",
    "|:--------|:------|:-------|:---------|\n",
    "|```s[i]``` |Retorna el elemento **i-ésimo** del string **s**.|```C = 'Hello world'``` | ```C[0] -> 'H'``` <br/>```C[-11] --> 'H'```<br/>```C[-3] --> 'r'```<br/>```C[8] --> 'o'``` |\n",
    "|```len(s)``` |Retorna la longitud del string **s**.|```A = 'Hello world'``` | ```len(A) -> 11```|\n",
    "|```s1 + s2``` |Retorna la concatenación de las cadenas **s1** y **s2**.|```B1 = 'Hello'``` <br/>```B2 = 'nena'``` | ```s1 + s2 -> 'Hellonena'```<br/>```s1 + ' ' + s2 -> 'Hello nena'```|\n",
    "|```n*s``` |Repite **n** veces la cadena **s**.|```D = \"ja\"``` | ```3*D -> \"jajaja\"```|\n",
    "|```s[start:end]``` |Retorna el segmento de la cadena **s** entre **start** y **end - 1**.|```C = 'Hello world'``` | ```C[2:7] -> 'llo w'``` <br/> ```C[:5] -> 'Hello'``` <br/> ```C[6:] -> 'world'``` <br/> ```C[:] -> 'Hello world'``` <br/> ```C[-5:-1] -> 'worl'``` <br/> ```C[-6:] -> 'world'``` <br/> ```C[:-6] -> 'Hello'```|\n",
    "|```e in s``` |Retorna **True** si **e** está en el string **s**.|```voc = 'a'``` <br/>```frase = 'centella'```| ```voc in frase -> True``` <br/>```'a' in frace -> True``` <br/>```'va' in 'vaca' -> True``` <br/>```'ba' in 'vaca' -> False```|\n",
    "|```e not in L``` |Retorna **True** si **e** no está en la cadena  **s**.|```l = 'i'``` <br/>```c = 'z'``` <br/>```voc = \"aeiou\" ``` | ```l not in voc -> False``` <br/>```l not in voc -> True``` |\n",
    "|```min(L)``` |Retorna el elemento más pequeño del string **s**.|```frase = 'centella'``` | ```min(frase) -> 'a'``` <br/>  ```min(\"aeiou\") -> 'a'```|\n",
    "|```max(L)``` |Retorna el mayor elemento de la del string **s**.|```frase = 'centella'``` | ```max(frase) -> 't'``` <br/>  ```max(\"aeiou\") -> 'u'``` |\n",
    "|```for e in L``` |Itera sobre los elementos de **s**.|```U = 'Antioquia'``` <br/> ```for l in U:``` <br/>&nbsp;&nbsp;&nbsp; ```print(l)```| ```A``` <br/> ```n```<br/> ```t``` <br/> ```i```<br/> ```o``` <br/> ```q```<br/> ```u``` <br/> ```i```<br/> ```a```|"
   ]
  },
  {
   "cell_type": "markdown",
   "metadata": {},
   "source": [
    "\n",
    "### Métodos ###\n",
    "\n",
    "#### Métodos que verifican el contenido de un string ####\n",
    "\n",
    "|Función|Accion|Ejemplo|Resultado|\n",
    "|:--------|:------|:-------|:---------|\n",
    "|```s.isalpha()```|Devuelve True si el string **s** contiene solo letras|```s1 = 'Hello'```<br/>```s2 = 'Hello!'```|```s1.isalpha() -> True``` <br/>```s2.isalpha() -> False```|\n",
    "|```s.isdigit()``` |Devuelve True si el string **s** contiene solo digitos|```s1 = '124'```<br/>```s2 = '124A'```|```s1.isdigit() -> True``` <br/>```s2.isdigit() -> False```|\n",
    "|```s.islower()```  <br/> ```s.isupper()``` |Devuelve True si *s* contiene solo letras minúsculas(o mayúsculas).|```s1 = 'hello'```<br/>```s2 = 'Hello'```|```s1.islower() -> True``` <br/>```s2.isupper() -> False```|\n",
    "\n",
    "#### Métodos que buscan el contenido de un string ####\n",
    "\n",
    "|Función|Accion|Ejemplo|Resultado|\n",
    "|:--------|:------|:-------|:---------|\n",
    "|```s.find(w)```|Retorna el índice de la primera ocurrencia de **w** en **s** o -1 si **w** no está en **s**.|```s1 = 'Hello'```<br/>```s2 = 'Bye!'```|```s1.find('o') -> 4``` <br/>```s2.find('o') -> -1```|\n",
    "\n",
    "#### Métodos para reemplazar el contenido de un string ####\n",
    "\n",
    "|Función|Accion|Ejemplo|Resultado|\n",
    "|:--------|:------|:-------|:---------|\n",
    "|```s.replace(w,t)```|Retorna una copia de **s** con todas las ocurrencia de **w** reemplazadas por **t**.|```s1 = 'Hello'```<br/>```s2 = 'Hello'```|```s1.replace('H','J') -> 'Jello'``` <br/>```s2.replace('ll','r') -> 'Hero'```|\n",
    "|```s.lower()```  <br/> ```s.upper()``` |Retorna la versión minúscula (o mayúscula) de **s**.|```s1 = 'Hello!'```<br/>```s2 = 'Hello!'```|```s1.lower() -> 'hello!'``` <br/>```s2.upper() -> 'HELLO!'```|\n",
    "|```s.strip()```|Retorna una copia de **s** con los caracteres iniciales y finales en los que aparece **w** removidos.|```s1 = 'Hello!'```<br/>```s2 = 'Hello\\n'```<br/>```s3 = 'ababcdeababfghba'```|```s1.strip(' !') -> 'Hello'``` <br/>```s2.strip('\\n') -> 'Hello!'``` <br/>```s3.strip('ba') -> 'cdeababfgh'```|\n",
    "|```s.lstrip()```|Retorna una copia de **s** con los caracteres iniciales en los que aparece **w** removidos.|```s1 = 'Hello! '```<br/>```s2 = 'Hello\\n'```<br/>```s3 = 'ababcdeababfghba'```|```s1.lstrip(' !') -> 'Hello! '``` <br/>```s2.lstrip('\\n') -> 'Hello!\\n'``` <br/>```s3.lstrip('ba') -> 'cdeababfghba'```|\n",
    "|```s.rstrip()```|Retorna una copia de **s** con los caracteres finales en los que aparece **w** removidos.|```s1 = 'Hello! '```<br/>```s2 = 'Hello\\n'```<br/>```s3 = 'ababcdeababfghba'```|```s1.rstrip(' !') -> 'Hello'``` <br/>```s2.rstrip('\\n') -> 'Hello!'``` <br/>```s3.rstrip('ba') -> 'ababcdeababfgh'```|\n",
    "\n",
    "#### Métodos para dividir un string ####\n",
    "\n",
    "|Función|Accion|Ejemplo|Resultado|\n",
    "|:--------|:------|:-------|:---------|\n",
    "|```s.split(w)```|Retorna una lista que contiene todos los strings delimitados por w.|```s = 'gallo,gato'```|```s.split(',') -> ['gallo', 'gato']```|\n",
    "\n"
   ]
  },
  {
   "cell_type": "markdown",
   "metadata": {},
   "source": [
    "## Listas ##\n",
    "\n",
    "Una lista es un arreglo ordenado de elementos de cualquier tipo. Se define por valores separados por coma y encerrados por dos corchetes ([])"
   ]
  },
  {
   "cell_type": "markdown",
   "metadata": {},
   "source": [
    "### Operadores ###\n",
    "\n",
    "|Operador|Accion|Ejemplo|Resultado|\n",
    "|:--------|:------|:-------|:---------|\n",
    "|```L[i]``` |Retorna el elemento **i-ésimo** de lista **L**.|```A = [1,2,3,4,-3]``` | ```A[5] -> 1``` <br/>```A[-2] --> 4``` |\n",
    "|```len(L)``` |Retorna la longitud de la lista **L**.|```A = [1,2,3,4,-3]``` | ```len(A) -> 5```|\n",
    "|```L1 + L2``` |Retorna la concatenación de las listas **L1** y **L2**.|```x = ['a', 'b']``` <br/>```y = [1,2,3]``` | ```x + y -> ['a', 'b', 1, 2, 3]```|\n",
    "|```n*L``` |Repite **n** veces la lista **L**.|```z = [-1,-2,0]``` | ```2*z -> [-1, -2, 0, -1, -2, 0]```|\n",
    "|```L[start:end]``` |Retorna el segmento de la lista **L** entre **start** y **end – 1**.|```A = [1,2,5,4,-3]``` | ```A[1:3] -> [2,5]``` <br/> ```A[:4] -> [1,2,5,4]``` <br/> ```A[3:] -> [4,-3]``` <br/> ```A[:] -> [1,2,5,4,-3]```|\n",
    "|```e in L``` |Retorna **True** si **e** está en la lista  **L**.|```A = ['a', 'bc']``` | ```'bc' in A -> True``` <br/>```'b' in A -> False``` |\n",
    "|```e not in L``` |Retorna **True** si **e** no está en la lista  **L**.|```A = ['a', 'bc']``` | ```'bc' not in A -> False``` <br/>```'b' in A -> True``` |\n",
    "|```min(L)``` |Retorna el elemento más pequeño de la lista **L**.|```t = [-10,4,-2,0]``` | ```min(t) -> -10``` |\n",
    "|```max(L)``` |Retorna el mayor elemento de la lista **L**.|```t = [-10,4,-2,0]``` | ```max(t) -> 4``` |\n",
    "|```for e in L``` |Itera sobre los elementos de **L**.|```B = [1,2,3]``` <br/> ```for num in B:``` <br/>&nbsp;&nbsp;&nbsp; ```print(num)```| ```1``` <br/> ```2```<br/> ```3```|\n",
    "\n"
   ]
  },
  {
   "cell_type": "markdown",
   "metadata": {},
   "source": [
    "#### Ejemplos ####\n",
    "\n",
    "1. Defina una lista con los siguientes elementos: 20, True, \"good\", \"good\".\n",
    "2. Defina las siguientes llistas:\n",
    "    * cienciasExatas: Calculo, Matematicas, Informatica, Fisica, Estadistica\n",
    "    * cienciasHumanas: Filosofia, Literatura, Historia, Sociales.\n",
    "3. Crear una lista con los elementos de materiasExatas y materiasHumanas.\n",
    "4. Imprimir los indices mostrados a continuación:\n",
    "    * ciencias[1]\n",
    "    * ciencias[-3]\n",
    "    * ciencias[:8]\n",
    "    * ciencias[1::5]\n",
    "    * ciencias[-1:-7:-1]\n",
    "5. Muestre si Matematicas esta en cienciasHumanas.\n",
    "6. Muestre si Matematicas no esta en cienciasHumanas.\n",
    "7. Datas las siguientes notas: 2.3, 4.5, 5.0, 1.4, 4.1, 2.2\n",
    "    * Encuentre la nota mas alta.\n",
    "    * Encuentre la nota mas baja.\n",
    "    * Encuentre la suma y el promedio de las notas."
   ]
  },
  {
   "cell_type": "markdown",
   "metadata": {},
   "source": [
    "**Solución**"
   ]
  },
  {
   "cell_type": "code",
   "execution_count": 5,
   "metadata": {},
   "outputs": [
    {
     "data": {
      "text/plain": [
       "[20, True, 'good', 'good']"
      ]
     },
     "execution_count": 5,
     "metadata": {},
     "output_type": "execute_result"
    }
   ],
   "source": [
    "# Punto 1\n",
    "L = [20, True, \"good\", \"good\"]\n",
    "L"
   ]
  },
  {
   "cell_type": "code",
   "execution_count": 8,
   "metadata": {},
   "outputs": [
    {
     "name": "stdout",
     "output_type": "stream",
     "text": [
      "Ciencias exactas: ['Calculo', 'Matematicas', 'Fisica', 'Estadistica']\n",
      "Ciencias humanas: ['Filosofia', 'Literatura', 'Historia', 'Sociales']\n"
     ]
    }
   ],
   "source": [
    "# Punto 2\n",
    "cienciasExatas = [\"Calculo\", \"Matematicas\", \"Fisica\", \"Estadistica\"]\n",
    "cienciasHumanas = [\"Filosofia\", \"Literatura\", \"Historia\", \"Sociales\"]\n",
    "print(\"Ciencias exactas: \" + str(cienciasExatas))\n",
    "print(\"Ciencias humanas: \" + str(cienciasHumanas))"
   ]
  },
  {
   "cell_type": "code",
   "execution_count": 9,
   "metadata": {},
   "outputs": [
    {
     "data": {
      "text/plain": [
       "['Calculo',\n",
       " 'Matematicas',\n",
       " 'Fisica',\n",
       " 'Estadistica',\n",
       " 'Filosofia',\n",
       " 'Literatura',\n",
       " 'Historia',\n",
       " 'Sociales']"
      ]
     },
     "execution_count": 9,
     "metadata": {},
     "output_type": "execute_result"
    }
   ],
   "source": [
    "# Punto 3\n",
    "ciencias = cienciasExatas + cienciasHumanas\n",
    "ciencias"
   ]
  },
  {
   "cell_type": "code",
   "execution_count": 11,
   "metadata": {},
   "outputs": [
    {
     "name": "stdout",
     "output_type": "stream",
     "text": [
      "['Calculo', 'Matematicas', 'Fisica', 'Estadistica', 'Filosofia', 'Literatura', 'Historia', 'Sociales']\n",
      "------------------------------\n",
      "Matematicas\n",
      "Literatura\n",
      "['Calculo', 'Matematicas', 'Fisica', 'Estadistica', 'Filosofia', 'Literatura', 'Historia', 'Sociales']\n",
      "['Matematicas', 'Historia']\n",
      "['Sociales', 'Historia', 'Literatura', 'Filosofia', 'Estadistica', 'Fisica']\n"
     ]
    }
   ],
   "source": [
    "# Punto 4\n",
    "#cienciasExatas\n",
    "print(ciencias)\n",
    "print('------------------------------')\n",
    "# ciencias[1])\n",
    "print(ciencias[1])\n",
    "# ciencias[-3]\n",
    "print(ciencias[-3])\n",
    "# ciencias[:8]\n",
    "print(ciencias[:8])\n",
    "# ciencias[1::5]\n",
    "print(ciencias[1::5])\n",
    "# ciencias[-1:-7:-1]\n",
    "print(ciencias[-1:-7:-1])"
   ]
  },
  {
   "cell_type": "code",
   "execution_count": 14,
   "metadata": {},
   "outputs": [
    {
     "data": {
      "text/plain": [
       "False"
      ]
     },
     "execution_count": 14,
     "metadata": {},
     "output_type": "execute_result"
    }
   ],
   "source": [
    "# Punto 5\n",
    "\"Matematicas\" in cienciasHumanas"
   ]
  },
  {
   "cell_type": "code",
   "execution_count": 16,
   "metadata": {},
   "outputs": [
    {
     "data": {
      "text/plain": [
       "True"
      ]
     },
     "execution_count": 16,
     "metadata": {},
     "output_type": "execute_result"
    }
   ],
   "source": [
    "# Punto 6\n",
    "\"Matematicas\" not in cienciasHumanas"
   ]
  },
  {
   "cell_type": "code",
   "execution_count": 19,
   "metadata": {},
   "outputs": [
    {
     "name": "stdout",
     "output_type": "stream",
     "text": [
      "[2.3, 4.5, 5.0, 1.4, 4.1, 2.2]\n",
      "Nota maxima: 5.0\n",
      "Nota minima: 1.4\n",
      "Suma de las notas: 19.5\n",
      "Promedio: 3.25\n"
     ]
    }
   ],
   "source": [
    "# Punto 7\n",
    "notas = [2.3, 4.5, 5.0, 1.4, 4.1, 2.2]\n",
    "print(notas)\n",
    "M = max(notas)\n",
    "print(\"Nota maxima: \" + str(M))\n",
    "print(\"Nota minima:\",min(notas))\n",
    "print(\"Suma de las notas:\",sum(notas))\n",
    "print(\"Promedio:\",sum(notas)/len(notas))\n"
   ]
  },
  {
   "cell_type": "markdown",
   "metadata": {},
   "source": [
    "\n",
    "### Métodos ###\n",
    "\n",
    "|Función|Accion|Ejemplo|Resultado|\n",
    "|:--------|:------|:-------|:---------|\n",
    "|```list.append(e)```|Agrega el objeto **e** al final de la lista|```L = [1, 2, 3]```<br/>```M = ['a','b']```|```L.append(-5) -> [1, 2, 3,-5]```<br/>```M.append([2,3]) -> ['a','b',[2,3]]```|\n",
    "|```list.count(e)``` |Retorna el número de veces que **e** se encuentra en la lista|```M = ['a','b','c','d']```|```M.count('b') -> 2```|\n",
    "|```list.insert(i, e)``` |Inserta el objeto **e** en la posición **i** de la lista|```L = ['a','b','c']```|```L.insert(1, 'x') -> ['a', 'x', 'b', 'c']```|\n",
    "|```list.extend(list2)``` |Agrega todos los elementos de **list2** al final de la lista|```M = ['a','b']```|```M.extend([2,3])  -> ['a', 'b', 2, 3]```|\n",
    "|```list.remove(e)``` |Borra el primer elemento **e** que encuentre en la lista|```M = ['a','b','c','d']```|```M.remove('b')  -> ['a','c','d']```|\n",
    "|```list.index(e)``` |Retorna la posición del primer elemento **e** que encuentre|```L = ['a','b','c','d']```|```L.index('b')  -> 1```|\n",
    "|```list.pop(i)``` |Borra el elemento de la posición **i**|```L = ['a','b','c']```|```L.pop('1')  -> ['a','c']```|\n",
    "|```list.sort()``` |Ordena la lista|```L = [2, 1, 3, 2]```|```L.sort()  -> [1, 2, 2, 3]```|\n",
    "|```list.reverse()``` |Invierte el orden de la lista|```L = [1, 2, 3] ```|```L.sort()  -> [3, 2, 1]```|\n",
    "\n",
    "Para consultar mas metodos puede correr los siguientes comandos\n",
    "\n",
    "|Comando|Accion|\n",
    "|:--------|:------|\n",
    "|```dir(list)```|Lista atributos y metodos de un objeto tipo **list**|\n",
    "|```help(list)```|Despliega toda la información (atributos y metodos) de un objeto tipo **list**|\n",
    "|```help(list.metodo)```|Despliega toda la información del atributo o metodos metodo pasado|\n",
    "\n",
    "A continuación se muestra el despliegue de la información para el metodo **extend**\n"
   ]
  },
  {
   "cell_type": "markdown",
   "metadata": {},
   "source": [
    "#### Ejemplos ####\n",
    "1. Crear una lista con los elementos: 1, 2, 5, \"xxx\", 7, 3, -25\n",
    "2. Usando append agregue -2.3 al final de la lista.\n",
    "3. Agregar [2, 3] al final de la linea.\n",
    "4. Cuente el numero de unos (1) que hay en la lista.\n",
    "5. Inserte en la posición 2, la lista [4,3,2,1].\n",
    "6. Sea L2 otra lista con [\"pepe\", \"pepa\", \"pipx\"]. Extienda L1 con L2. En que se diferencia append (aplicda en el punto) de extend.\n",
    "7. Borre el elemento [\"xxx\",\"yyy\"] de la lista.\n",
    "8. Averiguar la posición de: \"xxx\" y de [4 , 3, 2, 1] \n",
    "9. Borrar los dos elementos del punto anterior.\n",
    "10. Ordene la lista. Si hay un error interpretelo y corrijalo.\n",
    "11. Invierta el nombre de la lista."
   ]
  },
  {
   "cell_type": "markdown",
   "metadata": {},
   "source": [
    "#### Solución ####"
   ]
  },
  {
   "cell_type": "code",
   "execution_count": 40,
   "metadata": {},
   "outputs": [
    {
     "data": {
      "text/plain": [
       "[1, 2, 5, 'xxx', 7, 3, -25]"
      ]
     },
     "execution_count": 40,
     "metadata": {},
     "output_type": "execute_result"
    }
   ],
   "source": [
    "# Punto 1\n",
    "L1 = [1, 2, 5, \"xxx\", 7, 3, -25]\n",
    "L1"
   ]
  },
  {
   "cell_type": "code",
   "execution_count": 41,
   "metadata": {},
   "outputs": [
    {
     "data": {
      "text/plain": [
       "[1, 2, 5, 'xxx', 7, 3, -25, -2.3]"
      ]
     },
     "execution_count": 41,
     "metadata": {},
     "output_type": "execute_result"
    }
   ],
   "source": [
    "# Punto 2\n",
    "L1.append(-2.3)\n",
    "L1"
   ]
  },
  {
   "cell_type": "code",
   "execution_count": 42,
   "metadata": {},
   "outputs": [
    {
     "data": {
      "text/plain": [
       "[1, 2, 5, 'xxx', 7, 3, -25, -2.3, ['xxx', 'yyy']]"
      ]
     },
     "execution_count": 42,
     "metadata": {},
     "output_type": "execute_result"
    }
   ],
   "source": [
    "# Punto 3\n",
    "L1.append(['xxx','yyy'])\n",
    "L1"
   ]
  },
  {
   "cell_type": "code",
   "execution_count": 43,
   "metadata": {},
   "outputs": [
    {
     "data": {
      "text/plain": [
       "1"
      ]
     },
     "execution_count": 43,
     "metadata": {},
     "output_type": "execute_result"
    }
   ],
   "source": [
    "# Punto 4\n",
    "tam = L1.count(1)\n",
    "tam"
   ]
  },
  {
   "cell_type": "code",
   "execution_count": 44,
   "metadata": {},
   "outputs": [
    {
     "data": {
      "text/plain": [
       "[1, [4, 3, 2, 1], 2, 5, 'xxx', 7, 3, -25, -2.3, ['xxx', 'yyy']]"
      ]
     },
     "execution_count": 44,
     "metadata": {},
     "output_type": "execute_result"
    }
   ],
   "source": [
    "# Punto 5\n",
    "L1.insert(1,[4, 3, 2, 1])\n",
    "L1"
   ]
  },
  {
   "cell_type": "code",
   "execution_count": 45,
   "metadata": {},
   "outputs": [
    {
     "data": {
      "text/plain": [
       "[1,\n",
       " [4, 3, 2, 1],\n",
       " 2,\n",
       " 5,\n",
       " 'xxx',\n",
       " 7,\n",
       " 3,\n",
       " -25,\n",
       " -2.3,\n",
       " ['xxx', 'yyy'],\n",
       " 'pepe',\n",
       " 'pepa',\n",
       " 'pipx']"
      ]
     },
     "execution_count": 45,
     "metadata": {},
     "output_type": "execute_result"
    }
   ],
   "source": [
    "# Punto 6\n",
    "L2 = [\"pepe\", \"pepa\", \"pipx\"]\n",
    "L1.extend(L2)\n",
    "L1"
   ]
  },
  {
   "cell_type": "code",
   "execution_count": 46,
   "metadata": {},
   "outputs": [
    {
     "data": {
      "text/plain": [
       "[1, [4, 3, 2, 1], 2, 5, 'xxx', 7, 3, -25, -2.3, 'pepe', 'pepa', 'pipx']"
      ]
     },
     "execution_count": 46,
     "metadata": {},
     "output_type": "execute_result"
    }
   ],
   "source": [
    "# Punto 7\n",
    "L1.remove([\"xxx\",\"yyy\"])\n",
    "L1"
   ]
  },
  {
   "cell_type": "code",
   "execution_count": 47,
   "metadata": {},
   "outputs": [
    {
     "name": "stdout",
     "output_type": "stream",
     "text": [
      "4\n",
      "1\n"
     ]
    }
   ],
   "source": [
    "# Punto 8\n",
    "p1 = L1.index('xxx')\n",
    "p2 = L1.index([4,3,2,1])\n",
    "print(p1)\n",
    "print(p2)"
   ]
  },
  {
   "cell_type": "code",
   "execution_count": 48,
   "metadata": {},
   "outputs": [
    {
     "data": {
      "text/plain": [
       "[1, 2, 5, 7, 3, -25, -2.3, 'pepe', 'pepa', 'pipx']"
      ]
     },
     "execution_count": 48,
     "metadata": {},
     "output_type": "execute_result"
    }
   ],
   "source": [
    "# Punto 9\n",
    "L1.pop(p1)\n",
    "L1.pop(p2)\n",
    "L1"
   ]
  },
  {
   "cell_type": "code",
   "execution_count": 49,
   "metadata": {},
   "outputs": [
    {
     "ename": "TypeError",
     "evalue": "'<' not supported between instances of 'str' and 'int'",
     "output_type": "error",
     "traceback": [
      "\u001b[0;31m---------------------------------------------------------------------------\u001b[0m",
      "\u001b[0;31mTypeError\u001b[0m                                 Traceback (most recent call last)",
      "\u001b[0;32m<ipython-input-49-6f52266cce58>\u001b[0m in \u001b[0;36m<module>\u001b[0;34m\u001b[0m\n\u001b[1;32m      1\u001b[0m \u001b[0;31m# Punto 10\u001b[0m\u001b[0;34m\u001b[0m\u001b[0;34m\u001b[0m\u001b[0;34m\u001b[0m\u001b[0m\n\u001b[0;32m----> 2\u001b[0;31m \u001b[0mL1\u001b[0m\u001b[0;34m.\u001b[0m\u001b[0msort\u001b[0m\u001b[0;34m(\u001b[0m\u001b[0;34m)\u001b[0m\u001b[0;34m\u001b[0m\u001b[0;34m\u001b[0m\u001b[0m\n\u001b[0m\u001b[1;32m      3\u001b[0m \u001b[0mL1\u001b[0m\u001b[0;34m\u001b[0m\u001b[0;34m\u001b[0m\u001b[0m\n",
      "\u001b[0;31mTypeError\u001b[0m: '<' not supported between instances of 'str' and 'int'"
     ]
    }
   ],
   "source": [
    "# Punto 10\n",
    "L1.sort()\n",
    "L1"
   ]
  },
  {
   "cell_type": "code",
   "execution_count": 50,
   "metadata": {},
   "outputs": [
    {
     "name": "stdout",
     "output_type": "stream",
     "text": [
      "[-25, -2.3, 1, 2, 3, 5, 7]\n"
     ]
    }
   ],
   "source": [
    "# Punto 10 (Correccion)\n",
    "L1.remove(\"pepe\")\n",
    "L1.remove(\"pepa\")\n",
    "L1.remove(\"pipx\")\n",
    "print(L1)\n",
    "L1.sort()"
   ]
  },
  {
   "cell_type": "code",
   "execution_count": 51,
   "metadata": {},
   "outputs": [
    {
     "data": {
      "text/plain": [
       "[7, 5, 3, 2, 1, -2.3, -25]"
      ]
     },
     "execution_count": 51,
     "metadata": {},
     "output_type": "execute_result"
    }
   ],
   "source": [
    "# Punto 11\n",
    "L1.reverse()\n",
    "L1"
   ]
  },
  {
   "cell_type": "code",
   "execution_count": 2,
   "metadata": {
    "scrolled": false
   },
   "outputs": [
    {
     "data": {
      "text/plain": [
       "['__add__',\n",
       " '__class__',\n",
       " '__contains__',\n",
       " '__delattr__',\n",
       " '__delitem__',\n",
       " '__dir__',\n",
       " '__doc__',\n",
       " '__eq__',\n",
       " '__format__',\n",
       " '__ge__',\n",
       " '__getattribute__',\n",
       " '__getitem__',\n",
       " '__gt__',\n",
       " '__hash__',\n",
       " '__iadd__',\n",
       " '__imul__',\n",
       " '__init__',\n",
       " '__init_subclass__',\n",
       " '__iter__',\n",
       " '__le__',\n",
       " '__len__',\n",
       " '__lt__',\n",
       " '__mul__',\n",
       " '__ne__',\n",
       " '__new__',\n",
       " '__reduce__',\n",
       " '__reduce_ex__',\n",
       " '__repr__',\n",
       " '__reversed__',\n",
       " '__rmul__',\n",
       " '__setattr__',\n",
       " '__setitem__',\n",
       " '__sizeof__',\n",
       " '__str__',\n",
       " '__subclasshook__',\n",
       " 'append',\n",
       " 'clear',\n",
       " 'copy',\n",
       " 'count',\n",
       " 'extend',\n",
       " 'index',\n",
       " 'insert',\n",
       " 'pop',\n",
       " 'remove',\n",
       " 'reverse',\n",
       " 'sort']"
      ]
     },
     "execution_count": 2,
     "metadata": {},
     "output_type": "execute_result"
    }
   ],
   "source": [
    "dir(list)"
   ]
  },
  {
   "cell_type": "code",
   "execution_count": 3,
   "metadata": {},
   "outputs": [
    {
     "name": "stdout",
     "output_type": "stream",
     "text": [
      "Help on class list in module builtins:\n",
      "\n",
      "class list(object)\n",
      " |  list(iterable=(), /)\n",
      " |  \n",
      " |  Built-in mutable sequence.\n",
      " |  \n",
      " |  If no argument is given, the constructor creates a new empty list.\n",
      " |  The argument must be an iterable if specified.\n",
      " |  \n",
      " |  Methods defined here:\n",
      " |  \n",
      " |  __add__(self, value, /)\n",
      " |      Return self+value.\n",
      " |  \n",
      " |  __contains__(self, key, /)\n",
      " |      Return key in self.\n",
      " |  \n",
      " |  __delitem__(self, key, /)\n",
      " |      Delete self[key].\n",
      " |  \n",
      " |  __eq__(self, value, /)\n",
      " |      Return self==value.\n",
      " |  \n",
      " |  __ge__(self, value, /)\n",
      " |      Return self>=value.\n",
      " |  \n",
      " |  __getattribute__(self, name, /)\n",
      " |      Return getattr(self, name).\n",
      " |  \n",
      " |  __getitem__(...)\n",
      " |      x.__getitem__(y) <==> x[y]\n",
      " |  \n",
      " |  __gt__(self, value, /)\n",
      " |      Return self>value.\n",
      " |  \n",
      " |  __iadd__(self, value, /)\n",
      " |      Implement self+=value.\n",
      " |  \n",
      " |  __imul__(self, value, /)\n",
      " |      Implement self*=value.\n",
      " |  \n",
      " |  __init__(self, /, *args, **kwargs)\n",
      " |      Initialize self.  See help(type(self)) for accurate signature.\n",
      " |  \n",
      " |  __iter__(self, /)\n",
      " |      Implement iter(self).\n",
      " |  \n",
      " |  __le__(self, value, /)\n",
      " |      Return self<=value.\n",
      " |  \n",
      " |  __len__(self, /)\n",
      " |      Return len(self).\n",
      " |  \n",
      " |  __lt__(self, value, /)\n",
      " |      Return self<value.\n",
      " |  \n",
      " |  __mul__(self, value, /)\n",
      " |      Return self*value.\n",
      " |  \n",
      " |  __ne__(self, value, /)\n",
      " |      Return self!=value.\n",
      " |  \n",
      " |  __repr__(self, /)\n",
      " |      Return repr(self).\n",
      " |  \n",
      " |  __reversed__(self, /)\n",
      " |      Return a reverse iterator over the list.\n",
      " |  \n",
      " |  __rmul__(self, value, /)\n",
      " |      Return value*self.\n",
      " |  \n",
      " |  __setitem__(self, key, value, /)\n",
      " |      Set self[key] to value.\n",
      " |  \n",
      " |  __sizeof__(self, /)\n",
      " |      Return the size of the list in memory, in bytes.\n",
      " |  \n",
      " |  append(self, object, /)\n",
      " |      Append object to the end of the list.\n",
      " |  \n",
      " |  clear(self, /)\n",
      " |      Remove all items from list.\n",
      " |  \n",
      " |  copy(self, /)\n",
      " |      Return a shallow copy of the list.\n",
      " |  \n",
      " |  count(self, value, /)\n",
      " |      Return number of occurrences of value.\n",
      " |  \n",
      " |  extend(self, iterable, /)\n",
      " |      Extend list by appending elements from the iterable.\n",
      " |  \n",
      " |  index(self, value, start=0, stop=9223372036854775807, /)\n",
      " |      Return first index of value.\n",
      " |      \n",
      " |      Raises ValueError if the value is not present.\n",
      " |  \n",
      " |  insert(self, index, object, /)\n",
      " |      Insert object before index.\n",
      " |  \n",
      " |  pop(self, index=-1, /)\n",
      " |      Remove and return item at index (default last).\n",
      " |      \n",
      " |      Raises IndexError if list is empty or index is out of range.\n",
      " |  \n",
      " |  remove(self, value, /)\n",
      " |      Remove first occurrence of value.\n",
      " |      \n",
      " |      Raises ValueError if the value is not present.\n",
      " |  \n",
      " |  reverse(self, /)\n",
      " |      Reverse *IN PLACE*.\n",
      " |  \n",
      " |  sort(self, /, *, key=None, reverse=False)\n",
      " |      Stable sort *IN PLACE*.\n",
      " |  \n",
      " |  ----------------------------------------------------------------------\n",
      " |  Static methods defined here:\n",
      " |  \n",
      " |  __new__(*args, **kwargs) from builtins.type\n",
      " |      Create and return a new object.  See help(type) for accurate signature.\n",
      " |  \n",
      " |  ----------------------------------------------------------------------\n",
      " |  Data and other attributes defined here:\n",
      " |  \n",
      " |  __hash__ = None\n",
      "\n"
     ]
    }
   ],
   "source": [
    "help(list)"
   ]
  },
  {
   "cell_type": "code",
   "execution_count": 1,
   "metadata": {},
   "outputs": [
    {
     "name": "stdout",
     "output_type": "stream",
     "text": [
      "Help on method_descriptor:\n",
      "\n",
      "extend(self, iterable, /)\n",
      "    Extend list by appending elements from the iterable.\n",
      "\n"
     ]
    }
   ],
   "source": [
    "help(list.extend)"
   ]
  },
  {
   "cell_type": "markdown",
   "metadata": {},
   "source": [
    "## Tuplas ##\n",
    "\n",
    "Las tuplas son como las listas, excepto que estas no pueden ser modificadas una vez se han creado, es decir, son inmutables. Las tuplas se definen encerrando entre parentesis cada uno de sus elementos, los cuales estan separados por coma (,). Como en las listas, los tipos de datos de los elementos no tienen que ser necesariamente iguales."
   ]
  },
  {
   "cell_type": "markdown",
   "metadata": {},
   "source": [
    "### Operadores ###\n",
    "\n",
    "|Operador|Accion|Ejemplo|Resultado|\n",
    "|:--------|:------|:-------|:---------|\n",
    "|```T[i]``` |Retorna el elemento **i-ésimo** de tupla **T**.|```T = (1,2,3,4,-3)``` | ```T[0] -> 1``` <br/>```T[-3] --> 3```<br/>```T[-2] --> 4```|\n",
    "|```len(T)``` |Retorna la longitud de la tupla **T**.|```A = (1,2,3,’oso’)```<br/>```B = ([1,2],3)```<br/>```C = ()``` | ```len(A) -> 4```<br/>```len(B) -> 2```<br/>```len(C) -> 0```|\n",
    "|```T1 + T2``` |Retorna la concatenación de las tuplas **T1** y **T2**.|```x = ('a', 'b')``` <br/>```y = (1, 2, 3)``` | ```x + y -> ('a', 'b', 1, 2, 3)```|\n",
    "|```n*L``` |Repite **n** veces la tupla **T**.|```z = (-1,-2,0)``` | ```2*z -> (-1, -2, 0, -1, -2, 0)```|\n",
    "|```T[start:end]``` |Retorna el segmento de la tupla **T** entre **start** y **end – 1**.|```A = (1,2,5,4,-3)``` | ```A[1:3] -> (2,5)``` <br/> ```A[:4] -> (1,2,5,4)``` <br/> ```A[3:] -> (4,-3)``` <br/> ```A[:] -> (1,2,5,4,-3)```|\n",
    "|```e in T``` |Retorna **True** si **e** está en la tupla  **T**.|```A = ('a', 'bc')``` | ```'bc' in A -> True``` <br/>```'b' in A -> False``` |\n",
    "|```e not in T``` |Retorna **True** si **e** no está en la tupla  **T**.|```A = ('a', 'bc')``` | ```'bc' not in A -> False``` <br/>```'b' in A -> True``` |\n",
    "|```min(T)``` |Retorna el elemento más pequeño de la tupla **T**.|```t = (-10,4,-2,0)``` | ```min(t) -> -10``` |\n",
    "|```max(T)``` |Retorna el mayor elemento de la tupla **T**.|```t = (-10,4,-2,0)``` | ```max(t) -> 4``` |\n",
    "|```for e in T``` |Itera sobre los elementos de **T**.|```B = (1,2,3)``` <br/> ```for num in B:``` <br/>&nbsp;&nbsp;&nbsp; ```print(num)```| ```1``` <br/> ```2```<br/> ```3```|"
   ]
  },
  {
   "cell_type": "markdown",
   "metadata": {},
   "source": [
    "#### Ejemplos ####\n",
    "\n",
    "1. Declarar tupla (T1) con 2,3,4 y 5 como elementos \n",
    "2. Determinar el tamaño de la tupla anteriormente creada.\n",
    "3. Crear una tupla (T2) con 'a' y 'b' como elementos.\n",
    "4. A repetir la tupla anterior 3 veces llevando dicho resultado a otra tupla (T3).\n",
    "5. Crear otra tupla (T4) a partir de todas las tuplas previamente creadas.\n",
    "6. Mirar si 4 esta en la tupla T4.\n",
    "7. Mirar si 4 no esta en la tupla T4.\n",
    "8. ¿Cual es elemento minimo de T1?, ¿Por que no se puedea sacar un elemento minimo en T4?\n",
    "9. Declare una tupla (T5) que tenga como elementos: morfeo, neo, trinity. \n",
    "10. Cual es elemento máximo de la tupla anteriormente creada.\n",
    "11. Iterar con un ciclo sobre la tupla T5"
   ]
  },
  {
   "cell_type": "markdown",
   "metadata": {},
   "source": [
    "**Solución**:"
   ]
  },
  {
   "cell_type": "code",
   "execution_count": 53,
   "metadata": {},
   "outputs": [
    {
     "data": {
      "text/plain": [
       "(2, 3, 4, 5)"
      ]
     },
     "execution_count": 53,
     "metadata": {},
     "output_type": "execute_result"
    }
   ],
   "source": [
    "# Punto 1: Declarar tupla (T1) con 2,3,4 y 5 como elementos\n",
    "T1 = (2,3,4,5)\n",
    "T1"
   ]
  },
  {
   "cell_type": "code",
   "execution_count": 54,
   "metadata": {},
   "outputs": [
    {
     "data": {
      "text/plain": [
       "4"
      ]
     },
     "execution_count": 54,
     "metadata": {},
     "output_type": "execute_result"
    }
   ],
   "source": [
    "# Punto 2: Determinar el tamaño de la tupla anteriormente creada.\n",
    "len(T1)"
   ]
  },
  {
   "cell_type": "code",
   "execution_count": 55,
   "metadata": {},
   "outputs": [
    {
     "data": {
      "text/plain": [
       "('a', 'b')"
      ]
     },
     "execution_count": 55,
     "metadata": {},
     "output_type": "execute_result"
    }
   ],
   "source": [
    "# Punto 3: Crear una tupla (T2) con 'a' y 'b' como elementos.\n",
    "T2 = ('a','b')\n",
    "T2"
   ]
  },
  {
   "cell_type": "code",
   "execution_count": 59,
   "metadata": {},
   "outputs": [
    {
     "data": {
      "text/plain": [
       "('a', 'b', 'a', 'b', 'a', 'b')"
      ]
     },
     "execution_count": 59,
     "metadata": {},
     "output_type": "execute_result"
    }
   ],
   "source": [
    "# Punto 4: A repetir la tupla anterior 3 veces llevando dicho resultado a otra tupla (T3).\n",
    "T3 = 3*T2\n",
    "T3"
   ]
  },
  {
   "cell_type": "code",
   "execution_count": 60,
   "metadata": {},
   "outputs": [
    {
     "data": {
      "text/plain": [
       "(2, 3, 4, 5, 'a', 'b', 'a', 'b', 'a', 'b', 'a', 'b')"
      ]
     },
     "execution_count": 60,
     "metadata": {},
     "output_type": "execute_result"
    }
   ],
   "source": [
    "# Punto 5: Crear otra tupla (T4) a partir de todas las tuplas previamente creadas.\n",
    "T4 = T1 + T2 + T3\n",
    "T4"
   ]
  },
  {
   "cell_type": "code",
   "execution_count": 61,
   "metadata": {},
   "outputs": [
    {
     "data": {
      "text/plain": [
       "True"
      ]
     },
     "execution_count": 61,
     "metadata": {},
     "output_type": "execute_result"
    }
   ],
   "source": [
    "# Punto 6: Mirar si 4 esta en la tupla T4.\n",
    "4 in T4"
   ]
  },
  {
   "cell_type": "code",
   "execution_count": 62,
   "metadata": {},
   "outputs": [
    {
     "data": {
      "text/plain": [
       "False"
      ]
     },
     "execution_count": 62,
     "metadata": {},
     "output_type": "execute_result"
    }
   ],
   "source": [
    "# Punto 7: Mirar si 4 no esta en la tupla T4.\n",
    "4 not in T4"
   ]
  },
  {
   "cell_type": "code",
   "execution_count": 64,
   "metadata": {},
   "outputs": [
    {
     "data": {
      "text/plain": [
       "2"
      ]
     },
     "execution_count": 64,
     "metadata": {},
     "output_type": "execute_result"
    }
   ],
   "source": [
    "# Punto 8: ¿Cual es elemento minimo de T1?, ¿Por que no se puedea sacar un elemento minimo en T4?\n",
    "min(T1)"
   ]
  },
  {
   "cell_type": "code",
   "execution_count": 69,
   "metadata": {},
   "outputs": [],
   "source": [
    "# Punto 9: Declare una tupla (T5) que tenga como elementos: morfeo, neo, trinity. \n",
    "T5 = (\"morfeo\", \"neo\", \"trinity\")"
   ]
  },
  {
   "cell_type": "code",
   "execution_count": 71,
   "metadata": {},
   "outputs": [
    {
     "data": {
      "text/plain": [
       "'trinity'"
      ]
     },
     "execution_count": 71,
     "metadata": {},
     "output_type": "execute_result"
    }
   ],
   "source": [
    "# Punto 10: Cual es elemento minimo de la tupla anteriormente creada.\n",
    "max(T5)"
   ]
  },
  {
   "cell_type": "code",
   "execution_count": 73,
   "metadata": {},
   "outputs": [
    {
     "name": "stdout",
     "output_type": "stream",
     "text": [
      "morfeo\n",
      "neo\n",
      "trinity\n"
     ]
    }
   ],
   "source": [
    "# Punto 11: Iterar con un ciclo sobre la tupla T5\n",
    "for e in T5:\n",
    "    print(e) "
   ]
  },
  {
   "cell_type": "markdown",
   "metadata": {},
   "source": [
    "### Métodos ###\n",
    "\n",
    "|Función|Accion|Ejemplo|Resultado|\n",
    "|:--------|:------|:-------|:---------|\n",
    "|```tuple.count(e)``` |Retorna el número de veces que **e** se encuentra en la tupla|```M = ('a','b','c','d')```|```M.count('b') -> 2```|\n",
    "|```tuple.index(e)``` |Retorna la posición del primer elemento **e** que encuentre en la tupla|```L = ('a','b','c','d')```|```L.index('b')  -> 1```|"
   ]
  },
  {
   "cell_type": "markdown",
   "metadata": {},
   "source": [
    "#### Ejemplos ####\n",
    "\n",
    "1. Declarar la tupla T = (1,2,[3,4],6). \n",
    "2. Encontrar el indice de 4.\n",
    "3. Encontrar el indice de [3,4].\n",
    "4. Contar el numero de veces que aparece el -1 en la lista."
   ]
  },
  {
   "cell_type": "markdown",
   "metadata": {},
   "source": [
    "**Solución**:"
   ]
  },
  {
   "cell_type": "code",
   "execution_count": 2,
   "metadata": {},
   "outputs": [
    {
     "data": {
      "text/plain": [
       "(1, 2, [3, 4], 6)"
      ]
     },
     "execution_count": 2,
     "metadata": {},
     "output_type": "execute_result"
    }
   ],
   "source": [
    "# Punto 1: Declarar la tupla T = (1,2,[3,4],6).\n",
    "T = (1,2,[3,4],6)\n",
    "T"
   ]
  },
  {
   "cell_type": "code",
   "execution_count": 3,
   "metadata": {},
   "outputs": [
    {
     "ename": "ValueError",
     "evalue": "tuple.index(x): x not in tuple",
     "output_type": "error",
     "traceback": [
      "\u001b[0;31m---------------------------------------------------------------------------\u001b[0m",
      "\u001b[0;31mValueError\u001b[0m                                Traceback (most recent call last)",
      "\u001b[0;32m<ipython-input-3-d6f0fb987616>\u001b[0m in \u001b[0;36m<module>\u001b[0;34m\u001b[0m\n\u001b[1;32m      1\u001b[0m \u001b[0;31m# Punto 2: Encontrar el indice de 4.\u001b[0m\u001b[0;34m\u001b[0m\u001b[0;34m\u001b[0m\u001b[0;34m\u001b[0m\u001b[0m\n\u001b[0;32m----> 2\u001b[0;31m \u001b[0mT\u001b[0m\u001b[0;34m.\u001b[0m\u001b[0mindex\u001b[0m\u001b[0;34m(\u001b[0m\u001b[0;36m4\u001b[0m\u001b[0;34m)\u001b[0m\u001b[0;34m\u001b[0m\u001b[0;34m\u001b[0m\u001b[0m\n\u001b[0m",
      "\u001b[0;31mValueError\u001b[0m: tuple.index(x): x not in tuple"
     ]
    }
   ],
   "source": [
    "# Punto 2: Encontrar el indice de 4.\n",
    "T.index(4)"
   ]
  },
  {
   "cell_type": "code",
   "execution_count": 4,
   "metadata": {},
   "outputs": [
    {
     "data": {
      "text/plain": [
       "2"
      ]
     },
     "execution_count": 4,
     "metadata": {},
     "output_type": "execute_result"
    }
   ],
   "source": [
    "# Punto 3: Encontrar el indice de [3,4].\n",
    "T.index([3,4])"
   ]
  },
  {
   "cell_type": "code",
   "execution_count": 5,
   "metadata": {},
   "outputs": [
    {
     "data": {
      "text/plain": [
       "0"
      ]
     },
     "execution_count": 5,
     "metadata": {},
     "output_type": "execute_result"
    }
   ],
   "source": [
    "# Punto 4: Contar el numero de veces que aparece el -1 en la lista.\n",
    "T.count(-1)"
   ]
  },
  {
   "cell_type": "markdown",
   "metadata": {},
   "source": [
    "## Diccionarios ##\n",
    "\n",
    "Son secuencias de elementos cuyos índices no son enteros sino valore inmutables (ej: strings). A los indices de un diccionario se les llama **key** (**clave**) a la parte asociada a esta se les llama **value** (**valor**). \n",
    "Los diccionarios son también parecidos a las listas, excepto que cada elemento es una pareja clave-valor. La sintaxis en los diccionarios es de la forma ```{key1 : value1, key2: value2,..., keyN: valueN}```."
   ]
  },
  {
   "cell_type": "markdown",
   "metadata": {},
   "source": [
    "### Operadores ###\n",
    "\n",
    "|Operador|Accion|Ejemplo|Resultado|\n",
    "|:--------|:------|:-------|:---------|\n",
    "|```len(Dic)``` |Retorna la longitud del diccionario **Dic**.|```A = {‘a’:1,’b’:2,’c’:3}``` <br/> ```B = {‘ab’:1,’b’:[2,3]}``` <br/> ```C = {}```| ```len(A) -> 3``` <br/> ```len(B) -> 2``` <br/> ```len(C) -> 0```|\n",
    "|```key in Dic``` |Retorna **True** si **key** está en el diccionario  **Dic**.|```A = {‘a’:1,’b’:2,’c’:3}``` | ```'a' in A -> True``` <br/>```'d' in A -> False``` |\n",
    "|```key not in Dic``` |Retorna **True** si **key** no está en el diccionario  **Dic**.|```A = {‘a’:1,’b’:2,’c’:3}``` | ```'a' not in A -> False``` <br/>```'d' not in A -> True``` |\n",
    "|```Dic1 == Dic2``` |Devuelve True si dos diccionarios contienen los mismos items.|```d1 = {\"red\":41, \"blue\":3}``` <br/> ```d2 = {\"blue\":3, \"red\":41}``` | ```'d1 == d2 -> True```|\n",
    "|```Dic1 != Dic2``` |Devuelve True si dos diccionarios contienen diferentes items.|```d1 = {\"red\":41, \"blue\":3}``` <br/> ```d2 = {\"blue\":3, \"red\":41}``` | ```'d1 != d2 -> False```|\n",
    "|```Dic[key]``` |Retorna el valor **Dic[key]** asociado a la clave **key**|```d1 = {\"red\":41, \"blue\":3}``` | ```d1[\"red\"] -> 41``` <br/>```d1[\"r\"] -> Error``` |\n",
    "|```Dic[key] = value``` |Asocia la clave **key** con el valor **value**; si key no existe, crea un nuevo elemento en el diccionario.|```d1 = {\"A\": 1, \"B\": 2}``` | ```d1[\"A\"] = -1 -> d1 = {\"A\": -1, \"B\": 2}``` <br/>```d1[\"C\"] = -1 -> d1 = {\"A\": 1, \"B\": 2, \"C\": -1}``` |\n",
    "|```for k in Dic``` |Itera sobre las claves de Dic.|``````mdays = { 'enero':31, 'febrero':28, 'marzo':31, 'abril':30} `````` <br/> ```for m in mdays:``` <br/>&nbsp;&nbsp;&nbsp; ```print(e,mdays[e])```| ```febrero 28``` <br/> ```abril 30``` <br/> ```marzo 31``` <br/> ```enero 31```|"
   ]
  },
  {
   "cell_type": "markdown",
   "metadata": {},
   "source": [
    "#### Ejemplo ####\n",
    "1. Crear un dicciónario llamado cursos con los siguientes a partir de la siguiente tabla:\n",
    "\n",
    "|Código|Materia|\n",
    "|------|-------|\n",
    "|'001'|'Matematicas'|\n",
    "|'002'|'Español'|\n",
    "|'003'|'Filosofia'|\n",
    "|'004'|'Quimica'|\n",
    "|'005'|'Fisica'|\n",
    "|'006'|'Sociales'|\n",
    "\n",
    "2. Determinar si el curso de **Etica y valores** cuyo código es **007** esta en el diccionario anterior.\n",
    "3. Determinar si el curso de Matematicas (código **001**) se encuentra en el diccionario anterior.\n",
    "4. Devolver la materia duyo código es **005**.\n",
    "5. Agregar la materia **Etica y valores** a los cursos.\n",
    "6. Barriendo el diccionario, imprima los códigos y las materias asociadas a estos."
   ]
  },
  {
   "cell_type": "code",
   "execution_count": 9,
   "metadata": {},
   "outputs": [
    {
     "data": {
      "text/plain": [
       "{'001': 'Matematicas',\n",
       " '002': 'Español',\n",
       " '003': 'Filosofia',\n",
       " '004': 'Quimica',\n",
       " '005': 'Fisica',\n",
       " '006': 'Sociales'}"
      ]
     },
     "execution_count": 9,
     "metadata": {},
     "output_type": "execute_result"
    }
   ],
   "source": [
    "# Punto 1: Creación del diccionario\n",
    "cursos = {'001':'Matematicas',\n",
    "          '002':'Español',\n",
    "          '003':'Filosofia',\n",
    "          '004':'Quimica',\n",
    "          '005':'Fisica',\n",
    "          '006':'Sociales'}\n",
    "cursos"
   ]
  },
  {
   "cell_type": "code",
   "execution_count": 7,
   "metadata": {},
   "outputs": [
    {
     "data": {
      "text/plain": [
       "False"
      ]
     },
     "execution_count": 7,
     "metadata": {},
     "output_type": "execute_result"
    }
   ],
   "source": [
    "# Punto 2: Determinar si el curso de Etica y valores cuyo código es 007 esta en el diccionario anterior.\n",
    "'007' in cursos"
   ]
  },
  {
   "cell_type": "code",
   "execution_count": 10,
   "metadata": {},
   "outputs": [
    {
     "data": {
      "text/plain": [
       "True"
      ]
     },
     "execution_count": 10,
     "metadata": {},
     "output_type": "execute_result"
    }
   ],
   "source": [
    "# Punto 3: Determinar si el curso de Matematicas (código 001) se encuentra en el diccionario anterior.\n",
    "'001' in cursos"
   ]
  },
  {
   "cell_type": "code",
   "execution_count": 11,
   "metadata": {},
   "outputs": [
    {
     "data": {
      "text/plain": [
       "'Fisica'"
      ]
     },
     "execution_count": 11,
     "metadata": {},
     "output_type": "execute_result"
    }
   ],
   "source": [
    "# Punto 4: Devolver la materia duyo código es 005.\n",
    "cursos['005']"
   ]
  },
  {
   "cell_type": "code",
   "execution_count": 12,
   "metadata": {},
   "outputs": [
    {
     "data": {
      "text/plain": [
       "{'001': 'Matematicas',\n",
       " '002': 'Español',\n",
       " '003': 'Filosofia',\n",
       " '004': 'Quimica',\n",
       " '005': 'Fisica',\n",
       " '006': 'Sociales',\n",
       " '007': 'Etica y valores'}"
      ]
     },
     "execution_count": 12,
     "metadata": {},
     "output_type": "execute_result"
    }
   ],
   "source": [
    "cursos['007'] = 'Etica y valores'\n",
    "cursos"
   ]
  },
  {
   "cell_type": "code",
   "execution_count": 13,
   "metadata": {},
   "outputs": [
    {
     "name": "stdout",
     "output_type": "stream",
     "text": [
      "001: Matematicas\n",
      "002: Español\n",
      "003: Filosofia\n",
      "004: Quimica\n",
      "005: Fisica\n",
      "006: Sociales\n",
      "007: Etica y valores\n"
     ]
    }
   ],
   "source": [
    "for cod in cursos:\n",
    "    print(cod + \": \" + cursos[cod])"
   ]
  },
  {
   "cell_type": "markdown",
   "metadata": {},
   "source": [
    "### Métodos ###\n",
    "\n",
    "|Función|Accion|Ejemplo|Resultado|\n",
    "|:--------|:------|:-------|:---------|\n",
    "|```dic.keys()```|Retorna una secuencia con las claves de **dic**|```A = {'a':1,'b':2,'c':3}```<br/>```B = {'ab':1,'b':[2,3]}```<br/>```C = {}```|```A.keys() ->  ['a', 'b', 'c']``` <br/> ```B.keys() -> ['ab', 'b']``` <br/> ```C.keys() -> []```|\n",
    "|```dic.values()```|Retorna una secuencia con los valores de **dic**|```A = {'a':1,'b':2,'c':3}```<br/>```B = {'ab':1,'b':[2,3]}```<br/>```C = {}```|```A.values() ->  [1, 2, 3]``` <br/> ```B.values() -> [1, [2,3]]``` <br/> ```C.values() -> []```|\n",
    "|```dic.items()```|Retorna una secuencia de tuplas, cada tupla es de la forma **(key, value)** para un **item**|```A = {'a':1,'b':2,'c':3}```|```A.items() ->  [('b', 2), ('c', 3),('a', 1)]```|\n",
    "|```dic.get(k,[e])```|retorna **dic[k]** si **k** está en **dic**, de lo contrario retorna **e**, **e** es un parámetro  opcional y por defecto es None.|```A = {'a':1,'b':2,'c':3}```|```A.get('c',4) -> 3``` <br/> ```A.get('f',4) -> 4``` <br/> ```A.get('b') -> 2``` <br/> ```A.get('d') -> None``` |\n",
    "|```dic.pop(k)```|Elimina el elemento con clave **k** y retorna su valor asociado.|```A = {'a':1,'b':2,'c':3}```|```A.pop('b')``` <br/> Retorna: ```2``` <br/> A queda: ```A = {‘a’:1,‘c’:3}```|\n",
    "|```dic.popitem()```|Retorna un par **key/value** aleatoriamente seleccionado como una tupla y remueve el item seleccionado.|```A = {'a':1,'b':2,'c':3}```|```A.popitem()``` <br/> Retorna: ```('b',2)``` <br/> A queda: ```A = {‘a’:1,‘c’:3}```|\n",
    "|```dic.clear()```|Borra todas las entradas del diccionario dic dejándolo vacío, no retorna nada.|```A = {'a':1,'b':2,'c':3}```|```A.clear() -> A = {}```|\n",
    "|```dic.update(dic2)```|Agrega el contenido (pares **key/value**) del diccionario **dic2** al diccionario **dic**. Esta función no retorna nada.|```A = {'a':1,'b':2,'c':3}``` <br/> ```B = {'xyz':1,'m':[2,3]}``` |```A.update(B) ``` <br/> A: ```A = {'a':1,'b':2,'c':3, 'xyz':1,'m':[2,3]}``` <br/> B: ```B = {'xyz':1,'m': 2,3]}```|"
   ]
  },
  {
   "cell_type": "markdown",
   "metadata": {},
   "source": [
    "#### Ejemplo ####\n",
    "1. Crear un diccionario llamado cursos con los siguientes a partir de la siguiente tabla:\n",
    "\n",
    "|Código|Materia|\n",
    "|------|-------|\n",
    "|'001'|'Matematicas'|\n",
    "|'002'|'Español'|\n",
    "|'003'|'Filosofia'|\n",
    "|'004'|'Quimica'|\n",
    "|'005'|'Fisica'|\n",
    "|'006'|'Sociales'|\n",
    "\n",
    "2. Obtener los codigos de los diferentes cursos registrados.\n",
    "3. Obtener los nombres de las materias registradas.\n",
    "4. Obtener cada uno de los items (codido,materia) registrados.\n",
    "5. Obtener el curso cuyo codigo es **005**\n",
    "6. Determinar el curso (**Etica y valores**) cuyo codigo es **007**.\n",
    "7. Eliminar el curso de **Sociales** de la lista de cursos.\n",
    "8. Remover cualquier curso del diccionario.\n",
    "9. Borrar todas las materias del cursos.\n",
    "10. Agregar a lo que quedo, el curso de **Etica y valores**\n"
   ]
  },
  {
   "cell_type": "code",
   "execution_count": 14,
   "metadata": {},
   "outputs": [
    {
     "data": {
      "text/plain": [
       "{'001': 'Matematicas',\n",
       " '002': 'Español',\n",
       " '003': 'Filosofia',\n",
       " '004': 'Quimica',\n",
       " '005': 'Fisica',\n",
       " '006': 'Sociales'}"
      ]
     },
     "execution_count": 14,
     "metadata": {},
     "output_type": "execute_result"
    }
   ],
   "source": [
    "# Punto 1: Creación del diccionario cursos\n",
    "cursos = {'001':'Matematicas', '002':'Español', '003':'Filosofia',\n",
    "          '004':'Quimica', '005':'Fisica','006':'Sociales'}\n",
    "cursos"
   ]
  },
  {
   "cell_type": "code",
   "execution_count": 15,
   "metadata": {},
   "outputs": [
    {
     "data": {
      "text/plain": [
       "dict_keys(['001', '002', '003', '004', '005', '006'])"
      ]
     },
     "execution_count": 15,
     "metadata": {},
     "output_type": "execute_result"
    }
   ],
   "source": [
    "# Punto 2: Obtener los codigos de los diferentes cursos registrados.\n",
    "cods = cursos.keys()\n",
    "cods"
   ]
  },
  {
   "cell_type": "code",
   "execution_count": 16,
   "metadata": {},
   "outputs": [
    {
     "data": {
      "text/plain": [
       "dict_values(['Matematicas', 'Español', 'Filosofia', 'Quimica', 'Fisica', 'Sociales'])"
      ]
     },
     "execution_count": 16,
     "metadata": {},
     "output_type": "execute_result"
    }
   ],
   "source": [
    "# Punto 3: Obtener los nombres de las materias registradas.\n",
    "materias = cursos.values()\n",
    "materias"
   ]
  },
  {
   "cell_type": "code",
   "execution_count": 17,
   "metadata": {},
   "outputs": [
    {
     "data": {
      "text/plain": [
       "dict_items([('001', 'Matematicas'), ('002', 'Español'), ('003', 'Filosofia'), ('004', 'Quimica'), ('005', 'Fisica'), ('006', 'Sociales')])"
      ]
     },
     "execution_count": 17,
     "metadata": {},
     "output_type": "execute_result"
    }
   ],
   "source": [
    "# Punto 4: Obtener cada uno de los items (codido,materia) registrados.\n",
    "cursos.items()\n"
   ]
  },
  {
   "cell_type": "code",
   "execution_count": 19,
   "metadata": {},
   "outputs": [
    {
     "ename": "NameError",
     "evalue": "name 'custos' is not defined",
     "output_type": "error",
     "traceback": [
      "\u001b[0;31m---------------------------------------------------------------------------\u001b[0m",
      "\u001b[0;31mNameError\u001b[0m                                 Traceback (most recent call last)",
      "\u001b[0;32m<ipython-input-19-a0de943fd5d6>\u001b[0m in \u001b[0;36m<module>\u001b[0;34m\u001b[0m\n\u001b[1;32m      1\u001b[0m \u001b[0;31m# Punto 5: Determinar el curso (Etica y valores) cuyo codigo es 007.\u001b[0m\u001b[0;34m\u001b[0m\u001b[0;34m\u001b[0m\u001b[0;34m\u001b[0m\u001b[0m\n\u001b[0;32m----> 2\u001b[0;31m \u001b[0mcustos\u001b[0m\u001b[0;34m.\u001b[0m\u001b[0mget\u001b[0m\u001b[0;34m(\u001b[0m\u001b[0;34m\"007\"\u001b[0m\u001b[0;34m)\u001b[0m\u001b[0;34m\u001b[0m\u001b[0;34m\u001b[0m\u001b[0m\n\u001b[0m",
      "\u001b[0;31mNameError\u001b[0m: name 'custos' is not defined"
     ]
    }
   ],
   "source": [
    "# Punto 5: Determinar el curso (Etica y valores) cuyo codigo es 007.\n",
    "custos.get(\"007\")\n"
   ]
  },
  {
   "cell_type": "code",
   "execution_count": null,
   "metadata": {},
   "outputs": [],
   "source": []
  }
 ],
 "metadata": {
  "kernelspec": {
   "display_name": "Python 3",
   "language": "python",
   "name": "python3"
  },
  "language_info": {
   "codemirror_mode": {
    "name": "ipython",
    "version": 3
   },
   "file_extension": ".py",
   "mimetype": "text/x-python",
   "name": "python",
   "nbconvert_exporter": "python",
   "pygments_lexer": "ipython3",
   "version": "3.7.4"
  }
 },
 "nbformat": 4,
 "nbformat_minor": 2
}

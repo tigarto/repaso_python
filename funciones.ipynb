{
 "cells": [
  {
   "cell_type": "markdown",
   "metadata": {},
   "source": [
    "# Funciones #"
   ]
  },
  {
   "cell_type": "markdown",
   "metadata": {},
   "source": [
    "## Definición e invocacion de una función ##\n",
    "\n",
    "### Definición ###\n",
    "\n",
    "```\n",
    "def nombreFuncion(parametros,...):\n",
    "    # codigo ...\n",
    "```\n",
    "\n",
    "### Invocación ###\n",
    "\n",
    "```\n",
    "nombreFuncion(argumentos,...)\n",
    "```\n",
    "\n",
    "### Definición minima de una función ###\n",
    "\n",
    "Una función sin codigo sacará error. En aquellos casos en los que por lo menos inicialmente no se necesita codigo se emplea la declaración **pass** para evitar este problema. La declaración pass no realiza ninguna acción, pero evita que se genere un error de indentación al crear una función vacía."
   ]
  },
  {
   "cell_type": "code",
   "execution_count": 3,
   "metadata": {},
   "outputs": [],
   "source": [
    "def funcion():\n",
    "    pass"
   ]
  },
  {
   "cell_type": "code",
   "execution_count": 4,
   "metadata": {},
   "outputs": [],
   "source": [
    "funcion()"
   ]
  },
  {
   "cell_type": "code",
   "execution_count": 5,
   "metadata": {},
   "outputs": [
    {
     "name": "stdout",
     "output_type": "stream",
     "text": [
      "None\n"
     ]
    }
   ],
   "source": [
    "print(funcion())"
   ]
  },
  {
   "cell_type": "code",
   "execution_count": 6,
   "metadata": {},
   "outputs": [
    {
     "data": {
      "text/plain": [
       "function"
      ]
     },
     "execution_count": 6,
     "metadata": {},
     "output_type": "execute_result"
    }
   ],
   "source": [
    "type(funcion)"
   ]
  },
  {
   "cell_type": "markdown",
   "metadata": {},
   "source": [
    "**Ejemplo**: Hacer y documentar una función que imprime **Welcome to Tijuana!!!**. La documentación es el primer comentario usado despues de la cabecera."
   ]
  },
  {
   "cell_type": "code",
   "execution_count": 8,
   "metadata": {},
   "outputs": [],
   "source": [
    "# Definicion de la funcion\n",
    "def hola():\n",
    "    \"\"\"Imprime el mensaje \\\"Welcome to Tijuana\\\" \"\"\"\n",
    "    print(\"Welcome to Tijuana\")"
   ]
  },
  {
   "cell_type": "code",
   "execution_count": 9,
   "metadata": {},
   "outputs": [
    {
     "name": "stdout",
     "output_type": "stream",
     "text": [
      "Help on function hola in module __main__:\n",
      "\n",
      "hola()\n",
      "    Imprime el mensaje \"Welcome to Tijuana\"\n",
      "\n"
     ]
    }
   ],
   "source": [
    "# Visualizando la ayuda\n",
    "help(hola)"
   ]
  },
  {
   "cell_type": "code",
   "execution_count": 10,
   "metadata": {},
   "outputs": [
    {
     "name": "stdout",
     "output_type": "stream",
     "text": [
      "Welcome to Tijuana\n"
     ]
    }
   ],
   "source": [
    "# Invocano la función\n",
    "hola()"
   ]
  },
  {
   "cell_type": "markdown",
   "metadata": {},
   "source": [
    "## Ambitos ##"
   ]
  },
  {
   "cell_type": "markdown",
   "metadata": {},
   "source": [
    "### Caso en el que hay ocultamiento ###"
   ]
  },
  {
   "cell_type": "code",
   "execution_count": 11,
   "metadata": {},
   "outputs": [
    {
     "name": "stdout",
     "output_type": "stream",
     "text": [
      "Hola\n",
      "2\n",
      "Hola\n"
     ]
    }
   ],
   "source": [
    "def funcion():\n",
    "    objeto = 2\n",
    "    print(objeto)\n",
    "\n",
    "objeto = \"Hola\"\n",
    "print(objeto)\n",
    "funcion()\n",
    "print(objeto)"
   ]
  },
  {
   "cell_type": "markdown",
   "metadata": {},
   "source": [
    "### Definiendo nombres en el ámbito global con la expresión global ###\n",
    "\n",
    "Es posible que una función pueda ligar un objeto al espacio de nombres del ámbito global mediante el uso de la expresión global con la siguiente sintaxis.\n",
    "\n",
    "```\n",
    "global nombreVariable\n",
    "nombreVariable = valorVariable\n",
    "```"
   ]
  },
  {
   "cell_type": "code",
   "execution_count": 12,
   "metadata": {},
   "outputs": [
    {
     "name": "stdout",
     "output_type": "stream",
     "text": [
      "Hola\n",
      "2\n",
      "2\n"
     ]
    }
   ],
   "source": [
    "def funcion():\n",
    "    global objeto\n",
    "    objeto = 2\n",
    "    print(objeto)\n",
    "\n",
    "objeto = \"Hola\"\n",
    "print(objeto)\n",
    "funcion()\n",
    "print(objeto)"
   ]
  },
  {
   "cell_type": "markdown",
   "metadata": {},
   "source": [
    "## Sobre la invocación de las funciones ##"
   ]
  },
  {
   "cell_type": "markdown",
   "metadata": {},
   "source": [
    "**Definición**"
   ]
  },
  {
   "cell_type": "code",
   "execution_count": 14,
   "metadata": {},
   "outputs": [],
   "source": [
    "def suma(p1, p2):\n",
    "    '''Despliega la suma de dos objetos'''\n",
    "    return p1 + p2"
   ]
  },
  {
   "cell_type": "markdown",
   "metadata": {},
   "source": [
    "**Diferentes invocaciones**"
   ]
  },
  {
   "cell_type": "code",
   "execution_count": 16,
   "metadata": {},
   "outputs": [
    {
     "data": {
      "text/plain": [
       "5"
      ]
     },
     "execution_count": 16,
     "metadata": {},
     "output_type": "execute_result"
    }
   ],
   "source": [
    "r = suma(2,3)\n",
    "r"
   ]
  },
  {
   "cell_type": "code",
   "execution_count": 17,
   "metadata": {},
   "outputs": [
    {
     "data": {
      "text/plain": [
       "'23'"
      ]
     },
     "execution_count": 17,
     "metadata": {},
     "output_type": "execute_result"
    }
   ],
   "source": [
    "r = suma(\"2\",\"3\")\n",
    "r"
   ]
  },
  {
   "cell_type": "code",
   "execution_count": 18,
   "metadata": {},
   "outputs": [
    {
     "name": "stdout",
     "output_type": "stream",
     "text": [
      "Help on function suma in module __main__:\n",
      "\n",
      "suma(p1, p2)\n",
      "    Despliega la suma de dos objetos\n",
      "\n"
     ]
    }
   ],
   "source": [
    "help(suma)"
   ]
  },
  {
   "cell_type": "code",
   "execution_count": 19,
   "metadata": {},
   "outputs": [
    {
     "ename": "TypeError",
     "evalue": "suma() takes 2 positional arguments but 3 were given",
     "output_type": "error",
     "traceback": [
      "\u001b[0;31m---------------------------------------------------------------------------\u001b[0m",
      "\u001b[0;31mTypeError\u001b[0m                                 Traceback (most recent call last)",
      "\u001b[0;32m<ipython-input-19-1eaa49fabe4c>\u001b[0m in \u001b[0;36m<module>\u001b[0;34m\u001b[0m\n\u001b[0;32m----> 1\u001b[0;31m \u001b[0mr\u001b[0m \u001b[0;34m=\u001b[0m \u001b[0msuma\u001b[0m\u001b[0;34m(\u001b[0m\u001b[0;36m2\u001b[0m\u001b[0;34m,\u001b[0m\u001b[0;36m3\u001b[0m\u001b[0;34m,\u001b[0m\u001b[0;36m4\u001b[0m\u001b[0;34m)\u001b[0m\u001b[0;34m\u001b[0m\u001b[0;34m\u001b[0m\u001b[0m\n\u001b[0m",
      "\u001b[0;31mTypeError\u001b[0m: suma() takes 2 positional arguments but 3 were given"
     ]
    }
   ],
   "source": [
    "r = suma(2,3,4)"
   ]
  },
  {
   "cell_type": "markdown",
   "metadata": {},
   "source": [
    "## Parametros con argumentos por defecto ##\n",
    "\n",
    "Es posible asignar valores por defecto a cada parámetro definido en una función mediante el operado de asignación ( = ).\n",
    "\n",
    "Si a todos los parámetros se les asigna un valor, entonces no es necesario ingresar argumentos al invocar la función, ya que dichos valores serán utilizados. Los argumentos que se ingresen se irán sustituyendo de izquierda a derecha.\n",
    "\n",
    "**Definición**"
   ]
  },
  {
   "cell_type": "code",
   "execution_count": 20,
   "metadata": {},
   "outputs": [],
   "source": [
    "def suma(p1 = 0, p2 = 0):\n",
    "    '''Despliega la suma de dos objetos'''\n",
    "    return p1 + p2"
   ]
  },
  {
   "cell_type": "markdown",
   "metadata": {},
   "source": [
    "**Diferentes invocaciones**"
   ]
  },
  {
   "cell_type": "code",
   "execution_count": 21,
   "metadata": {},
   "outputs": [
    {
     "data": {
      "text/plain": [
       "0"
      ]
     },
     "execution_count": 21,
     "metadata": {},
     "output_type": "execute_result"
    }
   ],
   "source": [
    "suma()"
   ]
  },
  {
   "cell_type": "code",
   "execution_count": 22,
   "metadata": {},
   "outputs": [
    {
     "data": {
      "text/plain": [
       "3"
      ]
     },
     "execution_count": 22,
     "metadata": {},
     "output_type": "execute_result"
    }
   ],
   "source": [
    "suma(3)"
   ]
  },
  {
   "cell_type": "code",
   "execution_count": 23,
   "metadata": {},
   "outputs": [
    {
     "data": {
      "text/plain": [
       "4"
      ]
     },
     "execution_count": 23,
     "metadata": {},
     "output_type": "execute_result"
    }
   ],
   "source": [
    "suma(1,3)"
   ]
  },
  {
   "cell_type": "code",
   "execution_count": 25,
   "metadata": {},
   "outputs": [
    {
     "data": {
      "text/plain": [
       "'aaabbb'"
      ]
     },
     "execution_count": 25,
     "metadata": {},
     "output_type": "execute_result"
    }
   ],
   "source": [
    "suma(\"aaa\", \"bbb\")"
   ]
  },
  {
   "cell_type": "code",
   "execution_count": 24,
   "metadata": {},
   "outputs": [
    {
     "data": {
      "text/plain": [
       "'bbbaaa'"
      ]
     },
     "execution_count": 24,
     "metadata": {},
     "output_type": "execute_result"
    }
   ],
   "source": [
    "suma(p2=\"aaa\", p1=\"bbb\")"
   ]
  },
  {
   "cell_type": "code",
   "execution_count": 26,
   "metadata": {},
   "outputs": [
    {
     "data": {
      "text/plain": [
       "4"
      ]
     },
     "execution_count": 26,
     "metadata": {},
     "output_type": "execute_result"
    }
   ],
   "source": [
    "suma(p2 = 4)"
   ]
  },
  {
   "cell_type": "code",
   "execution_count": 27,
   "metadata": {},
   "outputs": [
    {
     "data": {
      "text/plain": [
       "1"
      ]
     },
     "execution_count": 27,
     "metadata": {},
     "output_type": "execute_result"
    }
   ],
   "source": [
    "suma(p1 = 4, p2 = -3)"
   ]
  },
  {
   "cell_type": "markdown",
   "metadata": {},
   "source": [
    "## Captura de varios argumentos en un parámetro de tipo tuple (*args) ##\n",
    "\n",
    "Es posible definir un parámetro que acepte un número indeterminado de argumentos y que éstos queden guardados dentro de un objeto tipo tuple. Para esto, basta preceder al nombre del parámetro con un solo asterisco (*)."
   ]
  },
  {
   "cell_type": "code",
   "execution_count": 28,
   "metadata": {},
   "outputs": [],
   "source": [
    "def promedio(*muestras):\n",
    "    '''Calcula el promedio de la muestra correspondiente a todos los parámetros ingresados.'''\n",
    "    promedio = sum(muestras)/len(muestras)\n",
    "    print('El promedio de la muestra de %d elementos es %.3f.' %(len(muestras), promedio))"
   ]
  },
  {
   "cell_type": "code",
   "execution_count": 29,
   "metadata": {},
   "outputs": [
    {
     "name": "stdout",
     "output_type": "stream",
     "text": [
      "El promedio de la muestra de 8 elementos es 21.375.\n"
     ]
    }
   ],
   "source": [
    "promedio(1, 3, 5, 8, 11, 24, 90, 29)"
   ]
  },
  {
   "cell_type": "code",
   "execution_count": 30,
   "metadata": {},
   "outputs": [
    {
     "name": "stdout",
     "output_type": "stream",
     "text": [
      "El promedio de la muestra de 3 elementos es 17.667.\n"
     ]
    }
   ],
   "source": [
    "promedio(14, 38, 1)"
   ]
  },
  {
   "cell_type": "markdown",
   "metadata": {},
   "source": [
    "Cuando la función tiene varios parametros; el parámetro que recibe más de un argumento debe definirse al final de la lista de parámetros."
   ]
  },
  {
   "cell_type": "code",
   "execution_count": 31,
   "metadata": {},
   "outputs": [],
   "source": [
    "def promedio(titulo, *muestras):\n",
    "    '''Calcula el promedio de la muestra correspondiente a todos los parámetros ingresados con excepción\n",
    "       del primero, el cual será utilizado como título.'''\n",
    "    promedio = sum(muestras)/len(muestras)\n",
    "    print(titulo)\n",
    "    print('El promedio de la muestra de %d elementos es %.3f.' %(len(muestras), promedio))"
   ]
  },
  {
   "cell_type": "code",
   "execution_count": 32,
   "metadata": {},
   "outputs": [
    {
     "name": "stdout",
     "output_type": "stream",
     "text": [
      "Conteo de abejas en campo.\n",
      "El promedio de la muestra de 7 elementos es 43.286.\n"
     ]
    }
   ],
   "source": [
    "promedio('Conteo de abejas en campo.', 34, 45, 61, 23, 47, 41, 52)"
   ]
  },
  {
   "cell_type": "code",
   "execution_count": 33,
   "metadata": {},
   "outputs": [
    {
     "name": "stdout",
     "output_type": "stream",
     "text": [
      "1\n",
      "El promedio de la muestra de 7 elementos es 24.286.\n"
     ]
    }
   ],
   "source": [
    "promedio(1, 3, 5, 8, 11, 24, 90, 29)"
   ]
  },
  {
   "cell_type": "markdown",
   "metadata": {},
   "source": [
    "## Captura de varios argumentos en un parámetro de tipo dict (**kargs). ##\n",
    "\n",
    "Es posible definir los parámetros y valores que se ingresan a una función mediante el uso de la sintaxis **nombre = valor** y que estos parámetros queden almacenados en un objeto tipo **dict**. Para esto, basta preceder al nombre del parámetro con doble asterisco (**)."
   ]
  },
  {
   "cell_type": "code",
   "execution_count": 34,
   "metadata": {},
   "outputs": [],
   "source": [
    "def superficie(**dato):\n",
    "    '''Calcula la superficie de una figura geométrica si los parámetros  ingresados\n",
    "       coinciden.'''\n",
    "    print(dato)\n",
    "    if dato[\"tipo\"] == \"Rectángulo\":\n",
    "        superficie = float(dato[\"base\"]) * float(dato[\"altura\"])\n",
    "    elif dato[\"tipo\"] == \"Triángulo\":\n",
    "        superficie = float(dato[\"base\"]) * float(dato[\"altura\"]) / 2\n",
    "    elif dato[\"tipo\"] == \"Círculo\":\n",
    "        superficie = float(dato[\"radio\"]) ** 2 * 3.14259265\n",
    "    else:\n",
    "        print(\"No puedo calcular la superficie.\")\n",
    "        superficie = \"indefinido\"\n",
    "    print(\"La superficie del %s es de %s\" % (dato[\"tipo\"].lower(), superficie))"
   ]
  },
  {
   "cell_type": "code",
   "execution_count": 35,
   "metadata": {},
   "outputs": [
    {
     "name": "stdout",
     "output_type": "stream",
     "text": [
      "{'base': 22, 'altura': 30, 'tipo': 'Rectángulo'}\n",
      "La superficie del rectángulo es de 660.0\n"
     ]
    }
   ],
   "source": [
    "superficie(base=22, altura=30, tipo=\"Rectángulo\")"
   ]
  },
  {
   "cell_type": "code",
   "execution_count": 36,
   "metadata": {},
   "outputs": [
    {
     "name": "stdout",
     "output_type": "stream",
     "text": [
      "{'tipo': 'Círculo', 'radio': 35}\n",
      "La superficie del círculo es de 3849.67599625\n"
     ]
    }
   ],
   "source": [
    "superficie(tipo=\"Círculo\", radio = 35)"
   ]
  },
  {
   "cell_type": "code",
   "execution_count": 37,
   "metadata": {},
   "outputs": [
    {
     "name": "stdout",
     "output_type": "stream",
     "text": [
      "{'base': 22, 'altura': 30, 'tipo': 'Rombo'}\n",
      "No puedo calcular la superficie.\n",
      "La superficie del rombo es de indefinido\n"
     ]
    }
   ],
   "source": [
    "superficie(base=22, altura=30, tipo=\"Rombo\")"
   ]
  },
  {
   "cell_type": "code",
   "execution_count": 38,
   "metadata": {},
   "outputs": [
    {
     "name": "stdout",
     "output_type": "stream",
     "text": [
      "{'base': 22, 'altura': 30, 'tipo': 'Rectángulo', 'radio': 6}\n",
      "La superficie del rectángulo es de 660.0\n"
     ]
    }
   ],
   "source": [
    "superficie(base=22, altura=30, tipo=\"Rectángulo\", radio=6)"
   ]
  },
  {
   "cell_type": "markdown",
   "metadata": {},
   "source": [
    "## Funciones anidadas ##"
   ]
  },
  {
   "cell_type": "code",
   "execution_count": 39,
   "metadata": {},
   "outputs": [],
   "source": [
    "def lista_primos(limite=100):\n",
    "    '''Genera una lista de los números primos comprendidos entre el 2 y el valor de limite.'''\n",
    "    #La lista inicia con el número 2\n",
    "    lista = [2]\n",
    "   \n",
    "    def esprimo(numero):\n",
    "        '''Valida si numero es divisible entre algún elemento de lista. De ocurrir, \n",
    "        regresa False. De lo contrario, regresa True.'''\n",
    "        for primo in lista:\n",
    "            if numero % primo == 0:\n",
    "                return False\n",
    "        return True\n",
    "    \n",
    "    #Se realizará una iteración de cada número entero desde 3 hasta el valor de limite.\n",
    "    for numero in range(3, limite + 1):\n",
    "        #Si esprimo(numero) regresa True, añade el valor de numero a lista\n",
    "        if esprimo(numero):\n",
    "            lista.append(numero)\n",
    "    return lista"
   ]
  },
  {
   "cell_type": "code",
   "execution_count": 41,
   "metadata": {},
   "outputs": [
    {
     "data": {
      "text/plain": [
       "[2, 3, 5, 7]"
      ]
     },
     "execution_count": 41,
     "metadata": {},
     "output_type": "execute_result"
    }
   ],
   "source": [
    "lista_primos(10)\n"
   ]
  },
  {
   "cell_type": "markdown",
   "metadata": {},
   "source": [
    "## Funciones de orden superior ##\n",
    "Las funciones de orden superior son funciones que aceptan funciones como argumentos y a su vez regresan funciones.\n",
    "\n",
    "**Ejemplo**: La función **html()** puede recibir una función y regresará una función que de por resultado el cuerpo básico de un documento en HTML5 que envuelva al resultado de la función usada como argumento. Por otro lado, la función **parrafo()** transforma un texto en un párrafo rodeado por las etiquetas HTML correspondientes."
   ]
  },
  {
   "cell_type": "code",
   "execution_count": 42,
   "metadata": {},
   "outputs": [],
   "source": [
    "def html(funcion):\n",
    "    '''Añade las etiquetas básicas de un documento HTML5 al elemento \n",
    "       resultante del argumento funcion.'''\n",
    "    etiquetas = \"<html>\\n  <head>\\n    <title>Página</title>\\n  </head>\\n  <body>\\n    {}\\n  </body>\\n</html>\"\n",
    "   \n",
    "\n",
    "    def empaqueta(texto):\n",
    "        '''Permite encerrar entre etiquetas de HTML5 al resultado de funcion(texto).'''\n",
    "        return etiquetas.format(funcion(texto))\n",
    "    \n",
    "    \n",
    "    return empaqueta"
   ]
  },
  {
   "cell_type": "code",
   "execution_count": 43,
   "metadata": {},
   "outputs": [
    {
     "name": "stdout",
     "output_type": "stream",
     "text": [
      "Help on function html in module __main__:\n",
      "\n",
      "html(funcion)\n",
      "    Añade las etiquetas básicas de un documento HTML5 al elemento \n",
      "    resultante del argumento funcion.\n",
      "\n"
     ]
    }
   ],
   "source": [
    "help(html)"
   ]
  },
  {
   "cell_type": "code",
   "execution_count": 44,
   "metadata": {},
   "outputs": [],
   "source": [
    "def parrafo(texto):\n",
    "    '''Encierra entre las etiquetas de párrafo al elemento texto.'''\n",
    "    return '<p>' + str(texto) + '</p>'"
   ]
  },
  {
   "cell_type": "code",
   "execution_count": 45,
   "metadata": {},
   "outputs": [
    {
     "name": "stdout",
     "output_type": "stream",
     "text": [
      "<p>Hola, Mundo.</p>\n"
     ]
    }
   ],
   "source": [
    "print(parrafo('Hola, Mundo.'))"
   ]
  },
  {
   "cell_type": "code",
   "execution_count": 46,
   "metadata": {},
   "outputs": [
    {
     "name": "stdout",
     "output_type": "stream",
     "text": [
      "Help on function parrafo in module __main__:\n",
      "\n",
      "parrafo(texto)\n",
      "    Encierra entre las etiquetas de párrafo al elemento texto.\n",
      "\n"
     ]
    }
   ],
   "source": [
    "help(parrafo)"
   ]
  },
  {
   "cell_type": "code",
   "execution_count": 47,
   "metadata": {},
   "outputs": [
    {
     "data": {
      "text/plain": [
       "<function __main__.html.<locals>.empaqueta(texto)>"
      ]
     },
     "execution_count": 47,
     "metadata": {},
     "output_type": "execute_result"
    }
   ],
   "source": [
    "html(parrafo)"
   ]
  },
  {
   "cell_type": "code",
   "execution_count": 48,
   "metadata": {},
   "outputs": [
    {
     "data": {
      "text/plain": [
       "'<html>\\n  <head>\\n    <title>Página</title>\\n  </head>\\n  <body>\\n    <p>Hola, Mundo.</p>\\n  </body>\\n</html>'"
      ]
     },
     "execution_count": 48,
     "metadata": {},
     "output_type": "execute_result"
    }
   ],
   "source": [
    "html(parrafo)('Hola, Mundo.')"
   ]
  },
  {
   "cell_type": "code",
   "execution_count": 49,
   "metadata": {},
   "outputs": [
    {
     "name": "stdout",
     "output_type": "stream",
     "text": [
      "<html>\n",
      "  <head>\n",
      "    <title>Página</title>\n",
      "  </head>\n",
      "  <body>\n",
      "    <p>Hola, Mundo.</p>\n",
      "  </body>\n",
      "</html>\n"
     ]
    }
   ],
   "source": [
    "print(html(parrafo)('Hola, Mundo.'))"
   ]
  },
  {
   "cell_type": "code",
   "execution_count": 50,
   "metadata": {},
   "outputs": [
    {
     "name": "stdout",
     "output_type": "stream",
     "text": [
      "Help on function empaqueta in module __main__:\n",
      "\n",
      "empaqueta(texto)\n",
      "    Permite encerrar entre etiquetas de HTML5 al resultado de funcion(texto).\n",
      "\n"
     ]
    }
   ],
   "source": [
    "help(html(parrafo))"
   ]
  },
  {
   "cell_type": "markdown",
   "metadata": {},
   "source": [
    "## Decoradores ##\n",
    "\n",
    "Los decoradores son un recurso de Python que permite aplicar una función de orden superior a otra función con la siguiente sintaxis.\n",
    "\n",
    "```\n",
    "@<nombre de función de orden superior>\n",
    "def <nombre>(<argumentos>):\n",
    "    ...\n",
    "    ...\n",
    "\n",
    "```\n",
    "\n",
    "**Ejemplo**:\n",
    "Se utilizará el decorador de la función html() aplicado a la función parrafo()."
   ]
  },
  {
   "cell_type": "code",
   "execution_count": 51,
   "metadata": {},
   "outputs": [],
   "source": [
    "def html(funcion):\n",
    "    '''Añade las etiquetas básicas de un documento HTML5 al elemento \n",
    "       resultante del argumento funcion.'''\n",
    "    etiquetas = \"<html>\\n  <head>\\n    <title>Página</title>\\n  </head>\\n  <body>\\n    {}\\n  </body>\\n</html>\"\n",
    "    def empaqueta(texto):\n",
    "        '''Permite encerrar entre etiquetas de HTML5 al resultado de funcion(texto).'''\n",
    "        return etiquetas.format(funcion(texto))\n",
    "    return empaqueta"
   ]
  },
  {
   "cell_type": "code",
   "execution_count": 52,
   "metadata": {},
   "outputs": [],
   "source": [
    "@html\n",
    "def parrafo(texto):\n",
    "    '''Encierra entre las etiquetas de párrafo al elemento texto.'''\n",
    "    return '<p>' + str(texto) + '</p>'"
   ]
  },
  {
   "cell_type": "code",
   "execution_count": 53,
   "metadata": {},
   "outputs": [
    {
     "data": {
      "text/plain": [
       "<function __main__.html.<locals>.empaqueta(texto)>"
      ]
     },
     "execution_count": 53,
     "metadata": {},
     "output_type": "execute_result"
    }
   ],
   "source": [
    "parrafo"
   ]
  },
  {
   "cell_type": "code",
   "execution_count": 54,
   "metadata": {},
   "outputs": [
    {
     "name": "stdout",
     "output_type": "stream",
     "text": [
      "<html>\n",
      "  <head>\n",
      "    <title>Página</title>\n",
      "  </head>\n",
      "  <body>\n",
      "    <p>Hola, Mundo.</p>\n",
      "  </body>\n",
      "</html>\n"
     ]
    }
   ],
   "source": [
    "print(parrafo(\"Hola, Mundo.\"))"
   ]
  },
  {
   "cell_type": "code",
   "execution_count": 55,
   "metadata": {},
   "outputs": [
    {
     "name": "stdout",
     "output_type": "stream",
     "text": [
      "Help on function empaqueta in module __main__:\n",
      "\n",
      "empaqueta(texto)\n",
      "    Permite encerrar entre etiquetas de HTML5 al resultado de funcion(texto).\n",
      "\n"
     ]
    }
   ],
   "source": [
    "help(parrafo)"
   ]
  },
  {
   "cell_type": "markdown",
   "metadata": {},
   "source": [
    "## Definición de funciones con la declaración lambda ##\n",
    "\n",
    "Python permite definir funciones en una sola línea mediante el uso del la expresión lambda con la siguiente sintaxis:\n",
    "\n",
    "```\n",
    "lambda <parámetro 1>,  <parámetro 2>...  <parámetro 3> : <expresión>\n",
    "```\n",
    "\n",
    "A este tipo de funciones se les conoce como funciones **lambda** o **funciones anónimas** debido a que no requieren de un nombre para ser definidas.\n",
    "\n",
    "Para nombrar a estas funciones se utiliza el operador de asignación (=)."
   ]
  },
  {
   "cell_type": "code",
   "execution_count": 61,
   "metadata": {},
   "outputs": [],
   "source": [
    "saluda = lambda texto='extraño', ancho=50: 'Hola, {}.'.format(texto).center(ancho)"
   ]
  },
  {
   "cell_type": "code",
   "execution_count": 62,
   "metadata": {},
   "outputs": [
    {
     "data": {
      "text/plain": [
       "function"
      ]
     },
     "execution_count": 62,
     "metadata": {},
     "output_type": "execute_result"
    }
   ],
   "source": [
    "type(saluda)"
   ]
  },
  {
   "cell_type": "code",
   "execution_count": 63,
   "metadata": {},
   "outputs": [
    {
     "data": {
      "text/plain": [
       "'                  Hola, extraño.                  '"
      ]
     },
     "execution_count": 63,
     "metadata": {},
     "output_type": "execute_result"
    }
   ],
   "source": [
    "saluda()"
   ]
  },
  {
   "cell_type": "code",
   "execution_count": 64,
   "metadata": {},
   "outputs": [
    {
     "data": {
      "text/plain": [
       "'    Hola, Mundo.    '"
      ]
     },
     "execution_count": 64,
     "metadata": {},
     "output_type": "execute_result"
    }
   ],
   "source": [
    "saluda('Mundo', 20)"
   ]
  },
  {
   "cell_type": "markdown",
   "metadata": {},
   "source": [
    "### Funciones lambda con estructuras if - else ###\n",
    "\n",
    "Las funciones lambda permiten incluir condicionales dentro de su sintaxis de la siguiente forma:\n",
    "\n",
    "```\n",
    "lambda <parámetros>: <expresion_1> if <condición> else <expresión_2>\n",
    "```\n",
    "\n",
    "**Ejemplo**:\n",
    "\n",
    "**es_par** es una función que valida si un número entero ingresado como parámetro es par."
   ]
  },
  {
   "cell_type": "code",
   "execution_count": 66,
   "metadata": {},
   "outputs": [],
   "source": [
    "es_par = lambda numero: True if numero%2 == 0 else False"
   ]
  },
  {
   "cell_type": "code",
   "execution_count": 67,
   "metadata": {},
   "outputs": [
    {
     "data": {
      "text/plain": [
       "True"
      ]
     },
     "execution_count": 67,
     "metadata": {},
     "output_type": "execute_result"
    }
   ],
   "source": [
    "es_par(2)"
   ]
  },
  {
   "cell_type": "code",
   "execution_count": 68,
   "metadata": {},
   "outputs": [
    {
     "data": {
      "text/plain": [
       "False"
      ]
     },
     "execution_count": 68,
     "metadata": {},
     "output_type": "execute_result"
    }
   ],
   "source": [
    "es_par(3)"
   ]
  },
  {
   "cell_type": "markdown",
   "metadata": {},
   "source": [
    "**Ejemplo**:\n",
    "\n",
    "Crear una función llamada factorial que calcule el factorial de un número mediante recursividad."
   ]
  },
  {
   "cell_type": "code",
   "execution_count": 69,
   "metadata": {},
   "outputs": [],
   "source": [
    "factorial = lambda numero: numero * factorial(numero - 1) if numero > 1 else 1"
   ]
  },
  {
   "cell_type": "code",
   "execution_count": 70,
   "metadata": {},
   "outputs": [
    {
     "data": {
      "text/plain": [
       "120"
      ]
     },
     "execution_count": 70,
     "metadata": {},
     "output_type": "execute_result"
    }
   ],
   "source": [
    "factorial(5)"
   ]
  },
  {
   "cell_type": "code",
   "execution_count": null,
   "metadata": {},
   "outputs": [],
   "source": []
  }
 ],
 "metadata": {
  "kernelspec": {
   "display_name": "Python 3",
   "language": "python",
   "name": "python3"
  },
  "language_info": {
   "codemirror_mode": {
    "name": "ipython",
    "version": 3
   },
   "file_extension": ".py",
   "mimetype": "text/x-python",
   "name": "python",
   "nbconvert_exporter": "python",
   "pygments_lexer": "ipython3",
   "version": "3.7.4"
  }
 },
 "nbformat": 4,
 "nbformat_minor": 2
}

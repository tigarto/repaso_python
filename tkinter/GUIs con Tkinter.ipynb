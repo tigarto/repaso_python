{
 "cells": [
  {
   "cell_type": "markdown",
   "metadata": {},
   "source": [
    "# GUIs con Tkinter #\n",
    "Tkinter es el paquete estándar de desarrollo de interfaces gráficas de Python. Tkinter le ofrece al\n",
    "programador un conjunto de clases para crear elementos gráficos como ventanas con botones,\n",
    "menús, etc. A continuación se presentan ejemplos sencillos progresivos donde se muestra cómo crear\n",
    "GUIs con Tkinter."
   ]
  },
  {
   "cell_type": "markdown",
   "metadata": {},
   "source": [
    "## Ejemplos ##"
   ]
  },
  {
   "cell_type": "markdown",
   "metadata": {},
   "source": [
    "1. **Ventana con un Button**"
   ]
  },
  {
   "cell_type": "code",
   "execution_count": 1,
   "metadata": {},
   "outputs": [],
   "source": [
    "from tkinter import * # Import all definitions from Tkinter\n",
    "window = Tk() # Create a window\n",
    "label = Label(window, text = \"Welcome to Python\") # Create a label\n",
    "button = Button(window, text = \"Click Me\") # Create a button\n",
    "label.pack() # Place the label in the window\n",
    "button.pack() # Place the button in the window\n",
    "window.mainloop() # Create an event loop"
   ]
  },
  {
   "cell_type": "markdown",
   "metadata": {},
   "source": [
    "2. **Botones con eventos**"
   ]
  },
  {
   "cell_type": "code",
   "execution_count": 2,
   "metadata": {},
   "outputs": [
    {
     "name": "stdout",
     "output_type": "stream",
     "text": [
      "Cancel button is clicked\n",
      "Cancel button is clicked\n",
      "Cancel button is clicked\n",
      "OK button is clicked\n",
      "OK button is clicked\n",
      "OK button is clicked\n"
     ]
    }
   ],
   "source": [
    "from tkinter import * # Import all definitions from Tkinter\n",
    "# Handlers\n",
    "\n",
    "def processOK():\n",
    "  print(\"OK button is clicked\")\n",
    "def processCancel():\n",
    "  print(\"Cancel button is clicked\")\n",
    "\n",
    "# Creacion de la ventana, los elementos de esta y registro de los handlers\n",
    "window = Tk() # Create a window\n",
    "btOK = Button(window, text = \"OK\", fg = \"red\", command = processOK)\n",
    "btCancel = Button(window, text = \"Cancel\", bg = \"yellow\", command = processCancel)\n",
    "# Agrgando los elementos\n",
    "btOK.pack() # Place the OK button in the window\n",
    "btCancel.pack() # Place the Cancel button in the window\n",
    "window.mainloop() # Create an event loop"
   ]
  },
  {
   "cell_type": "markdown",
   "metadata": {},
   "source": [
    "3. **Usando un Frame**"
   ]
  },
  {
   "cell_type": "code",
   "execution_count": 3,
   "metadata": {},
   "outputs": [],
   "source": [
    "from tkinter import *\n",
    "window = Tk()\n",
    "frame = Frame(window)\n",
    "frame.pack()\n",
    "first = Label(frame, text=\"First label\")\n",
    "first.pack()\n",
    "second = Label(frame, text=\"Second label\")\n",
    "second.pack()\n",
    "third = Label(frame, text=\"Third label\")\n",
    "third.pack()\n",
    "window.mainloop()"
   ]
  },
  {
   "cell_type": "markdown",
   "metadata": {},
   "source": [
    "4. **Captura de texto con la clase Entry**\n",
    "La siguiente ventana nos permite deducir fácilmente su objetivo: el nombre que se escriba en el\n",
    "cuadro de texto debe aparecer en el saludo al presionar el botón."
   ]
  },
  {
   "cell_type": "code",
   "execution_count": 4,
   "metadata": {},
   "outputs": [],
   "source": [
    "from tkinter import *\n",
    "\n",
    "def desplegarSaludo():\n",
    "  #print(\"Hola \" + entry.get())\n",
    "  label2.config(text = \"Hola \" + entry.get())\n",
    "\n",
    "window = Tk()\n",
    "frame = Frame(window)\n",
    "frame.pack()\n",
    "label1 = Label(frame, text = \"Nombre: \")\n",
    "label1.pack()\n",
    "entry = Entry(frame)\n",
    "entry.pack()\n",
    "label2 = Label(frame, text = \"Hola _________\")\n",
    "label2.pack()\n",
    "btSaludo = Button(frame, text = \"Saludar\", command = desplegarSaludo)\n",
    "btSaludo.pack()\n",
    "\n",
    "window.mainloop()"
   ]
  },
  {
   "cell_type": "markdown",
   "metadata": {},
   "source": [
    "5. **Ejemplo 5**"
   ]
  },
  {
   "cell_type": "code",
   "execution_count": 5,
   "metadata": {},
   "outputs": [],
   "source": [
    "from tkinter import *\n",
    "win=Tk()\n",
    "b1 = Button(win,text=\"One\")\n",
    "b2 = Button(win,text=\"Two\")\n",
    "b1.pack()\n",
    "b2.pack()\n",
    "win.mainloop()"
   ]
  },
  {
   "cell_type": "markdown",
   "metadata": {},
   "source": [
    "6. **Ejemplo 6**"
   ]
  },
  {
   "cell_type": "code",
   "execution_count": 6,
   "metadata": {},
   "outputs": [],
   "source": [
    "from tkinter import *\n",
    "win=Tk()\n",
    "b1 = Button(win,text=\"One\")\n",
    "b2 = Button(win,text=\"Two\")\n",
    "b2.pack(side=LEFT)\n",
    "b1.pack(side=LEFT)\n",
    "win.mainloop()"
   ]
  },
  {
   "cell_type": "markdown",
   "metadata": {},
   "source": [
    "7. **Ejemplo 7**"
   ]
  },
  {
   "cell_type": "code",
   "execution_count": 7,
   "metadata": {},
   "outputs": [],
   "source": [
    "from tkinter import *\n",
    "win=Tk()\n",
    "b1 = Button(win,text=\"One\")\n",
    "b2 = Button(win,text=\"Two\")\n",
    "b1.pack(side=LEFT,padx=10)\n",
    "b2.pack(side=LEFT,padx=10)\n",
    "win.mainloop()"
   ]
  },
  {
   "cell_type": "markdown",
   "metadata": {},
   "source": [
    "8. **Ejemplo 8**"
   ]
  },
  {
   "cell_type": "code",
   "execution_count": 8,
   "metadata": {},
   "outputs": [],
   "source": [
    "from tkinter import *\n",
    "win=Tk()\n",
    "b1 = Button(win,text=\"One\")\n",
    "b2 = Button(win,text=\"Two\")\n",
    "b1.grid(row=0, column=0)\n",
    "b2.grid(row=1, column=1)\n",
    "win.mainloop()"
   ]
  },
  {
   "cell_type": "markdown",
   "metadata": {},
   "source": [
    "9. **Ejemplo 9**"
   ]
  },
  {
   "cell_type": "code",
   "execution_count": 9,
   "metadata": {},
   "outputs": [],
   "source": [
    "from tkinter import *\n",
    "win=Tk()\n",
    "b1 = Button(win,text=\"One\")\n",
    "b2 = Button(win,text=\"Two\")\n",
    "b1.grid(row=0, column=0)\n",
    "b2.grid(row=1, column=1)\n",
    "l = Label(win, text=\"This is a label\")\n",
    "l.grid(row=1,column=0)\n",
    "win.mainloop()"
   ]
  },
  {
   "cell_type": "markdown",
   "metadata": {},
   "source": [
    "10. **Ejemplo 10**"
   ]
  },
  {
   "cell_type": "code",
   "execution_count": 10,
   "metadata": {},
   "outputs": [],
   "source": [
    "from tkinter import *\n",
    "win=Tk()\n",
    "# Se crea el frame\n",
    "f = Frame(win)\n",
    "# Se declaran los widgets (botones), estos van en el frame f\n",
    "b1 = Button(f, text = \"One\")\n",
    "b2 = Button(f, text = \"Two\")\n",
    "b3 = Button(f, text = \"Three\")\n",
    "# Se agregan en el frame los widgets (botones)\n",
    "b1.pack(side = LEFT)\n",
    "b2.pack(side = LEFT)\n",
    "b3.pack(side = LEFT)\n",
    "# Se declara un label\n",
    "l = Label(win,text = \"This label is over all buttons\")\n",
    "# Se agregan los dos elementos principales a la ventana\n",
    "l.pack()\n",
    "f.pack()\n",
    "win.mainloop()"
   ]
  },
  {
   "cell_type": "markdown",
   "metadata": {},
   "source": [
    "11. **Ejemplo 11**"
   ]
  },
  {
   "cell_type": "code",
   "execution_count": 11,
   "metadata": {},
   "outputs": [],
   "source": [
    "from tkinter import *\n",
    "\n",
    "def up_cnt():\n",
    "  global cnt\n",
    "  cnt += 1\n",
    "  l.configure(text = \"Resultado: \" + str(cnt))\n",
    "\n",
    "def down_cnt():\n",
    "  global cnt\n",
    "  cnt -= 1\n",
    "  l.configure(text = \"Resultado: \" + str(cnt))\n",
    "\n",
    "def reset_cnt():\n",
    "  global cnt\n",
    "  cnt = 0\n",
    "  l.configure(text = \"Resultado: \" + str(cnt))\n",
    "\n",
    "win=Tk()\n",
    "cnt = 0\n",
    "# Se crea el frame\n",
    "f = Frame(win)\n",
    "b1 = Button(f, text = \"+\",command = up_cnt)\n",
    "b2 = Button(f, text = \"0\",command = reset_cnt)\n",
    "b3 = Button(f, text = \"-\",command = down_cnt)\n",
    "b1.pack(side = LEFT)\n",
    "b2.pack(side = LEFT)\n",
    "b3.pack(side = LEFT)\n",
    "l = Label(win,text = \"Resultado: \" + str(cnt))\n",
    "f.pack()\n",
    "l.pack()\n",
    "win.mainloop()"
   ]
  },
  {
   "cell_type": "markdown",
   "metadata": {},
   "source": [
    "12. **Ejemplo 12**"
   ]
  },
  {
   "cell_type": "code",
   "execution_count": 22,
   "metadata": {},
   "outputs": [],
   "source": [
    "from tkinter import *\n",
    "\n",
    "win = Tk()\n",
    "box_value = StringVar()\n",
    "box = ttk.Combobox(win, state='readonly', textvariable=box_value)\n",
    "box['values'] = ('Mr.', 'Mrs.')\n",
    "box.current(0)\n",
    "box.pack()\n",
    "win.mainloop()"
   ]
  },
  {
   "cell_type": "markdown",
   "metadata": {},
   "source": [
    "13. **Ejemplo 13**"
   ]
  },
  {
   "cell_type": "code",
   "execution_count": 24,
   "metadata": {},
   "outputs": [],
   "source": [
    "from tkinter import *\n",
    "\n",
    "master = Tk()\n",
    "sl1 = Scale(master, from_=0, to=42)\n",
    "sl1.pack()\n",
    "sl2 = Scale(master, from_=0, to=200, orient=HORIZONTAL)\n",
    "sl2.pack()\n",
    "mainloop()\n"
   ]
  },
  {
   "cell_type": "code",
   "execution_count": null,
   "metadata": {},
   "outputs": [],
   "source": []
  }
 ],
 "metadata": {
  "kernelspec": {
   "display_name": "Python 3",
   "language": "python",
   "name": "python3"
  },
  "language_info": {
   "codemirror_mode": {
    "name": "ipython",
    "version": 3
   },
   "file_extension": ".py",
   "mimetype": "text/x-python",
   "name": "python",
   "nbconvert_exporter": "python",
   "pygments_lexer": "ipython3",
   "version": "3.4.6"
  }
 },
 "nbformat": 4,
 "nbformat_minor": 2
}

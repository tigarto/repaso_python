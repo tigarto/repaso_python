{
 "cells": [
  {
   "cell_type": "markdown",
   "metadata": {},
   "source": [
    "# Ejemplos GUI empleando POO"
   ]
  },
  {
   "cell_type": "markdown",
   "metadata": {},
   "source": [
    "## Descripción ##\n",
    "En los siguientes ejemplos se construye la GUI mostrada a continuación mediante código:\n",
    "\n",
    "![gui](gui_example.png)"
   ]
  },
  {
   "cell_type": "markdown",
   "metadata": {},
   "source": [
    "### Ejemplo 1 ###\n",
    "En este caso se construye una gui sin emplear el concepto de POO."
   ]
  },
  {
   "cell_type": "code",
   "execution_count": 1,
   "metadata": {},
   "outputs": [
    {
     "name": "stdout",
     "output_type": "stream",
     "text": [
      "Pateame!!!\n",
      "Pateame!!!\n",
      "Pateame!!!\n"
     ]
    }
   ],
   "source": [
    "from tkinter import *\n",
    "\n",
    "def eventoClick():\n",
    "  print(\"Pateame!!!\")\n",
    "\n",
    "root = Tk() \n",
    "label = Label(root, text = \"Welcome to Python\") \n",
    "button = Button(root, text = \"Click Me\", command = eventoClick) \n",
    "label.pack()\n",
    "button.pack() \n",
    "root.mainloop()\n"
   ]
  },
  {
   "cell_type": "markdown",
   "metadata": {},
   "source": [
    "### Ejemplo 2 ###\n",
    "En este caso se construye la misma gui emplenando el concepto de POO."
   ]
  },
  {
   "cell_type": "code",
   "execution_count": 2,
   "metadata": {},
   "outputs": [
    {
     "name": "stdout",
     "output_type": "stream",
     "text": [
      "Pateame!!!\n",
      "Pateame!!!\n",
      "Pateame!!!\n"
     ]
    }
   ],
   "source": [
    "from tkinter import *\n",
    "\n",
    "\n",
    "class UIPateame(Frame):\n",
    "\n",
    "  def __init__(self,master = None):\n",
    "    Frame.__init__(self, master)\n",
    "    self.label = Label(self,text = \"Welcome to Python\") \n",
    "    self.button = Button(self, text = \"Click Me\", command = self.eventoClick)    \n",
    "    self.pack()\n",
    "    self.label.pack()\n",
    "    self.button.pack()\n",
    "\n",
    "  def eventoClick(self):\n",
    "    print(\"Pateame!!!\")\n",
    "\n",
    "\n",
    "# Allow the class to run stand-alone.\n",
    "if __name__ == \"__main__\":\n",
    "    app = UIPateame()\n",
    "    app.mainloop()\n"
   ]
  },
  {
   "cell_type": "markdown",
   "metadata": {},
   "source": [
    "### Ejemplo 3 ### \n",
    "En los siguientes casos se muestra la creación de la siguiente interfaz grafica de usuario que permite el calculo de el indice de masa corporal.\n",
    "\n",
    "![imc_guide](imc_guide.png)\n",
    "\n",
    "**Nota**: Como la aplicación hace uso de variables que deben ser actualizadas dede tkinter se deben hacer uso de variables de clase (ver: http://effbot.org/tkinterbook/variable.htm)."
   ]
  },
  {
   "cell_type": "markdown",
   "metadata": {},
   "source": [
    "#### Forma 1 ####\n",
    "La menos ideal pues no emplea en la definición de la interfaz grafica programación orientada a objetos como tal."
   ]
  },
  {
   "cell_type": "code",
   "execution_count": 3,
   "metadata": {},
   "outputs": [],
   "source": [
    "from tkinter import *\n",
    "\n",
    "class IMC:\n",
    "    def __init__(self, h = 0,w = 0):\n",
    "        self.heigh = h/100.0\n",
    "        self.weigh = w\n",
    "    def calcIMC(self):\n",
    "        if self.heigh != 0:\n",
    "            IMC = (self.weigh)/float(self.heigh**2)\n",
    "        else:\n",
    "            IMC = 0\n",
    "        return IMC\n",
    "\n",
    "top = Tk()\n",
    "top.title(\"Calculadora IMC\")\n",
    "imc = DoubleVar()\n",
    "\n",
    "def calc(event):    \n",
    "    if eW.get() == '' or eH.get() == '':\n",
    "        print (\"Faltan argumentos\")\n",
    "    else:\n",
    "        print (\"Se puede proceder a realizar el calculo\")\n",
    "        calcular()\n",
    "\n",
    "def calcular():\n",
    "    global imc\n",
    "    print (\"Boton presionado\")\n",
    "    if not( ):\n",
    "        p = float(eW.get())\n",
    "        h = float(eH.get())\n",
    "        imcO = IMC(h,p)\n",
    "        imc.set(imcO.calcIMC())\n",
    "        print (\"IMC =\",imc.get())\n",
    "\n",
    "# Frames\n",
    "fIn = LabelFrame(top, text = 'Entradas', width = 100, height = 100, relief = 'groove', borderwidth = 4)\n",
    "fInT = Frame(fIn)\n",
    "fInB = Frame(fIn)\n",
    "fCalc = Frame(top, width = 100, height = 100)\n",
    "\n",
    "# Code to add\n",
    "lw = Label(fInT, text = \"Peso (kg): \" , width = 14)\n",
    "lh = Label(fInB, text = \"Altura (cm): \", width = 14 )\n",
    "eW = Entry(fInT, bd =5)\n",
    "eH = Entry(fInB, bd =5)\n",
    "bIMC = Button(fCalc, text =\"Calcular\", command = calcular, padx = 10)\n",
    "eIMC = Entry(fCalc, textvariable = imc, bd =5)\n",
    "\n",
    "# Juntando evento por teclado\n",
    "eW.bind('<Return>',calc)\n",
    "eH.bind('<Return>',calc)\n",
    "\n",
    "fIn.pack(padx = 5, pady = 5, side = 'top')\n",
    "fInT.pack()\n",
    "fInB.pack()\n",
    "fCalc.pack(fill=X, padx=5, pady=5)\n",
    "lw.pack(side = LEFT)\n",
    "eW.pack(side = RIGHT)\n",
    "lh.pack(side = LEFT)\n",
    "eH.pack(side = RIGHT)\n",
    "bIMC.pack(side = LEFT)\n",
    "eIMC.pack(side = RIGHT)\n",
    "eIMC.configure(state = DISABLED) \n",
    "top.resizable(width=FALSE, height=FALSE)\n",
    "#mainloop\n",
    "top.mainloop()"
   ]
  },
  {
   "cell_type": "markdown",
   "metadata": {},
   "source": [
    "#### Forma 2 ####\n",
    "Forma mejorada ya que en este caso, la interfaz grafica de usuario se define como una nueva case que es invocada en el main."
   ]
  },
  {
   "cell_type": "code",
   "execution_count": 4,
   "metadata": {},
   "outputs": [
    {
     "name": "stdout",
     "output_type": "stream",
     "text": [
      "Boton presionado\n"
     ]
    },
    {
     "name": "stderr",
     "output_type": "stream",
     "text": [
      "Exception in Tkinter callback\n",
      "Traceback (most recent call last):\n",
      "  File \"/home/tigarto/miniconda3/lib/python3.7/tkinter/__init__.py\", line 1705, in __call__\n",
      "    return self.func(*args)\n",
      "  File \"<ipython-input-4-7e9de2db375c>\", line 60, in calcular\n",
      "    p = float(self.eW.get())\n",
      "ValueError: could not convert string to float: \n"
     ]
    },
    {
     "name": "stdout",
     "output_type": "stream",
     "text": [
      "Boton presionado\n"
     ]
    },
    {
     "name": "stderr",
     "output_type": "stream",
     "text": [
      "Exception in Tkinter callback\n",
      "Traceback (most recent call last):\n",
      "  File \"/home/tigarto/miniconda3/lib/python3.7/tkinter/__init__.py\", line 1705, in __call__\n",
      "    return self.func(*args)\n",
      "  File \"<ipython-input-4-7e9de2db375c>\", line 60, in calcular\n",
      "    p = float(self.eW.get())\n",
      "ValueError: could not convert string to float: \n"
     ]
    }
   ],
   "source": [
    "from tkinter import *\n",
    "\n",
    "class IMC:\n",
    "    def __init__(self, h = 0,w = 0):\n",
    "        self.heigh = h/100.0\n",
    "        self.weigh = w\n",
    "    def calcIMC(self):\n",
    "        if self.heigh != 0:\n",
    "            IMC = (self.weigh)/float(self.heigh**2)\n",
    "        else:\n",
    "            IMC = 0\n",
    "        return IMC\n",
    "\n",
    "class IMC_UI(Frame):\n",
    "    def __init__(self, master = None):\n",
    "        Frame.__init__(self,master)\n",
    "        self.imc = DoubleVar()\n",
    "        self.pack()\n",
    "          \n",
    "        # Agregando los Frames\n",
    "        self.fIn = LabelFrame(self, text = 'Entradas', width = 100, height = 100, relief = 'groove', borderwidth = 4)\n",
    "        self.fInT = Frame(self.fIn)\n",
    "        self.fInB = Frame(self.fIn)\n",
    "        self.fCalc = Frame(self, width = 100, height = 100)\n",
    "\n",
    "        # Agregando los widgets\n",
    "        self.lw = Label(self.fInT, text = \"Peso (kg): \" , width = 14)\n",
    "        self.lh = Label(self.fInB, text = \"Altura (cm): \", width = 14 )\n",
    "        self.eW = Entry(self.fInT, bd =5 )\n",
    "        #self.eW[\"master\"] = fInT\n",
    "        #self.eW[\"bd\"] = 5\n",
    "        \n",
    "        self.eH = Entry(self.fInB, bd =5)\n",
    "        #self.eH[\"master\"] = fInB\n",
    "        #self.eH[\"bd\"] = 5\n",
    "        \n",
    "        self.bIMC = Button(self.fCalc, text =\"Calcular\", command = self.calcular, padx = 10)\n",
    "        self.eIMC = Entry(self.fCalc, textvariable = self.imc, bd =5)\n",
    "\n",
    "        # Juntando evento por teclado\n",
    "        self.eW.bind('<Return>',self.calc)\n",
    "        self.eH.bind('<Return>',self.calc)\n",
    "\n",
    "        # Ubicando los layouts y widgets en la ventana\n",
    "        self.fIn.pack(padx = 5, pady = 5, side = 'top')\n",
    "        self.fInT.pack()\n",
    "        self.fInB.pack()\n",
    "        self.fCalc.pack(fill=X, padx=5, pady=5)\n",
    "        self.lw.pack(side = LEFT)\n",
    "        self.eW.pack(side = RIGHT)\n",
    "        self.lh.pack(side = LEFT)\n",
    "        self.eH.pack(side = RIGHT)\n",
    "        self.bIMC.pack(side = LEFT)\n",
    "        self.eIMC.pack(side = RIGHT)\n",
    "        self.eIMC.configure(state = DISABLED) \n",
    "\n",
    "    def calcular(self):\n",
    "        print (\"Boton presionado\")\n",
    "        if not( ):\n",
    "            p = float(self.eW.get())\n",
    "            h = float(self.eH.get())\n",
    "            imcO = IMC(h,p)\n",
    "            self.imc.set(imcO.calcIMC())\n",
    "            print (\"IMC =\",self.imc.get())\n",
    "        \n",
    "    def calc(self, event):    \n",
    "        if self.eW.get() == '' or self.eH.get() == '':\n",
    "            print (\"Faltan argumentos\")\n",
    "        else:\n",
    "            print (\"Se puede proceder a realizar el calculo\")\n",
    "            self.calcular() \n",
    "\n",
    "\n",
    "\n",
    "root = Tk()\n",
    "app = IMC_UI(master=root) # Instantiating the App class\n",
    "app.master.title(\"Sample application\") # Sets the title of the window\n",
    "app.mainloop() # Starts the app's main loop; waiting for mouse and keyboard events\n"
   ]
  },
  {
   "cell_type": "markdown",
   "metadata": {},
   "source": [
    "#### Forma 3 ####\n",
    "Definir mediante código la interfaz grafica puede ser una tarea engorrosa si esta requiere mucho detalle, por esta razón, existen herramientas graficas que facilitan el diseño de las interfaces graficas y generan un codigo asociado a estas el cual, combinado con la logica escrita en python permitirá construir la aplicación completa. La herramienta usada para este caso se llama **pygubu**. \n",
    "\n",
    "El comando de instalación es:\n",
    "\n",
    "```bash\n",
    "sudo pip3 install pygubu\n",
    "```\n",
    "\n",
    "Una vez instalada, la herramienta se invoca mediante el siguiente comando de consola:\n",
    "\n",
    "```\n",
    "pygubu-designer \n",
    "```\n",
    "\n",
    "La siguiente imagen muestra el pygubu-designer:\n",
    "\n",
    "\n",
    "![pygubu-designer](pygubu-designer.png)\n",
    "\n",
    "En el caso la implementación diseñada en el pygubu-designer se nombro como [imc_IU3.ui](imc_IU3.ui), este es un archivo de texto en formato **xml** que describe la interfaz grafica:\n",
    "\n",
    "\n",
    "![gui-imc-ui](pygubu-designer_imc.gui.png)\n",
    "\n",
    "Finalmente, lo que resta es juntar la interfaz con el codigo de la logica. Este se muestra a continuación:\n",
    "\n",
    "\n",
    "\n"
   ]
  },
  {
   "cell_type": "code",
   "execution_count": 5,
   "metadata": {},
   "outputs": [
    {
     "ename": "ModuleNotFoundError",
     "evalue": "No module named 'pygubu'",
     "output_type": "error",
     "traceback": [
      "\u001b[0;31m---------------------------------------------------------------------------\u001b[0m",
      "\u001b[0;31mModuleNotFoundError\u001b[0m                       Traceback (most recent call last)",
      "\u001b[0;32m<ipython-input-5-ea16109d3cc9>\u001b[0m in \u001b[0;36m<module>\u001b[0;34m\u001b[0m\n\u001b[1;32m      3\u001b[0m \u001b[0;32mexcept\u001b[0m\u001b[0;34m:\u001b[0m\u001b[0;34m\u001b[0m\u001b[0;34m\u001b[0m\u001b[0m\n\u001b[1;32m      4\u001b[0m     \u001b[0;32mimport\u001b[0m \u001b[0mTkinter\u001b[0m \u001b[0;32mas\u001b[0m \u001b[0mtk\u001b[0m  \u001b[0;31m# for python 2\u001b[0m\u001b[0;34m\u001b[0m\u001b[0;34m\u001b[0m\u001b[0m\n\u001b[0;32m----> 5\u001b[0;31m \u001b[0;32mimport\u001b[0m \u001b[0mpygubu\u001b[0m\u001b[0;34m\u001b[0m\u001b[0;34m\u001b[0m\u001b[0m\n\u001b[0m\u001b[1;32m      6\u001b[0m \u001b[0;34m\u001b[0m\u001b[0m\n\u001b[1;32m      7\u001b[0m \u001b[0;32mclass\u001b[0m \u001b[0mIMC\u001b[0m\u001b[0;34m:\u001b[0m\u001b[0;34m\u001b[0m\u001b[0;34m\u001b[0m\u001b[0m\n",
      "\u001b[0;31mModuleNotFoundError\u001b[0m: No module named 'pygubu'"
     ]
    }
   ],
   "source": [
    "try:\n",
    "    import tkinter as tk  # for python 3\n",
    "except:\n",
    "    import Tkinter as tk  # for python 2\n",
    "import pygubu\n",
    "\n",
    "class IMC:\n",
    "    def __init__(self, h = 0,w = 0):\n",
    "        self.heigh = h/100.0\n",
    "        self.weigh = w\n",
    "    def calcIMC(self):\n",
    "        if self.heigh != 0:\n",
    "            IMC = (self.weigh)/float(self.heigh**2)\n",
    "        else:\n",
    "            IMC = 0\n",
    "        return IMC\n",
    "\n",
    "class Application:\n",
    "    def __init__(self, master):\n",
    "        self.imc = tk.DoubleVar()\n",
    "\n",
    "        #1: Create a builder\n",
    "        self.builder = builder = pygubu.Builder()\n",
    "\n",
    "        #2: Load an ui file\n",
    "        builder.add_from_file('imc_UI3.ui')\n",
    "        \n",
    "        #3: Create the widget using a master as parent\n",
    "        self.mainwindow = builder.get_object('mainWindow', master)\n",
    "        \n",
    "        # Create check button object\n",
    "        self.eW = builder.get_object('eW', self.mainwindow)\n",
    "        self.eH = builder.get_object('eH', self.mainwindow)\n",
    "        self.eIMC = builder.get_object('eIMC', self.mainwindow)\n",
    "        self.eIMC[\"textvariable\"] = self.imc\n",
    "\n",
    "        # Juntando evento por teclado\n",
    "        self.eW.bind('<Return>',self.calc)\n",
    "        self.eH.bind('<Return>',self.calc)\n",
    "\n",
    "\n",
    "        #4: Connect callbacks\n",
    "        builder.connect_callbacks(self)\n",
    "\n",
    "    def calcular(self):\n",
    "        print (\"Boton presionado\")\n",
    "        if not( ):\n",
    "            p = float(self.eW.get())\n",
    "            h = float(self.eH.get())\n",
    "            imcO = IMC(h,p)\n",
    "            self.imc.set(imcO.calcIMC())\n",
    "            print (\"IMC =\",self.imc.get())  \n",
    "\n",
    "    def calc(self, event):    \n",
    "        if self.eW.get() == '' or self.eH.get() == '':\n",
    "            print (\"Faltan argumentos\")\n",
    "        else:\n",
    "            print (\"Se puede proceder a realizar el calculo\")\n",
    "            self.calcular() \n",
    "    \n",
    "if __name__ == '__main__':\n",
    "    root = tk.Tk()\n",
    "    app = Application(root)\n",
    "    root.mainloop()"
   ]
  },
  {
   "cell_type": "markdown",
   "metadata": {},
   "source": [
    "### Ejemplo 4 ###\n",
    "Los siguientes ejemplos muestran las diferentes maneras de crear una interfaz grafica como la mostrada a continuación:\n",
    "\n",
    "![ex_tk_gui](ex_tk_gui.png)\n"
   ]
  },
  {
   "cell_type": "markdown",
   "metadata": {},
   "source": [
    "#### Forma 1 ####\n",
    "Sin usar POO"
   ]
  },
  {
   "cell_type": "code",
   "execution_count": 6,
   "metadata": {},
   "outputs": [
    {
     "name": "stdout",
     "output_type": "stream",
     "text": [
      "Pateame!!!\n",
      "Pateame!!!\n",
      "Pateame!!!\n"
     ]
    }
   ],
   "source": [
    "from tkinter import Label, Button, Tk\n",
    "\n",
    "# The 'callback function' is invoked when the button is pressed.\n",
    "def hello_callback(): \n",
    "    print (\"Pateame!!!\")\n",
    "\n",
    "top = Tk()\n",
    "# Make a Label.\n",
    "l = Label(top, text = \"My Button:\")\n",
    "l.pack()\n",
    "\n",
    "# Make a button.\n",
    "b = Button(top, text = \"Hello\", command = hello_callback)\n",
    "b.pack()\n",
    "\n",
    "top.mainloop()"
   ]
  },
  {
   "cell_type": "markdown",
   "metadata": {},
   "source": [
    "#### Forma 2 ####\n",
    "Usando POO (forma 1)"
   ]
  },
  {
   "cell_type": "code",
   "execution_count": 7,
   "metadata": {},
   "outputs": [
    {
     "name": "stdout",
     "output_type": "stream",
     "text": [
      "Pateame!!!!\n",
      "Pateame!!!!\n",
      "Pateame!!!!\n",
      "Pateame!!!!\n"
     ]
    }
   ],
   "source": [
    "from tkinter import Label, Button,Tk\n",
    "\n",
    "class MyApp:\n",
    "    def __init__ (self, master):\n",
    "        self.l = Label(master,text = \"My Button:\")\n",
    "        self.l.pack()\n",
    "        self.b = Button(master, text = \"Hello\", command = self.hello)\n",
    "        self.b.pack()\n",
    "        \n",
    "    # Function called when the button  is pressed.\n",
    "    def hello(self): \n",
    "        print (\"Pateame!!!!\")\n",
    "\n",
    "\n",
    "top = Tk()\n",
    "# Note that the constructor takes the parent window as an argument.\n",
    "app = MyApp(top)\n",
    "top.mainloop()"
   ]
  },
  {
   "cell_type": "markdown",
   "metadata": {},
   "source": [
    "#### Forma 3 ####\n",
    "Usando POO (forma 2)"
   ]
  },
  {
   "cell_type": "code",
   "execution_count": 9,
   "metadata": {},
   "outputs": [],
   "source": [
    "from tkinter import Label, Button, Frame\n",
    "\n",
    "# Extend the Frame class, to inherit the mainloop function.\n",
    "\n",
    "class MyApp(Frame):\n",
    "    def __init__ (self, master = None):\n",
    "        # Construct the Frame object.\n",
    "        Frame.__init__(self, master)\n",
    "        self.pack()\n",
    "        self.l = Label(self,text = \"My Button:\")\n",
    "        self.l.pack()\n",
    "        self.b = Button(self,text = \"Hello\",command = self.hello)\n",
    "        self.b.pack()\n",
    "    \n",
    "    # Function called when the button is pressed.\n",
    "    def hello(self): \n",
    "        print (\"Pateame!!!\")\n",
    "\n",
    "# Allow the class to run stand-alone.\n",
    "if __name__ == \"__main__\":\n",
    "    MyApp().mainloop()"
   ]
  },
  {
   "cell_type": "markdown",
   "metadata": {},
   "source": [
    "#### Forma 4 ####\n",
    "Usando POO y pygubu"
   ]
  },
  {
   "cell_type": "code",
   "execution_count": null,
   "metadata": {},
   "outputs": [],
   "source": []
  }
 ],
 "metadata": {
  "kernelspec": {
   "display_name": "Python 3",
   "language": "python",
   "name": "python3"
  },
  "language_info": {
   "codemirror_mode": {
    "name": "ipython",
    "version": 3
   },
   "file_extension": ".py",
   "mimetype": "text/x-python",
   "name": "python",
   "nbconvert_exporter": "python",
   "pygments_lexer": "ipython3",
   "version": "3.7.4"
  }
 },
 "nbformat": 4,
 "nbformat_minor": 2
}

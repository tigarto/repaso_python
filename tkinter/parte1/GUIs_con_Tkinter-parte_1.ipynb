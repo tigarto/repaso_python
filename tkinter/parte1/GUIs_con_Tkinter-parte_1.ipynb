{
 "cells": [
  {
   "cell_type": "markdown",
   "metadata": {},
   "source": [
    "# GUIs con Tkinter #\n",
    "Tkinter es el paquete estándar de desarrollo de interfaces gráficas de Python. Tkinter le ofrece al\n",
    "programador un conjunto de clases para crear elementos gráficos como ventanas con botones,\n",
    "menús, etc. A continuación se presentan ejemplos sencillos progresivos donde se muestra cómo crear\n",
    "GUIs con Tkinter.\n",
    "\n",
    "## Instalación ##\n",
    "\n",
    "```\n",
    "sudo apt-get install python-tk\n",
    "```\n",
    "\n",
    "## Para usar el módulo ##\n",
    "\n",
    "```python\n",
    "import tkinter # o import Tkinter si se usa python 2.x\n",
    "```\n",
    "\n",
    "## Pasos básicos ##\n",
    "\n",
    "1. Incluir la librería:\n",
    "\n",
    "```python\n",
    "from tkinter import *\n",
    "```\n",
    "\n",
    "2. Crear la ventana principal o raíz:\n",
    "\n",
    "```python\n",
    "from tkinter import *\n",
    "root = Tk() # Create a window\n",
    "```\n",
    "\n",
    "3. Crear componentes del GUI y funcionalidad. La funcionalidad debe ir antes que el llamado hecho desde el componente grafico.\n",
    "\n",
    "```python\n",
    "from tkinter import *\n",
    "\n",
    "# Funcionalidad (logica de la aplicación)\n",
    "def eventoClick():\n",
    "    print(\"Pateame!!!\")\n",
    "\n",
    "root = Tk() # Create a window\n",
    "label = Label(root, text = \"Welcome to Python\") # Creando un label\n",
    "button = Button(root, text = \"Click Me\", command = eventoClick) # Creando un boton\n",
    "label.pack() # Colocando el label en la ventana raiz\n",
    "button.pack() # Colocando el boton en la ventana raiz\n",
    "```\n",
    "\n",
    "4. Llamar el ciclo principal"
   ]
  },
  {
   "cell_type": "code",
   "execution_count": 1,
   "metadata": {},
   "outputs": [
    {
     "name": "stdout",
     "output_type": "stream",
     "text": [
      "Pateame!!!\n"
     ]
    }
   ],
   "source": [
    "from tkinter import *\n",
    "\n",
    "# Funcionalidad (logica de la aplicación)\n",
    "def eventoClick():\n",
    "    print(\"Pateame!!!\")\n",
    "\n",
    "root = Tk() # Create a window\n",
    "label = Label(root, text = \"Welcome to Python\") # Creando un label\n",
    "button = Button(root, text = \"Click Me\", command = eventoClick) # Creando un boton\n",
    "label.pack() # Colocando el label en la ventana raiz\n",
    "button.pack() # Colocando el boton en la ventana raiz\n",
    "\n",
    "root.mainloop()"
   ]
  },
  {
   "cell_type": "markdown",
   "metadata": {},
   "source": [
    "La ventana resultante (cuyo codigo es [tk_example1.py](tk_example1.py)) se muestra a continuación:\n",
    "\n",
    "![ejemeplo_paso_a_paso](ejemeplo_paso_a_paso.jpg)\n",
    "\n",
    "### En resumen para la creación de una interfaz grafica ###\n",
    "\n",
    "Se tiene en cuenta 1 aspectos:\n",
    "1. La ventana principal:\n",
    "\n",
    "```python\n",
    "root = tkinter.Tk() #root= tk()\n",
    "```\n",
    "\n",
    "2. Creación de Widgets: button, canvas, label,...\n",
    "   * Pueden crearse anidados (contenidos) \n",
    "   * Generalmente tienen funcionalidad asociada a través de callbacks\n",
    "\n",
    "```python\n",
    "myButton = tkinter.Button(root, text='press me')\n",
    "```\n",
    "\n",
    "3. Procesamiento orientado a eventos (event-driven processing)\n",
    "   * Eventos: Clic, hold, mouse, ...\n"
   ]
  },
  {
   "cell_type": "markdown",
   "metadata": {},
   "source": [
    "## Algunos widgets comunmente usados ##\n",
    "\n",
    "A continuación se muestran algunos de los widgets mas comunes:\n",
    "\n",
    "![widgets1](widgets1.jpg)\n",
    "\n",
    "![widgets2](widgets2.jpg)\n",
    "\n",
    "![widgets2](widgets2.jpg)\n",
    "\n"
   ]
  },
  {
   "cell_type": "markdown",
   "metadata": {},
   "source": [
    "## Layouts ##\n",
    "\n",
    "Un layout es un widget que contiene (alberga) otros widgets permitiendo organizar mejor los elementos de modo que la aplicación gráfica quede más amigable. A continuación se muestran los principales:\n",
    "\n",
    "1. [**pack**](http://effbot.org/tkinterbook/pack.htm): Empaquetar Widgets en contenedores (uno tras otro) de manera horizontal o vertical.\n",
    "\n",
    "![fig_pack](fig_pack.jpg)\n",
    "\n",
    "2. [**grid**](http://effbot.org/tkinterbook/grid.htm): Ubica los componentes basado en las coordenadas de un grid (row, column).\n",
    "\n",
    "![fig_grid](fig_grid.jpg)\n",
    "\n",
    "3. [**place**](http://effbot.org/tkinterbook/place.htm): Definir tamaño y ubicación de widgets (manual)\n",
    "\n",
    "![fig_place](fig_place.jpg)\n"
   ]
  },
  {
   "cell_type": "markdown",
   "metadata": {},
   "source": [
    "### Layouts con pack ###\n",
    "Parametros más comunes:\n",
    "* **side**: Determina como se iran apilando los widgets. Se le puede asignar uno de los siguientes valores tipo string 'left', 'right', 'up', o 'down'.\n",
    "* **padx** y **pady**: Se usan para dar un padding (measured in pixels) alrededor del widget.\n",
    "\n",
    "Teniendo en cuenta lo anterior, la siguiente figura es generada por el codigo ([tk_example2.py](tk_example2.py)) de abajo:\n",
    "\n",
    "![pack_example](pack_example.jpg)"
   ]
  },
  {
   "cell_type": "code",
   "execution_count": 2,
   "metadata": {},
   "outputs": [],
   "source": [
    "from tkinter import *\n",
    "top = Tk()\n",
    "def main():\n",
    "    top['bg'] = 'light gray'\n",
    "    Button(top, text=\"Left 1\").pack(side='left')\n",
    "    Button(top, text=\"Left 2\").pack(side='left')\n",
    "    Button(top, text=\"Right 1\").pack(side='right')\n",
    "    Button(top, text=\"Right 2\").pack(side='right', padx=10)\n",
    "    Button(top, text=\"Top 1\").pack(side='top')\n",
    "    Button(top, text=\"Top 2\").pack(side='top')\n",
    "    Button(top, text=\"Bottom 1\").pack(side='bottom')\n",
    "    Button(top, text=\"Bottom 2\").pack(side='bottom', pady=10)\n",
    "    mainloop()\n",
    "main()"
   ]
  },
  {
   "cell_type": "markdown",
   "metadata": {},
   "source": [
    "### Layouts con grid ###\n",
    "El método **grid** tiene como parametros **row** y **column** asi como **padx** y **pady**.\n",
    "\n",
    "La siguiente figura es generada por el codigo ([tk_example3.py](tk_example3.py)) de abajo:\n",
    "\n",
    "![grid_example](grid_example.jpg)"
   ]
  },
  {
   "cell_type": "code",
   "execution_count": 3,
   "metadata": {},
   "outputs": [],
   "source": [
    "from tkinter import *\n",
    "\n",
    "top = Tk()\n",
    "\n",
    "def main():\n",
    "    top['bg'] = 'light gray'\n",
    "    Button(top, text=\"One\").grid(row=0, column=0)\n",
    "    Button(top, text=\"Two\").grid(row=0, column=1, pady=10)\n",
    "    Button(top, text=\"Three\").grid(row=0, column=2)\n",
    "    Button(top, text=\"Four\").grid(row=1, column=2)\n",
    "    Button(top, text=\"Five\").grid(row=1, column=1)\n",
    "    Button(top, text=\"Six\").grid(row=1, column=0)\n",
    "    mainloop()\n",
    "\n",
    "main()"
   ]
  },
  {
   "cell_type": "markdown",
   "metadata": {},
   "source": [
    "### Layouts con Frame ###\n",
    "\n",
    "Los Frames son usados para albergar y organizar otros widgets. La siguiente figura es generada por el codigo ([tk_example4.py](tk_example4.py)) de abajo:\n",
    "\n",
    "![frame_example](frame_example.jpg)\n"
   ]
  },
  {
   "cell_type": "code",
   "execution_count": 4,
   "metadata": {},
   "outputs": [],
   "source": [
    "from tkinter import *\n",
    "\n",
    "top = Tk()\n",
    "\n",
    "def main():\n",
    "    frame1 = Frame(top, bg = '#FFCCCC')\n",
    "    frame1.pack(side=LEFT)\n",
    "    Button(frame1, text=\"One\", fg='red').grid(row=0,column=0)\n",
    "    Button(frame1, text=\"Two\").grid(row=0, column=1, pady=10)\n",
    "    Button(frame1, text=\"Three\").grid(row=0, column=2)\n",
    "    frame2 = Frame(top, bg='cyan')\n",
    "    frame2.pack(side='right')\n",
    "    Button(frame2, text=\"Big Fat Four\").pack(side=TOP)\n",
    "    Button(frame2, text=\"Five\").pack(side='top')\n",
    "    Button(frame2, text=\"Six\").pack(side='top',fill=BOTH)\n",
    "    mainloop()\n",
    "\n",
    "main()"
   ]
  },
  {
   "cell_type": "markdown",
   "metadata": {},
   "source": [
    "## Variables ##\n",
    "Permiten cambiar dinámicamente el valor o texto desplegado en un widget (por ejemplo el texto en un Label). Cada variable Tkinter tiene unos metodos **set()** y **get()** lo cual hace posible leer y cambiar el valor de la variable. La siguiente tabla muestra las variables disponibles:\n",
    "\n",
    "|Manager |Description| Examples|\n",
    "|:----|:----|:----|\n",
    "|```BooleanVar```|Trabaja con valores booleanos | ```True```, ```False```|\n",
    "|```DoubleVar```|Trabaja con valores reales | ```-68.0```, ```2.7182821```|\n",
    "|```IntVar```|Trabaja con valores reales | ```-1```, ```0```, ```42```|\n",
    "|```StringVar```|Trabaja con strings | ```\"Hello\"```, ```\"world!\"```|\n",
    "\n",
    "Para saber más puede consultar la siguiente [pagina](http://effbot.org/tkinterbook/variable.htm). En la siguiente figura se muestra el resultado del codigo ([tk_example5.py](tk_example5.py)) de abajo en el cual se hacen uso de variables:\n",
    "\n",
    "![variables_ejemplo](variables_ejemplo.jpg)"
   ]
  },
  {
   "cell_type": "code",
   "execution_count": 5,
   "metadata": {},
   "outputs": [],
   "source": [
    "import tkinter as tk\n",
    "\n",
    "# Declare global variables\n",
    "counter = None\n",
    "\n",
    "# This function is called whenever the button is pressed\n",
    "def count():\n",
    "    global counter\n",
    "    # Increment counter by 1\n",
    "    counter.set(counter.get() + 1)\n",
    "\n",
    "# Create the main window\n",
    "root = tk.Tk()\n",
    "root.title(\"Counter\")\n",
    "\n",
    "# Tkinter variable for holding a counter\n",
    "counter = tk.IntVar()\n",
    "counter.set(0)\n",
    "\n",
    "# Create widgets (note that command is set to count and not count() )\n",
    "label_counter = tk.Label(root, width=7, textvariable=counter)\n",
    "button_counter = tk.Button(root, text=\"Count\", command=count)\n",
    "\n",
    "# Lay out widgets\n",
    "label_counter.pack()\n",
    "button_counter.pack()\n",
    "\n",
    "# Run forever!\n",
    "root.mainloop()"
   ]
  },
  {
   "cell_type": "markdown",
   "metadata": {},
   "source": [
    "## Tips para la creación de interfaces graficas ##\n",
    "\n",
    "### Forma en la que no se emplea POO ###\n",
    "\n",
    "El siguiente ejemplo ([tk_example_sinPOO.py](tk_example_sinPOO.py)) cuya interfaz se muestra a continuación ilustra esto:\n",
    "\n",
    "![gui_sin_poo](gui_sin_poo.jpg)"
   ]
  },
  {
   "cell_type": "code",
   "execution_count": 6,
   "metadata": {},
   "outputs": [
    {
     "name": "stdout",
     "output_type": "stream",
     "text": [
      "Pateame!!!\n",
      "Pateame!!!\n"
     ]
    }
   ],
   "source": [
    "from tkinter import *\n",
    "\n",
    "def eventoClick():\n",
    "    print(\"Pateame!!!\")\n",
    "\n",
    "root = Tk() \n",
    "label = Label(root, text = \"Welcome to Python\") \n",
    "button = Button(root, text = \"Click Me\", command = eventoClick) \n",
    "label.pack()\n",
    "button.pack() \n",
    "root.mainloop()"
   ]
  },
  {
   "cell_type": "markdown",
   "metadata": {},
   "source": [
    "### Forma en la que se emplea POO ###\n",
    "\n",
    "El siguiente ejemplo ([tk_example_POO.py](tk_example_POO.py)) cuya interfaz se muestra a continuación ilustra esto:\n",
    "\n",
    "![gui_poo](gui_poo.jpg)"
   ]
  },
  {
   "cell_type": "code",
   "execution_count": 7,
   "metadata": {},
   "outputs": [
    {
     "name": "stdout",
     "output_type": "stream",
     "text": [
      "Pateame!!!\n",
      "Pateame!!!\n",
      "Pateame!!!\n"
     ]
    }
   ],
   "source": [
    "from tkinter import *\n",
    "\n",
    "\n",
    "class UIPateame(Frame):\n",
    "\n",
    "  def __init__(self,master = None):\n",
    "    Frame.__init__(self, master)\n",
    "    self.label = Label(self,text = \"Welcome to Python\") \n",
    "    self.button = Button(self, text = \"Click Me\", \\\n",
    "                         command = self.eventoClick)    \n",
    "    self.pack()\n",
    "    self.label.pack()\n",
    "    self.button.pack()\n",
    "\n",
    "  def eventoClick(self):\n",
    "    print(\"Pateame!!!\")\n",
    "\n",
    "\n",
    "# Allow the class to run stand-alone.\n",
    "if __name__ == \"__main__\":\n",
    "    app = UIPateame()\n",
    "    app.mainloop()\n"
   ]
  },
  {
   "cell_type": "markdown",
   "metadata": {},
   "source": [
    "## Ejemplos ##"
   ]
  },
  {
   "cell_type": "markdown",
   "metadata": {},
   "source": [
    "### Ejemplo 1 - Ventana con un Button ###\n",
    "\n",
    "A continuación se muestra la ventana generada por el código de abajo:\n",
    "\n",
    "![ejemplo1](ejemplo1.jpg)"
   ]
  },
  {
   "cell_type": "code",
   "execution_count": 2,
   "metadata": {},
   "outputs": [],
   "source": [
    "from tkinter import * # Import all definitions from Tkinter\n",
    "window = Tk() # Create a window\n",
    "label = Label(window, text = \"Welcome to Python\") # Create a label\n",
    "button = Button(window, text = \"Click Me\") # Create a button\n",
    "label.pack() # Place the label in the window\n",
    "button.pack() # Place the button in the window\n",
    "window.mainloop() # Create an event loop"
   ]
  },
  {
   "cell_type": "markdown",
   "metadata": {},
   "source": [
    "### Ejemplo 2 - Botones con eventos ###\n",
    "\n",
    "A continuación se muestra la ventana generada por el código de abajo:\n",
    "\n",
    "![ejemplo2](ejemplo2.jpg)"
   ]
  },
  {
   "cell_type": "code",
   "execution_count": 4,
   "metadata": {},
   "outputs": [
    {
     "name": "stdout",
     "output_type": "stream",
     "text": [
      "OK button is clicked\n",
      "OK button is clicked\n",
      "Cancel button is clicked\n",
      "Cancel button is clicked\n"
     ]
    }
   ],
   "source": [
    "from tkinter import * # Import all definitions from Tkinter\n",
    "# Handlers\n",
    "\n",
    "def processOK():\n",
    "  print(\"OK button is clicked\")\n",
    "def processCancel():\n",
    "  print(\"Cancel button is clicked\")\n",
    "\n",
    "# Creacion de la ventana, los elementos de esta y registro de los handlers\n",
    "window = Tk() # Create a window\n",
    "btOK = Button(window, text = \"OK\", fg = \"red\", command = processOK)\n",
    "btCancel = Button(window, text = \"Cancel\", bg = \"yellow\", command = processCancel)\n",
    "# Agrgando los elementos\n",
    "btOK.pack() # Place the OK button in the window\n",
    "btCancel.pack() # Place the Cancel button in the window\n",
    "window.mainloop() # Create an event loop"
   ]
  },
  {
   "cell_type": "markdown",
   "metadata": {},
   "source": [
    "### Ejemplo 3 - Usando un Frame ###\n",
    "\n",
    "A continuación se muestra la ventana generada por el código de abajo:\n",
    "\n",
    "![ejemplo3](ejemplo3.jpg)"
   ]
  },
  {
   "cell_type": "code",
   "execution_count": 5,
   "metadata": {},
   "outputs": [],
   "source": [
    "from tkinter import *\n",
    "window = Tk()\n",
    "frame = Frame(window)\n",
    "frame.pack()\n",
    "first = Label(frame, text=\"First label\")\n",
    "first.pack()\n",
    "second = Label(frame, text=\"Second label\")\n",
    "second.pack()\n",
    "third = Label(frame, text=\"Third label\")\n",
    "third.pack()\n",
    "window.mainloop()"
   ]
  },
  {
   "cell_type": "markdown",
   "metadata": {},
   "source": [
    "### Ejemplo 4 - Captura de texto con la clase Entry ###\n",
    "La siguiente ventana nos permite deducir fácilmente su objetivo: el nombre que se escriba en el\n",
    "cuadro de texto debe aparecer en el saludo al presionar el botón.\n",
    "\n",
    "A continuación se muestra la ventana generada por el código de abajo:\n",
    "\n",
    "![ejemplo4](ejemplo4.jpg)"
   ]
  },
  {
   "cell_type": "code",
   "execution_count": 6,
   "metadata": {},
   "outputs": [],
   "source": [
    "from tkinter import *\n",
    "\n",
    "def desplegarSaludo():\n",
    "  #print(\"Hola \" + entry.get())\n",
    "  label2.config(text = \"Hola \" + entry.get())\n",
    "\n",
    "window = Tk()\n",
    "frame = Frame(window)\n",
    "frame.pack()\n",
    "label1 = Label(frame, text = \"Nombre: \")\n",
    "label1.pack()\n",
    "entry = Entry(frame)\n",
    "entry.pack()\n",
    "label2 = Label(frame, text = \"Hola _________\")\n",
    "label2.pack()\n",
    "btSaludo = Button(frame, text = \"Saludar\", command = desplegarSaludo)\n",
    "btSaludo.pack()\n",
    "\n",
    "window.mainloop()"
   ]
  },
  {
   "cell_type": "markdown",
   "metadata": {},
   "source": [
    "### Ejemplo 5 ###\n",
    "\n",
    "A continuación se muestra la ventana generada por el código de abajo:\n",
    "\n",
    "![ejemplo5](ejemplo5.jpg)"
   ]
  },
  {
   "cell_type": "code",
   "execution_count": 7,
   "metadata": {},
   "outputs": [],
   "source": [
    "from tkinter import *\n",
    "win=Tk()\n",
    "b1 = Button(win,text=\"One\")\n",
    "b2 = Button(win,text=\"Two\")\n",
    "b1.pack()\n",
    "b2.pack()\n",
    "win.mainloop()"
   ]
  },
  {
   "cell_type": "markdown",
   "metadata": {},
   "source": [
    "### Ejemplo 6 ###\n",
    "\n",
    "A continuación se muestra la ventana generada por el código de abajo:\n",
    "\n",
    "![ejemplo6](ejemplo6.jpg)"
   ]
  },
  {
   "cell_type": "code",
   "execution_count": 10,
   "metadata": {},
   "outputs": [],
   "source": [
    "from tkinter import *\n",
    "win=Tk()\n",
    "b1 = Button(win,text=\"One\")\n",
    "b2 = Button(win,text=\"Two\")\n",
    "b2.pack(side=LEFT)\n",
    "b1.pack(side=LEFT)\n",
    "win.mainloop()"
   ]
  },
  {
   "cell_type": "markdown",
   "metadata": {},
   "source": [
    "### Ejemplo 7 ###\n",
    "\n",
    "A continuación se muestra la ventana generada por el código de abajo:\n",
    "\n",
    "![ejemplo7](ejemplo7.jpg)"
   ]
  },
  {
   "cell_type": "code",
   "execution_count": 11,
   "metadata": {},
   "outputs": [],
   "source": [
    "from tkinter import *\n",
    "win=Tk()\n",
    "b1 = Button(win,text=\"One\")\n",
    "b2 = Button(win,text=\"Two\")\n",
    "b1.pack(side=LEFT,padx=10)\n",
    "b2.pack(side=LEFT,padx=10)\n",
    "win.mainloop()"
   ]
  },
  {
   "cell_type": "markdown",
   "metadata": {},
   "source": [
    "### Ejemplo 8 ###\n",
    "\n",
    "A continuación se muestra la ventana generada por el código de abajo:\n",
    "\n",
    "![ejemplo8](ejemplo8.jpg)"
   ]
  },
  {
   "cell_type": "code",
   "execution_count": 12,
   "metadata": {},
   "outputs": [],
   "source": [
    "from tkinter import *\n",
    "win=Tk()\n",
    "b1 = Button(win,text=\"One\")\n",
    "b2 = Button(win,text=\"Two\")\n",
    "b1.grid(row=0, column=0)\n",
    "b2.grid(row=1, column=1)\n",
    "win.mainloop()"
   ]
  },
  {
   "cell_type": "markdown",
   "metadata": {},
   "source": [
    "### Ejemplo 9 ###\n",
    "\n",
    "A continuación se muestra la ventana generada por el código de abajo:\n",
    "\n",
    "![ejemplo9](ejemplo9.jpg)"
   ]
  },
  {
   "cell_type": "code",
   "execution_count": 13,
   "metadata": {},
   "outputs": [],
   "source": [
    "from tkinter import *\n",
    "win=Tk()\n",
    "b1 = Button(win,text=\"One\")\n",
    "b2 = Button(win,text=\"Two\")\n",
    "b1.grid(row=0, column=0)\n",
    "b2.grid(row=1, column=1)\n",
    "l = Label(win, text=\"This is a label\")\n",
    "l.grid(row=1,column=0)\n",
    "win.mainloop()"
   ]
  },
  {
   "cell_type": "markdown",
   "metadata": {},
   "source": [
    "### Ejemplo 10 ###\n",
    "\n",
    "A continuación se muestra la ventana generada por el código de abajo:\n",
    "\n",
    "![ejemplo10](ejemplo10.jpg)"
   ]
  },
  {
   "cell_type": "code",
   "execution_count": 14,
   "metadata": {},
   "outputs": [],
   "source": [
    "from tkinter import *\n",
    "win=Tk()\n",
    "# Se crea el frame\n",
    "f = Frame(win)\n",
    "# Se declaran los widgets (botones), estos van en el frame f\n",
    "b1 = Button(f, text = \"One\")\n",
    "b2 = Button(f, text = \"Two\")\n",
    "b3 = Button(f, text = \"Three\")\n",
    "# Se agregan en el frame los widgets (botones)\n",
    "b1.pack(side = LEFT)\n",
    "b2.pack(side = LEFT)\n",
    "b3.pack(side = LEFT)\n",
    "# Se declara un label\n",
    "l = Label(win,text = \"This label is over all buttons\")\n",
    "# Se agregan los dos elementos principales a la ventana\n",
    "l.pack()\n",
    "f.pack()\n",
    "win.mainloop()"
   ]
  },
  {
   "cell_type": "markdown",
   "metadata": {},
   "source": [
    "### Ejemplo 11 ###\n",
    "\n",
    "A continuación se muestra la ventana generada por el código de abajo:\n",
    "\n",
    "![ejemplo11](ejemplo11.jpg)"
   ]
  },
  {
   "cell_type": "code",
   "execution_count": 15,
   "metadata": {},
   "outputs": [],
   "source": [
    "from tkinter import *\n",
    "\n",
    "def up_cnt():\n",
    "  global cnt\n",
    "  cnt += 1\n",
    "  l.configure(text = \"Resultado: \" + str(cnt))\n",
    "\n",
    "def down_cnt():\n",
    "  global cnt\n",
    "  cnt -= 1\n",
    "  l.configure(text = \"Resultado: \" + str(cnt))\n",
    "\n",
    "def reset_cnt():\n",
    "  global cnt\n",
    "  cnt = 0\n",
    "  l.configure(text = \"Resultado: \" + str(cnt))\n",
    "\n",
    "win=Tk()\n",
    "cnt = 0\n",
    "# Se crea el frame\n",
    "f = Frame(win)\n",
    "b1 = Button(f, text = \"+\",command = up_cnt)\n",
    "b2 = Button(f, text = \"0\",command = reset_cnt)\n",
    "b3 = Button(f, text = \"-\",command = down_cnt)\n",
    "b1.pack(side = LEFT)\n",
    "b2.pack(side = LEFT)\n",
    "b3.pack(side = LEFT)\n",
    "l = Label(win,text = \"Resultado: \" + str(cnt))\n",
    "f.pack()\n",
    "l.pack()\n",
    "win.mainloop()"
   ]
  },
  {
   "cell_type": "markdown",
   "metadata": {},
   "source": [
    "### Ejemplo 12 ###\n",
    "\n",
    "A continuación se muestra la ventana generada por el código de abajo:\n",
    "\n",
    "![ejemplo12](ejemplo12.jpg)"
   ]
  },
  {
   "cell_type": "code",
   "execution_count": 20,
   "metadata": {},
   "outputs": [],
   "source": [
    "from tkinter import *\n",
    "import tkinter.ttk as ttk\n",
    "\n",
    "win = Tk()\n",
    "box_value = StringVar()\n",
    "box = ttk.Combobox(win, state='readonly', textvariable=box_value)\n",
    "box['values'] = ('Mr.', 'Mrs.')\n",
    "box.current(0)\n",
    "box.pack()\n",
    "win.mainloop()"
   ]
  },
  {
   "cell_type": "markdown",
   "metadata": {},
   "source": [
    "### Ejemplo 13 ###\n",
    "\n",
    "A continuación se muestra la ventana generada por el código de abajo:\n",
    "\n",
    "![ejemplo13](ejemplo13.jpg)"
   ]
  },
  {
   "cell_type": "code",
   "execution_count": 8,
   "metadata": {},
   "outputs": [],
   "source": [
    "from tkinter import *\n",
    "\n",
    "master = Tk()\n",
    "sl1 = Scale(master, from_=0, to=42)\n",
    "sl1.pack()\n",
    "sl2 = Scale(master, from_=0, to=200, orient=HORIZONTAL)\n",
    "sl2.pack()\n",
    "mainloop()\n"
   ]
  },
  {
   "cell_type": "code",
   "execution_count": null,
   "metadata": {},
   "outputs": [],
   "source": []
  }
 ],
 "metadata": {
  "kernelspec": {
   "display_name": "Python 3",
   "language": "python",
   "name": "python3"
  },
  "language_info": {
   "codemirror_mode": {
    "name": "ipython",
    "version": 3
   },
   "file_extension": ".py",
   "mimetype": "text/x-python",
   "name": "python",
   "nbconvert_exporter": "python",
   "pygments_lexer": "ipython3",
   "version": "3.7.4"
  }
 },
 "nbformat": 4,
 "nbformat_minor": 2
}
